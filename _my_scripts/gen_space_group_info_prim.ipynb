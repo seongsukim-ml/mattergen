{
 "cells": [
  {
   "cell_type": "code",
   "execution_count": 10,
   "metadata": {},
   "outputs": [],
   "source": [
    "import pandas as pd\n",
    "from pymatgen.io.cif import CifParser\n",
    "from pyxtal import pyxtal\n",
    "from pymatgen.symmetry.analyzer import SpacegroupAnalyzer\n",
    "import numpy as np\n",
    "from pyxtal.io import write_cif\n",
    "\n",
    "from pymatgen.core.structure import Structure\n",
    "from tqdm import tqdm\n",
    "import pickle\n",
    "from p_tqdm import p_map\n",
    "import argparse\n",
    "import os\n",
    "from pathlib import Path\n",
    "import warnings\n",
    "\n",
    "warnings.filterwarnings(\"ignore\")\n",
    "import json"
   ]
  },
  {
   "cell_type": "code",
   "execution_count": 11,
   "metadata": {},
   "outputs": [],
   "source": [
    "directory = \"/home/holywater2/crystal_gen/mattergen/_my_scripts/space_group_info/prim/alex_mp_20_train/\"\n",
    "directory = \"/home/holywater2/crystal_gen/mattergen/_my_scripts/space_group_info/prim/mp_20_train/\""
   ]
  },
  {
   "cell_type": "code",
   "execution_count": 12,
   "metadata": {},
   "outputs": [],
   "source": [
    "sym_info_name = \"sym_info.json\""
   ]
  },
  {
   "cell_type": "code",
   "execution_count": 13,
   "metadata": {},
   "outputs": [],
   "source": [
    "with open(directory + sym_info_name, \"r\") as f:\n",
    "    sym_info_all = json.load(f)"
   ]
  },
  {
   "cell_type": "code",
   "execution_count": 14,
   "metadata": {},
   "outputs": [],
   "source": [
    "sg_counts = {}\n",
    "for i in range(1, 231):\n",
    "    sg_counts[i] = 0\n",
    "for key in sym_info_all.keys():\n",
    "    sg = sym_info_all[key][\"spacegroup\"]\n",
    "    if sg not in sg_counts:\n",
    "        sg_counts[sg] = 0\n",
    "    sg_counts[sg] += 1"
   ]
  },
  {
   "cell_type": "code",
   "execution_count": 15,
   "metadata": {},
   "outputs": [],
   "source": [
    "# save the space group counts\n",
    "with open(directory + \"sg_counts.json\", \"w\") as f:\n",
    "    json.dump(sg_counts, f)"
   ]
  },
  {
   "cell_type": "code",
   "execution_count": 16,
   "metadata": {},
   "outputs": [],
   "source": [
    "infos = {}\n",
    "for i in range(1, 231):\n",
    "    infos[i] = []\n",
    "for key in sym_info_all.keys():\n",
    "    sg = sym_info_all[key][\"spacegroup\"]\n",
    "    infos[sg].append({**sym_info_all[key], \"key\": key})"
   ]
  },
  {
   "cell_type": "code",
   "execution_count": 17,
   "metadata": {},
   "outputs": [],
   "source": [
    "with open(directory + \"sg_infos.json\", \"w\") as f:\n",
    "    json.dump(infos, f)"
   ]
  }
 ],
 "metadata": {
  "kernelspec": {
   "display_name": ".venv",
   "language": "python",
   "name": "python3"
  },
  "language_info": {
   "codemirror_mode": {
    "name": "ipython",
    "version": 3
   },
   "file_extension": ".py",
   "mimetype": "text/x-python",
   "name": "python",
   "nbconvert_exporter": "python",
   "pygments_lexer": "ipython3",
   "version": "3.10.15"
  }
 },
 "nbformat": 4,
 "nbformat_minor": 2
}
