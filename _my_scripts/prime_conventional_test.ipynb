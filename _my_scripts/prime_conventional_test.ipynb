{
 "cells": [
  {
   "cell_type": "code",
   "execution_count": 1,
   "metadata": {},
   "outputs": [],
   "source": [
    "from util import *\n",
    "from visualizer import visualizer\n",
    "vis = visualizer()"
   ]
  },
  {
   "cell_type": "code",
   "execution_count": 131,
   "metadata": {},
   "outputs": [
    {
     "name": "stderr",
     "output_type": "stream",
     "text": [
      "/home/holywater2/crystal_gen/mattergen/_my_scripts/util.py:48: FutureWarning: get_structures is deprecated; use parse_structures in pymatgen.io.cif instead.\n",
      "The only difference is that primitive defaults to False in the new parse_structures method.So parse_structures(primitive=True) is equivalent to the old behavior of get_structures().\n",
      "  structure = CifParser.from_str(cif_str).get_structures()[0]\n",
      "/home/holywater2/crystal_gen/mattergen/.venv/lib/python3.10/site-packages/pymatgen/io/cif.py:1304: UserWarning: Issues encountered while parsing CIF: 4 fractional coordinates rounded to ideal values to avoid issues with finite precision.\n",
      "  warnings.warn(\"Issues encountered while parsing CIF: \" + \"\\n\".join(self.warnings))\n",
      "/home/holywater2/crystal_gen/mattergen/.venv/lib/python3.10/site-packages/pymatgen/io/cif.py:1304: UserWarning: Issues encountered while parsing CIF: 8 fractional coordinates rounded to ideal values to avoid issues with finite precision.\n",
      "  warnings.warn(\"Issues encountered while parsing CIF: \" + \"\\n\".join(self.warnings))\n",
      "/home/holywater2/crystal_gen/mattergen/.venv/lib/python3.10/site-packages/pymatgen/io/cif.py:1304: UserWarning: Issues encountered while parsing CIF: 20 fractional coordinates rounded to ideal values to avoid issues with finite precision.\n",
      "  warnings.warn(\"Issues encountered while parsing CIF: \" + \"\\n\".join(self.warnings))\n",
      "/home/holywater2/crystal_gen/mattergen/.venv/lib/python3.10/site-packages/pymatgen/io/cif.py:1304: UserWarning: Issues encountered while parsing CIF: 24 fractional coordinates rounded to ideal values to avoid issues with finite precision.\n",
      "  warnings.warn(\"Issues encountered while parsing CIF: \" + \"\\n\".join(self.warnings))\n"
     ]
    }
   ],
   "source": [
    "structures = test_structures()"
   ]
  },
  {
   "cell_type": "code",
   "execution_count": 3,
   "metadata": {},
   "outputs": [],
   "source": [
    "IDX = 1"
   ]
  },
  {
   "cell_type": "code",
   "execution_count": 144,
   "metadata": {},
   "outputs": [
    {
     "data": {
      "text/plain": [
       "Structure Summary\n",
       "Lattice\n",
       "    abc : 6.341358529999999 6.341358529999999 6.97127782\n",
       " angles : 75.51587317999999 75.51587317999999 70.55018100999999\n",
       " volume : 251.62630559902763\n",
       "      A : -1.7711561207836948 -5.878799559696795 -1.5860484667004922\n",
       "      B : -6.139810930906649 0.0 -1.5860484667004922\n",
       "      C : 0.0 0.0 -6.97127782\n",
       "    pbc : True True True\n",
       "PeriodicSite: Ho0 (Ho) (-1.76, -1.308, -6.856) [0.2225, 0.2225, 0.8822]\n",
       "PeriodicSite: Ho1 (Ho) (-6.151, -4.571, -3.288) [0.7775, 0.7775, 0.1178]\n",
       "PeriodicSite: W2 (W) (-2.873, -2.135, -3.01) [0.3631, 0.3631, 0.2665]\n",
       "PeriodicSite: W3 (W) (-5.038, -3.744, -7.133) [0.6369, 0.6369, 0.7335]\n",
       "PeriodicSite: Cl4 (Cl) (-0.08776, -0.06522, -1.634) [0.01109, 0.01109, 0.2294]\n",
       "PeriodicSite: Cl5 (Cl) (-7.823, -5.814, -8.509) [0.9889, 0.9889, 0.7706]\n",
       "PeriodicSite: O6 (O) (-2.341, -1.739, -4.677) [0.2959, 0.2959, 0.5363]\n",
       "PeriodicSite: O7 (O) (-5.57, -4.139, -5.466) [0.7041, 0.7041, 0.4637]\n",
       "PeriodicSite: O8 (O) (-3.59, -2.667, -7.061) [0.4537, 0.4537, 0.8064]\n",
       "PeriodicSite: O9 (O) (-4.321, -3.211, -3.082) [0.5463, 0.5463, 0.1936]\n",
       "PeriodicSite: O10 (O) (-6.387, -2.986, -8.112) [0.5079, 0.8937, 0.8447]\n",
       "PeriodicSite: O11 (O) (-4.701, -5.254, -8.112) [0.8937, 0.5079, 0.8447]\n",
       "PeriodicSite: O12 (O) (-1.524, -2.893, -2.031) [0.4921, 0.1063, 0.1553]\n",
       "PeriodicSite: O13 (O) (-3.21, -0.6247, -2.031) [0.1063, 0.4921, 0.1553]"
      ]
     },
     "execution_count": 144,
     "metadata": {},
     "output_type": "execute_result"
    }
   ],
   "source": [
    "structures[IDX]"
   ]
  },
  {
   "cell_type": "code",
   "execution_count": 146,
   "metadata": {},
   "outputs": [
    {
     "data": {
      "text/plain": [
       "Structure Summary\n",
       "Lattice\n",
       "    abc : 10.354027376384195 7.324304001958251 6.97127782\n",
       " angles : 90.0 107.8402191901449 90.0\n",
       " volume : 503.2526111980552\n",
       "      A : 10.354027376384195 0.0 0.0\n",
       "      B : 0.0 7.324304001958251 0.0\n",
       "      C : -2.1357456563371326 0.0 6.636060950221978\n",
       "    pbc : True True True\n",
       "PeriodicSite: Ho (2.052, 0.0, 0.7818) [0.2225, 0.0, 0.1178]\n",
       "PeriodicSite: Ho (6.167, 0.0, 5.854) [0.7775, 0.0, 0.8822]\n",
       "PeriodicSite: Ho (7.229, 3.662, 0.7818) [0.7225, 0.5, 0.1178]\n",
       "PeriodicSite: Ho (0.9895, 3.662, 5.854) [0.2775, 0.5, 0.8822]\n",
       "PeriodicSite: W (2.193, 0.0, 4.867) [0.3631, 0.0, 0.7335]\n",
       "PeriodicSite: W (6.025, 0.0, 1.769) [0.6369, 0.0, 0.2665]\n",
       "PeriodicSite: W (7.37, 3.662, 4.867) [0.8631, 0.5, 0.7335]\n",
       "PeriodicSite: W (0.8481, 3.662, 1.769) [0.1369, 0.5, 0.2665]\n",
       "PeriodicSite: Cl (-1.531, 0.0, 5.114) [0.01109, 0.0, 0.7706]\n",
       "PeriodicSite: Cl (9.749, 0.0, 1.522) [0.9889, 0.0, 0.2294]\n",
       "PeriodicSite: Cl (3.646, 3.662, 5.114) [0.5111, 0.5, 0.7706]\n",
       "PeriodicSite: Cl (4.572, 3.662, 1.522) [0.4889, 0.5, 0.2294]\n",
       "PeriodicSite: O (2.073, 0.0, 3.077) [0.2959, 0.0, 0.4637]\n",
       "PeriodicSite: O (6.145, 0.0, 3.559) [0.7041, 0.0, 0.5363]\n",
       "PeriodicSite: O (4.285, 0.0, 1.285) [0.4537, 0.0, 0.1936]\n",
       "PeriodicSite: O (3.934, 0.0, 5.351) [0.5463, 0.0, 0.8064]\n",
       "PeriodicSite: O (6.925, 5.911, 1.03) [0.7008, 0.8071, 0.1553]\n",
       "PeriodicSite: O (6.925, 1.413, 1.03) [0.7008, 0.1929, 0.1553]\n",
       "PeriodicSite: O (1.294, 1.413, 5.606) [0.2992, 0.1929, 0.8447]\n",
       "PeriodicSite: O (1.294, 5.911, 5.606) [0.2992, 0.8071, 0.8447]\n",
       "PeriodicSite: O (7.25, 3.662, 3.077) [0.7959, 0.5, 0.4637]\n",
       "PeriodicSite: O (0.9681, 3.662, 3.559) [0.2041, 0.5, 0.5363]\n",
       "PeriodicSite: O (9.462, 3.662, 1.285) [0.9537, 0.5, 0.1936]\n",
       "PeriodicSite: O (-1.243, 3.662, 5.351) [0.04626, 0.5, 0.8064]\n",
       "PeriodicSite: O (1.748, 2.249, 1.03) [0.2008, 0.3071, 0.1553]\n",
       "PeriodicSite: O (1.748, 5.075, 1.03) [0.2008, 0.6929, 0.1553]\n",
       "PeriodicSite: O (6.471, 5.075, 5.606) [0.7992, 0.6929, 0.8447]\n",
       "PeriodicSite: O (6.471, 2.249, 5.606) [0.7992, 0.3071, 0.8447]"
      ]
     },
     "execution_count": 146,
     "metadata": {},
     "output_type": "execute_result"
    }
   ],
   "source": [
    "sga.get_refined_structure()"
   ]
  },
  {
   "cell_type": "code",
   "execution_count": 6,
   "metadata": {},
   "outputs": [],
   "source": [
    "c=pyxtal()"
   ]
  },
  {
   "cell_type": "code",
   "execution_count": 12,
   "metadata": {},
   "outputs": [],
   "source": [
    "c.from_seed(structures[IDX])"
   ]
  },
  {
   "cell_type": "code",
   "execution_count": null,
   "metadata": {},
   "outputs": [
    {
     "data": {
      "text/plain": [
       "\n",
       "------Crystal from Seed------\n",
       "Dimension: 3\n",
       "Composition: Ho4W4Cl4O16\n",
       "Group: C 1 2/m 1 (12)\n",
       " 10.3540,   7.3243,   6.9713,  90.0000, 107.8402,  90.0000, monoclinic\n",
       "Wyckoff sites:\n",
       "\tHo @ [ 0.2225  0.0000  0.1178], WP [4i] Site [m]\n",
       "\t W @ [ 0.3631  0.0000  0.7335], WP [4i] Site [m]\n",
       "\tCl @ [ 0.0111  0.0000  0.7706], WP [4i] Site [m]\n",
       "\t O @ [ 0.2959  0.0000  0.4637], WP [4i] Site [m]\n",
       "\t O @ [ 0.4537  0.0000  0.1936], WP [4i] Site [m]\n",
       "\t O @ [ 0.7008  0.8071  0.1553], WP [8j] Site [1]"
      ]
     },
     "execution_count": 69,
     "metadata": {},
     "output_type": "execute_result"
    }
   ],
   "source": [
    "c"
   ]
  },
  {
   "cell_type": "code",
   "execution_count": 74,
   "metadata": {},
   "outputs": [
    {
     "data": {
      "text/plain": [
       "Wyckoff position 4i in space group 12 with site symmetry m\n",
       "x, 0, z\n",
       "-x, 0, -z\n",
       "x+1/2, 1/2, z\n",
       "-x+1/2, 1/2, -z"
      ]
     },
     "execution_count": 74,
     "metadata": {},
     "output_type": "execute_result"
    }
   ],
   "source": [
    "c.atom_sites[0].wp"
   ]
  },
  {
   "cell_type": "code",
   "execution_count": 145,
   "metadata": {},
   "outputs": [],
   "source": [
    "sga = SpacegroupAnalyzer(structures[IDX])"
   ]
  },
  {
   "cell_type": "code",
   "execution_count": 18,
   "metadata": {},
   "outputs": [
    {
     "data": {
      "text/plain": [
       "array([[ 0.5,  0.5,  0. ],\n",
       "       [-0.5,  0.5,  0. ],\n",
       "       [ 0. ,  0. ,  1. ]])"
      ]
     },
     "execution_count": 18,
     "metadata": {},
     "output_type": "execute_result"
    }
   ],
   "source": [
    "sga.get_conventional_to_primitive_transformation_matrix()"
   ]
  },
  {
   "cell_type": "code",
   "execution_count": 107,
   "metadata": {},
   "outputs": [
    {
     "data": {
      "text/plain": [
       "Structure Summary\n",
       "Lattice\n",
       "    abc : 6.341358529999999 6.341358529999999 6.97127782\n",
       " angles : 75.51587317999999 75.51587317999999 70.55018100999999\n",
       " volume : 251.62630559902763\n",
       "      A : -1.7711561207836948 -5.878799559696795 -1.5860484667004922\n",
       "      B : -6.139810930906649 0.0 -1.5860484667004922\n",
       "      C : 0.0 0.0 -6.97127782\n",
       "    pbc : True True True\n",
       "PeriodicSite: Ho0 (Ho) (-1.76, -1.308, -6.856) [0.2225, 0.2225, 0.8822]\n",
       "PeriodicSite: Ho1 (Ho) (-6.151, -4.571, -3.288) [0.7775, 0.7775, 0.1178]\n",
       "PeriodicSite: W2 (W) (-2.873, -2.135, -3.01) [0.3631, 0.3631, 0.2665]\n",
       "PeriodicSite: W3 (W) (-5.038, -3.744, -7.133) [0.6369, 0.6369, 0.7335]\n",
       "PeriodicSite: Cl4 (Cl) (-0.08776, -0.06522, -1.634) [0.01109, 0.01109, 0.2294]\n",
       "PeriodicSite: Cl5 (Cl) (-7.823, -5.814, -8.509) [0.9889, 0.9889, 0.7706]\n",
       "PeriodicSite: O6 (O) (-2.341, -1.739, -4.677) [0.2959, 0.2959, 0.5363]\n",
       "PeriodicSite: O7 (O) (-5.57, -4.139, -5.466) [0.7041, 0.7041, 0.4637]\n",
       "PeriodicSite: O8 (O) (-3.59, -2.667, -7.061) [0.4537, 0.4537, 0.8064]\n",
       "PeriodicSite: O9 (O) (-4.321, -3.211, -3.082) [0.5463, 0.5463, 0.1936]\n",
       "PeriodicSite: O10 (O) (-6.387, -2.986, -8.112) [0.5079, 0.8937, 0.8447]\n",
       "PeriodicSite: O11 (O) (-4.701, -5.254, -8.112) [0.8937, 0.5079, 0.8447]\n",
       "PeriodicSite: O12 (O) (-1.524, -2.893, -2.031) [0.4921, 0.1063, 0.1553]\n",
       "PeriodicSite: O13 (O) (-3.21, -0.6247, -2.031) [0.1063, 0.4921, 0.1553]"
      ]
     },
     "execution_count": 107,
     "metadata": {},
     "output_type": "execute_result"
    }
   ],
   "source": [
    "structures[IDX]"
   ]
  },
  {
   "cell_type": "code",
   "execution_count": 79,
   "metadata": {},
   "outputs": [
    {
     "data": {
      "text/plain": [
       "28"
      ]
     },
     "execution_count": 79,
     "metadata": {},
     "output_type": "execute_result"
    }
   ],
   "source": [
    "len(sga.get_refined_structure().sites)"
   ]
  },
  {
   "cell_type": "code",
   "execution_count": 134,
   "metadata": {},
   "outputs": [
    {
     "data": {
      "text/plain": [
       "Structure Summary\n",
       "Lattice\n",
       "    abc : 6.341358529999999 6.341358529999999 6.97127782\n",
       " angles : 75.51587317999999 75.51587317999999 70.55018100999999\n",
       " volume : 251.62630559902763\n",
       "      A : -1.7711561207836948 -5.878799559696795 -1.5860484667004922\n",
       "      B : -6.139810930906649 0.0 -1.5860484667004922\n",
       "      C : 0.0 0.0 -6.97127782\n",
       "    pbc : True True True\n",
       "PeriodicSite: Ho0 (Ho) (-1.76, -1.308, -6.856) [0.2225, 0.2225, 0.8822]\n",
       "PeriodicSite: Ho1 (Ho) (-6.151, -4.571, -3.288) [0.7775, 0.7775, 0.1178]\n",
       "PeriodicSite: W2 (W) (-2.873, -2.135, -3.01) [0.3631, 0.3631, 0.2665]\n",
       "PeriodicSite: W3 (W) (-5.038, -3.744, -7.133) [0.6369, 0.6369, 0.7335]\n",
       "PeriodicSite: Cl4 (Cl) (-0.08776, -0.06522, -1.634) [0.01109, 0.01109, 0.2294]\n",
       "PeriodicSite: Cl5 (Cl) (-7.823, -5.814, -8.509) [0.9889, 0.9889, 0.7706]\n",
       "PeriodicSite: O6 (O) (-2.341, -1.739, -4.677) [0.2959, 0.2959, 0.5363]\n",
       "PeriodicSite: O7 (O) (-5.57, -4.139, -5.466) [0.7041, 0.7041, 0.4637]\n",
       "PeriodicSite: O8 (O) (-3.59, -2.667, -7.061) [0.4537, 0.4537, 0.8064]\n",
       "PeriodicSite: O9 (O) (-4.321, -3.211, -3.082) [0.5463, 0.5463, 0.1936]\n",
       "PeriodicSite: O10 (O) (-6.387, -2.986, -8.112) [0.5079, 0.8937, 0.8447]\n",
       "PeriodicSite: O11 (O) (-4.701, -5.254, -8.112) [0.8937, 0.5079, 0.8447]\n",
       "PeriodicSite: O12 (O) (-1.524, -2.893, -2.031) [0.4921, 0.1063, 0.1553]\n",
       "PeriodicSite: O13 (O) (-3.21, -0.6247, -2.031) [0.1063, 0.4921, 0.1553]"
      ]
     },
     "execution_count": 134,
     "metadata": {},
     "output_type": "execute_result"
    }
   ],
   "source": [
    "structures[IDX]"
   ]
  },
  {
   "cell_type": "code",
   "execution_count": 110,
   "metadata": {},
   "outputs": [],
   "source": [
    "SD = sga.get_symmetry_dataset()"
   ]
  },
  {
   "cell_type": "code",
   "execution_count": 111,
   "metadata": {},
   "outputs": [
    {
     "data": {
      "text/plain": [
       "(((-1.7711561207836948, -5.878799559696795, -1.5860484667004922),\n",
       "  (-6.139810930906649, 0.0, -1.5860484667004922),\n",
       "  (0.0, 0.0, -6.97127782)),\n",
       " ((0.22246100000000013, 0.2224609999999999, 0.88219),\n",
       "  (0.777539, 0.777539, 0.11780999999999997),\n",
       "  (0.363108, 0.363108, 0.2665440000000001),\n",
       "  (0.636892, 0.636892, 0.733456),\n",
       "  (0.011094000000000048, 0.011094000000000048, 0.22937700000000016),\n",
       "  (0.988906, 0.988906, 0.7706230000000001),\n",
       "  (0.29588000000000014, 0.29588000000000003, 0.5362669999999999),\n",
       "  (0.7041200000000001, 0.70412, 0.46373299999999995),\n",
       "  (0.453738, 0.4537380000000001, 0.8064260000000001),\n",
       "  (0.546262, 0.546262, 0.1935739999999999),\n",
       "  (0.507898, 0.893743, 0.8447439999999999),\n",
       "  (0.893743, 0.5078980000000001, 0.8447439999999999),\n",
       "  (0.49210200000000004, 0.10625700000000005, 0.15525599999999995),\n",
       "  (0.10625700000000005, 0.49210200000000004, 0.15525599999999995)),\n",
       " (1, 1, 2, 2, 3, 3, 4, 4, 4, 4, 4, 4, 4, 4))"
      ]
     },
     "execution_count": 111,
     "metadata": {},
     "output_type": "execute_result"
    }
   ],
   "source": [
    "sga._cell"
   ]
  },
  {
   "cell_type": "code",
   "execution_count": 27,
   "metadata": {},
   "outputs": [
    {
     "data": {
      "text/plain": [
       "['number',\n",
       " 'hall_number',\n",
       " 'international',\n",
       " 'hall',\n",
       " 'choice',\n",
       " 'transformation_matrix',\n",
       " 'origin_shift',\n",
       " 'rotations',\n",
       " 'translations',\n",
       " 'wyckoffs',\n",
       " 'site_symmetry_symbols',\n",
       " 'crystallographic_orbits',\n",
       " 'equivalent_atoms',\n",
       " 'primitive_lattice',\n",
       " 'mapping_to_primitive',\n",
       " 'std_lattice',\n",
       " 'std_positions',\n",
       " 'std_types',\n",
       " 'std_rotation_matrix',\n",
       " 'std_mapping_to_primitive',\n",
       " 'pointgroup',\n",
       " '__module__',\n",
       " '__annotations__',\n",
       " '__doc__',\n",
       " '__abstractmethods__',\n",
       " '_abc_impl',\n",
       " '__dataclass_params__',\n",
       " '__dataclass_fields__',\n",
       " '__init__',\n",
       " '__repr__',\n",
       " '__setattr__',\n",
       " '__delattr__',\n",
       " '__match_args__',\n",
       " '__getitem__',\n",
       " '__len__',\n",
       " '__iter__',\n",
       " '__orig_bases__',\n",
       " '__dict__',\n",
       " '__weakref__',\n",
       " '__eq__',\n",
       " '__hash__',\n",
       " '__slots__',\n",
       " 'get',\n",
       " '__contains__',\n",
       " 'keys',\n",
       " 'items',\n",
       " 'values',\n",
       " '__reversed__',\n",
       " '__subclasshook__',\n",
       " '__new__',\n",
       " '__str__',\n",
       " '__getattribute__',\n",
       " '__lt__',\n",
       " '__le__',\n",
       " '__ne__',\n",
       " '__gt__',\n",
       " '__ge__',\n",
       " '__reduce_ex__',\n",
       " '__reduce__',\n",
       " '__init_subclass__',\n",
       " '__format__',\n",
       " '__sizeof__',\n",
       " '__dir__',\n",
       " '__class__',\n",
       " '__class_getitem__']"
      ]
     },
     "execution_count": 27,
     "metadata": {},
     "output_type": "execute_result"
    }
   ],
   "source": [
    "SD.__dir__()"
   ]
  },
  {
   "cell_type": "code",
   "execution_count": 105,
   "metadata": {},
   "outputs": [
    {
     "data": {
      "text/plain": [
       "14"
      ]
     },
     "execution_count": 105,
     "metadata": {},
     "output_type": "execute_result"
    }
   ],
   "source": [
    "len(SD.wyckoffs)"
   ]
  },
  {
   "cell_type": "code",
   "execution_count": 135,
   "metadata": {},
   "outputs": [
    {
     "ename": "ValueError",
     "evalue": "setting an array element with a sequence. The requested array has an inhomogeneous shape after 1 dimensions. The detected shape was (3,) + inhomogeneous part.",
     "output_type": "error",
     "traceback": [
      "\u001b[0;31m---------------------------------------------------------------------------\u001b[0m",
      "\u001b[0;31mValueError\u001b[0m                                Traceback (most recent call last)",
      "Cell \u001b[0;32mIn[135], line 1\u001b[0m\n\u001b[0;32m----> 1\u001b[0m prime_to_conv \u001b[38;5;241m=\u001b[39m \u001b[43mstructures\u001b[49m\u001b[43m[\u001b[49m\u001b[43mIDX\u001b[49m\u001b[43m]\u001b[49m\u001b[38;5;241;43m.\u001b[39;49m\u001b[43mcopy\u001b[49m\u001b[43m(\u001b[49m\u001b[43m)\u001b[49m\u001b[38;5;241;43m.\u001b[39;49m\u001b[43mmake_supercell\u001b[49m\u001b[43m(\u001b[49m\u001b[43m(\u001b[49m\u001b[43m(\u001b[49m\u001b[38;5;241;43m1\u001b[39;49m\u001b[43m,\u001b[49m\u001b[38;5;241;43m1\u001b[39;49m\u001b[43m,\u001b[49m\u001b[38;5;241;43m0\u001b[39;49m\u001b[43m)\u001b[49m\u001b[43m,\u001b[49m\u001b[43m(\u001b[49m\u001b[38;5;241;43m1\u001b[39;49m\u001b[43m,\u001b[49m\u001b[38;5;241;43m-\u001b[39;49m\u001b[38;5;241;43m1\u001b[39;49m\u001b[43m,\u001b[49m\u001b[38;5;241;43m0\u001b[39;49m\u001b[43m)\u001b[49m\u001b[43m,\u001b[49m\u001b[43m(\u001b[49m\u001b[38;5;241;43m0\u001b[39;49m\u001b[43m,\u001b[49m\u001b[38;5;241;43m0\u001b[39;49m\u001b[38;5;241;43m-\u001b[39;49m\u001b[38;5;241;43m1\u001b[39;49m\u001b[43m)\u001b[49m\u001b[43m)\u001b[49m\u001b[43m)\u001b[49m\n",
      "File \u001b[0;32m~/crystal_gen/mattergen/.venv/lib/python3.10/site-packages/pymatgen/core/structure.py:4697\u001b[0m, in \u001b[0;36mStructure.make_supercell\u001b[0;34m(self, scaling_matrix, to_unit_cell, in_place)\u001b[0m\n\u001b[1;32m   4695\u001b[0m \u001b[38;5;66;03m# TODO (janosh) maybe default in_place to False after a depreciation period\u001b[39;00m\n\u001b[1;32m   4696\u001b[0m struct: Structure \u001b[38;5;241m=\u001b[39m \u001b[38;5;28mself\u001b[39m \u001b[38;5;28;01mif\u001b[39;00m in_place \u001b[38;5;28;01melse\u001b[39;00m \u001b[38;5;28mself\u001b[39m\u001b[38;5;241m.\u001b[39mcopy()\n\u001b[0;32m-> 4697\u001b[0m supercell: Structure \u001b[38;5;241m=\u001b[39m \u001b[43mstruct\u001b[49m\u001b[43m \u001b[49m\u001b[38;5;241;43m*\u001b[39;49m\u001b[43m \u001b[49m\u001b[43mscaling_matrix\u001b[49m\n\u001b[1;32m   4698\u001b[0m \u001b[38;5;28;01mif\u001b[39;00m to_unit_cell:\n\u001b[1;32m   4699\u001b[0m     \u001b[38;5;28;01mfor\u001b[39;00m site \u001b[38;5;129;01min\u001b[39;00m supercell:\n",
      "File \u001b[0;32m~/crystal_gen/mattergen/.venv/lib/python3.10/site-packages/pymatgen/core/structure.py:1150\u001b[0m, in \u001b[0;36mIStructure.__mul__\u001b[0;34m(self, scaling_matrix)\u001b[0m\n\u001b[1;32m   1125\u001b[0m \u001b[38;5;28;01mdef\u001b[39;00m\u001b[38;5;250m \u001b[39m\u001b[38;5;21m__mul__\u001b[39m(\u001b[38;5;28mself\u001b[39m, scaling_matrix: \u001b[38;5;28mint\u001b[39m \u001b[38;5;241m|\u001b[39m Sequence[\u001b[38;5;28mint\u001b[39m] \u001b[38;5;241m|\u001b[39m Sequence[Sequence[\u001b[38;5;28mint\u001b[39m]]) \u001b[38;5;241m-\u001b[39m\u001b[38;5;241m>\u001b[39m Structure:\n\u001b[1;32m   1126\u001b[0m \u001b[38;5;250m    \u001b[39m\u001b[38;5;124;03m\"\"\"Make a supercell. Allow sites outside the unit cell.\u001b[39;00m\n\u001b[1;32m   1127\u001b[0m \n\u001b[1;32m   1128\u001b[0m \u001b[38;5;124;03m    Args:\u001b[39;00m\n\u001b[0;32m   (...)\u001b[0m\n\u001b[1;32m   1148\u001b[0m \u001b[38;5;124;03m        this method in the subclass.\u001b[39;00m\n\u001b[1;32m   1149\u001b[0m \u001b[38;5;124;03m    \"\"\"\u001b[39;00m\n\u001b[0;32m-> 1150\u001b[0m     scale_matrix \u001b[38;5;241m=\u001b[39m \u001b[43mnp\u001b[49m\u001b[38;5;241;43m.\u001b[39;49m\u001b[43marray\u001b[49m\u001b[43m(\u001b[49m\u001b[43mscaling_matrix\u001b[49m\u001b[43m,\u001b[49m\u001b[43m \u001b[49m\u001b[38;5;28;43mint\u001b[39;49m\u001b[43m)\u001b[49m\n\u001b[1;32m   1151\u001b[0m     \u001b[38;5;28;01mif\u001b[39;00m scale_matrix\u001b[38;5;241m.\u001b[39mshape \u001b[38;5;241m!=\u001b[39m (\u001b[38;5;241m3\u001b[39m, \u001b[38;5;241m3\u001b[39m):\n\u001b[1;32m   1152\u001b[0m         scale_matrix \u001b[38;5;241m=\u001b[39m scale_matrix \u001b[38;5;241m*\u001b[39m np\u001b[38;5;241m.\u001b[39meye(\u001b[38;5;241m3\u001b[39m)  \u001b[38;5;66;03m# (ruff-preview) noqa: PLR6104\u001b[39;00m\n",
      "\u001b[0;31mValueError\u001b[0m: setting an array element with a sequence. The requested array has an inhomogeneous shape after 1 dimensions. The detected shape was (3,) + inhomogeneous part."
     ]
    }
   ],
   "source": [
    "prime_to_conv = structures[IDX].copy().make_supercell(((1,1,0),(1,-1,0),(0,0-1)))"
   ]
  },
  {
   "cell_type": "code",
   "execution_count": 136,
   "metadata": {},
   "outputs": [],
   "source": [
    "prime_to_conv = structures[IDX].copy().make_supercell(((1, 1, 0), (1, -1, 0), (0, 0, -1)))"
   ]
  },
  {
   "cell_type": "code",
   "execution_count": 114,
   "metadata": {},
   "outputs": [
    {
     "data": {
      "text/plain": [
       "array([[ 1.00000000e+00,  1.00000000e+00,  0.00000000e+00],\n",
       "       [ 1.00000000e+00, -1.00000000e+00, -0.00000000e+00],\n",
       "       [-5.55111512e-17, -0.00000000e+00, -1.00000000e+00]])"
      ]
     },
     "execution_count": 114,
     "metadata": {},
     "output_type": "execute_result"
    }
   ],
   "source": [
    "np.linalg.inv(SD.transformation_matrix)"
   ]
  },
  {
   "cell_type": "code",
   "execution_count": 99,
   "metadata": {},
   "outputs": [
    {
     "data": {
      "text/plain": [
       "array([ 0,  0,  2,  2,  4,  4,  6,  6,  8,  8, 10, 10, 10, 10],\n",
       "      dtype=int32)"
      ]
     },
     "execution_count": 99,
     "metadata": {},
     "output_type": "execute_result"
    }
   ],
   "source": [
    "SD.equivalent_atoms"
   ]
  },
  {
   "cell_type": "code",
   "execution_count": 100,
   "metadata": {},
   "outputs": [
    {
     "data": {
      "text/plain": [
       "array([ 0,  2,  4,  6,  8, 10], dtype=int32)"
      ]
     },
     "execution_count": 100,
     "metadata": {},
     "output_type": "execute_result"
    }
   ],
   "source": [
    "np.unique(SD.equivalent_atoms)"
   ]
  },
  {
   "cell_type": "code",
   "execution_count": 102,
   "metadata": {},
   "outputs": [
    {
     "data": {
      "text/plain": [
       "SymmOp(self.affine_matrix=array([[1., 0., 0., 0.],\n",
       "       [0., 0., 0., 0.],\n",
       "       [0., 0., 1., 0.],\n",
       "       [0., 0., 0., 1.]]))"
      ]
     },
     "execution_count": 102,
     "metadata": {},
     "output_type": "execute_result"
    }
   ],
   "source": [
    "Wyckoff_position.from_group_and_letter(12,\"i\")[0]"
   ]
  },
  {
   "cell_type": "code",
   "execution_count": null,
   "metadata": {},
   "outputs": [],
   "source": [
    "# save SD.transformation_matrix, SD.transformation_matrix_inv, std_mapping_to_primitive"
   ]
  },
  {
   "cell_type": "code",
   "execution_count": 140,
   "metadata": {},
   "outputs": [
    {
     "data": {
      "text/plain": [
       "Structure Summary\n",
       "Lattice\n",
       "    abc : 10.354027376384195 7.324304001958251 6.97127782\n",
       " angles : 90.0 107.8402191901449 90.00000000000001\n",
       " volume : 503.25261119805526\n",
       "      A : -7.910967051690344 -5.878799559696795 -3.1720969334009843\n",
       "      B : 4.368654810122955 -5.878799559696795 0.0\n",
       "      C : 0.0 0.0 6.97127782\n",
       "    pbc : True True True\n",
       "PeriodicSite: Ho0 (Ho) (-1.76, -1.308, 0.1156) [0.2225, 1.11e-16, 0.1178]\n",
       "PeriodicSite: Ho0 (Ho) (-3.531, -7.187, -1.47) [0.7225, 0.5, 0.1178]\n",
       "PeriodicSite: Ho1 (Ho) (-1.782, -10.45, 3.684) [0.7775, 1.0, 0.8822]\n",
       "PeriodicSite: Ho1 (Ho) (-0.01127, -4.571, 5.27) [0.2775, 0.5, 0.8822]\n",
       "PeriodicSite: W2 (W) (-2.873, -2.135, 3.961) [0.3631, 0.0, 0.7335]\n",
       "PeriodicSite: W2 (W) (-4.644, -8.013, 2.375) [0.8631, 0.5, 0.7335]\n",
       "PeriodicSite: W3 (W) (-5.038, -3.744, -0.1621) [0.6369, 0.0, 0.2665]\n",
       "PeriodicSite: W3 (W) (1.101, -3.744, 1.424) [0.1369, 0.5, 0.2665]\n",
       "PeriodicSite: Cl4 (Cl) (-0.08776, -0.06522, 5.337) [0.01109, 0.0, 0.7706]\n",
       "PeriodicSite: Cl4 (Cl) (-1.859, -5.944, 3.751) [0.5111, 0.5, 0.7706]\n",
       "PeriodicSite: Cl5 (Cl) (-7.823, -5.814, -1.538) [0.9889, 0.0, 0.2294]\n",
       "PeriodicSite: Cl5 (Cl) (-1.683, -5.814, 0.04819) [0.4889, 0.5, 0.2294]\n",
       "PeriodicSite: O6 (O) (-2.341, -1.739, 2.294) [0.2959, 2.776e-17, 0.4637]\n",
       "PeriodicSite: O6 (O) (-4.112, -7.618, 0.7082) [0.7959, 0.5, 0.4637]\n",
       "PeriodicSite: O7 (O) (-5.57, -4.139, 1.505) [0.7041, 0.0, 0.5363]\n",
       "PeriodicSite: O7 (O) (0.5695, -4.139, 3.091) [0.2041, 0.5, 0.5363]\n",
       "PeriodicSite: O8 (O) (0.7791, -8.546, -0.08984) [0.4537, 1.0, 0.1936]\n",
       "PeriodicSite: O8 (O) (-5.361, -8.546, -1.676) [0.9537, 0.5, 0.1936]\n",
       "PeriodicSite: O9 (O) (-4.321, -3.211, 3.889) [0.5463, 0.0, 0.8064]\n",
       "PeriodicSite: O9 (O) (1.818, -3.211, 5.475) [0.04626, 0.5, 0.8064]\n",
       "PeriodicSite: O10 (O) (-2.018, -8.865, -1.141) [0.7008, 0.8071, 0.1553]\n",
       "PeriodicSite: O10 (O) (-0.2472, -2.986, 0.4453) [0.2008, 0.3071, 0.1553]\n",
       "PeriodicSite: O11 (O) (-4.701, -5.254, -1.141) [0.7008, 0.1929, 0.1553]\n",
       "PeriodicSite: O11 (O) (1.438, -5.254, 0.4453) [0.2008, 0.6929, 0.1553]\n",
       "PeriodicSite: O12 (O) (-1.524, -2.893, 4.94) [0.2992, 0.1929, 0.8447]\n",
       "PeriodicSite: O12 (O) (-3.295, -8.772, 3.354) [0.7992, 0.6929, 0.8447]\n",
       "PeriodicSite: O13 (O) (1.159, -6.503, 4.94) [0.2992, 0.8071, 0.8447]\n",
       "PeriodicSite: O13 (O) (-4.981, -6.503, 3.354) [0.7992, 0.3071, 0.8447]"
      ]
     },
     "execution_count": 140,
     "metadata": {},
     "output_type": "execute_result"
    }
   ],
   "source": [
    "prime_to_conv"
   ]
  },
  {
   "cell_type": "code",
   "execution_count": null,
   "metadata": {},
   "outputs": [],
   "source": []
  },
  {
   "cell_type": "code",
   "execution_count": 85,
   "metadata": {},
   "outputs": [
    {
     "data": {
      "text/plain": [
       "array([[ 5.00000000e-01,  5.00000000e-01, -0.00000000e+00],\n",
       "       [ 5.00000000e-01, -5.00000000e-01,  0.00000000e+00],\n",
       "       [-2.77555756e-17, -2.77555756e-17, -1.00000000e+00]])"
      ]
     },
     "execution_count": 85,
     "metadata": {},
     "output_type": "execute_result"
    }
   ],
   "source": [
    "SD.transformation_matrix"
   ]
  },
  {
   "cell_type": "code",
   "execution_count": 84,
   "metadata": {},
   "outputs": [
    {
     "data": {
      "text/plain": [
       "array([ 0,  0,  2,  2,  4,  4,  6,  6,  8,  8, 10, 10, 10, 10],\n",
       "      dtype=int32)"
      ]
     },
     "execution_count": 84,
     "metadata": {},
     "output_type": "execute_result"
    }
   ],
   "source": [
    "SD.equivalent_atoms"
   ]
  },
  {
   "cell_type": "code",
   "execution_count": null,
   "metadata": {},
   "outputs": [],
   "source": [
    "SD.transformation_matrix @ SD.std_lattice # conventional to primitive"
   ]
  },
  {
   "cell_type": "code",
   "execution_count": 65,
   "metadata": {},
   "outputs": [
    {
     "data": {
      "text/plain": [
       "array([[-7.91096705e+00, -5.87879956e+00, -3.17209693e+00],\n",
       "       [-4.36865481e+00,  5.87879956e+00,  4.44089210e-16],\n",
       "       [ 3.40827973e-16,  0.00000000e+00, -6.97127782e+00]])"
      ]
     },
     "execution_count": 65,
     "metadata": {},
     "output_type": "execute_result"
    }
   ],
   "source": [
    "np.linalg.inv(SD.transformation_matrix) @ SD.primitive_lattice"
   ]
  },
  {
   "cell_type": "code",
   "execution_count": 62,
   "metadata": {},
   "outputs": [
    {
     "data": {
      "text/plain": [
       "array([[10.35402738,  0.        ,  0.        ],\n",
       "       [ 0.        ,  7.324304  ,  0.        ],\n",
       "       [-2.13574566,  0.        ,  6.63606095]])"
      ]
     },
     "execution_count": 62,
     "metadata": {},
     "output_type": "execute_result"
    }
   ],
   "source": [
    "SD.std_lattice"
   ]
  },
  {
   "cell_type": "code",
   "execution_count": 56,
   "metadata": {},
   "outputs": [
    {
     "data": {
      "text/plain": [
       "array([[ 5.17701369e+00,  3.66215200e+00,  0.00000000e+00],\n",
       "       [ 5.17701369e+00, -3.66215200e+00,  0.00000000e+00],\n",
       "       [ 2.13574566e+00, -2.03290274e-16, -6.63606095e+00]])"
      ]
     },
     "execution_count": 56,
     "metadata": {},
     "output_type": "execute_result"
    }
   ],
   "source": [
    "SD.transformation_matrix @ SD.std_lattice"
   ]
  },
  {
   "cell_type": "code",
   "execution_count": 54,
   "metadata": {},
   "outputs": [
    {
     "data": {
      "text/plain": [
       "array([[-6.13981093,  0.        , -1.58604847],\n",
       "       [-1.77115612, -5.87879956, -1.58604847],\n",
       "       [-0.        , -0.        ,  6.97127782]])"
      ]
     },
     "execution_count": 54,
     "metadata": {},
     "output_type": "execute_result"
    }
   ],
   "source": [
    "SD.primitive_lattice"
   ]
  },
  {
   "cell_type": "code",
   "execution_count": 53,
   "metadata": {},
   "outputs": [
    {
     "data": {
      "text/plain": [
       "array([6.34135853, 6.34135853, 6.97127782])"
      ]
     },
     "execution_count": 53,
     "metadata": {},
     "output_type": "execute_result"
    }
   ],
   "source": [
    "np.linalg.norm(SD.primitive_lattice, axis=1)"
   ]
  },
  {
   "cell_type": "code",
   "execution_count": 67,
   "metadata": {},
   "outputs": [
    {
     "data": {
      "text/plain": [
       "array([ 0,  0,  2,  2,  4,  4,  6,  6,  8,  8, 10, 10, 10, 10],\n",
       "      dtype=int32)"
      ]
     },
     "execution_count": 67,
     "metadata": {},
     "output_type": "execute_result"
    }
   ],
   "source": [
    "SD.crystallographic_orbits"
   ]
  },
  {
   "cell_type": "code",
   "execution_count": 66,
   "metadata": {},
   "outputs": [
    {
     "data": {
      "text/plain": [
       "['i', 'i', 'i', 'i', 'i', 'i', 'i', 'i', 'i', 'i', 'j', 'j', 'j', 'j']"
      ]
     },
     "execution_count": 66,
     "metadata": {},
     "output_type": "execute_result"
    }
   ],
   "source": [
    "SD.wyckoffs"
   ]
  },
  {
   "cell_type": "code",
   "execution_count": 13,
   "metadata": {},
   "outputs": [
    {
     "data": {
      "text/plain": [
       "12"
      ]
     },
     "execution_count": 13,
     "metadata": {},
     "output_type": "execute_result"
    }
   ],
   "source": [
    "SpacegroupAnalyzer(structures[IDX]).get_space_group_number()"
   ]
  },
  {
   "cell_type": "code",
   "execution_count": 14,
   "metadata": {},
   "outputs": [
    {
     "data": {
      "text/plain": [
       "'C2/m'"
      ]
     },
     "execution_count": 14,
     "metadata": {},
     "output_type": "execute_result"
    }
   ],
   "source": [
    "SpacegroupAnalyzer(structures[IDX]).get_space_group_symbol()"
   ]
  },
  {
   "cell_type": "code",
   "execution_count": 15,
   "metadata": {},
   "outputs": [
    {
     "data": {
      "text/plain": [
       "Structure Summary\n",
       "Lattice\n",
       "    abc : 10.354027376384195 7.324304001958251 6.97127782\n",
       " angles : 90.0 107.8402191901449 90.0\n",
       " volume : 503.2526111980552\n",
       "      A : 10.354027376384195 0.0 0.0\n",
       "      B : 0.0 7.324304001958251 0.0\n",
       "      C : -2.1357456563371326 0.0 6.636060950221978\n",
       "    pbc : True True True\n",
       "PeriodicSite: Ho (2.052, 0.0, 0.7818) [0.2225, 0.0, 0.1178]\n",
       "PeriodicSite: Ho (6.167, 0.0, 5.854) [0.7775, 0.0, 0.8822]\n",
       "PeriodicSite: Ho (7.229, 3.662, 0.7818) [0.7225, 0.5, 0.1178]\n",
       "PeriodicSite: Ho (0.9895, 3.662, 5.854) [0.2775, 0.5, 0.8822]\n",
       "PeriodicSite: W (2.193, 0.0, 4.867) [0.3631, 0.0, 0.7335]\n",
       "PeriodicSite: W (6.025, 0.0, 1.769) [0.6369, 0.0, 0.2665]\n",
       "PeriodicSite: W (7.37, 3.662, 4.867) [0.8631, 0.5, 0.7335]\n",
       "PeriodicSite: W (0.8481, 3.662, 1.769) [0.1369, 0.5, 0.2665]\n",
       "PeriodicSite: Cl (-1.531, 0.0, 5.114) [0.01109, 0.0, 0.7706]\n",
       "PeriodicSite: Cl (9.749, 0.0, 1.522) [0.9889, 0.0, 0.2294]\n",
       "PeriodicSite: Cl (3.646, 3.662, 5.114) [0.5111, 0.5, 0.7706]\n",
       "PeriodicSite: Cl (4.572, 3.662, 1.522) [0.4889, 0.5, 0.2294]\n",
       "PeriodicSite: O (2.073, 0.0, 3.077) [0.2959, 0.0, 0.4637]\n",
       "PeriodicSite: O (6.145, 0.0, 3.559) [0.7041, 0.0, 0.5363]\n",
       "PeriodicSite: O (4.285, 0.0, 1.285) [0.4537, 0.0, 0.1936]\n",
       "PeriodicSite: O (3.934, 0.0, 5.351) [0.5463, 0.0, 0.8064]\n",
       "PeriodicSite: O (6.925, 5.911, 1.03) [0.7008, 0.8071, 0.1553]\n",
       "PeriodicSite: O (6.925, 1.413, 1.03) [0.7008, 0.1929, 0.1553]\n",
       "PeriodicSite: O (1.294, 1.413, 5.606) [0.2992, 0.1929, 0.8447]\n",
       "PeriodicSite: O (1.294, 5.911, 5.606) [0.2992, 0.8071, 0.8447]\n",
       "PeriodicSite: O (7.25, 3.662, 3.077) [0.7959, 0.5, 0.4637]\n",
       "PeriodicSite: O (0.9681, 3.662, 3.559) [0.2041, 0.5, 0.5363]\n",
       "PeriodicSite: O (9.462, 3.662, 1.285) [0.9537, 0.5, 0.1936]\n",
       "PeriodicSite: O (-1.243, 3.662, 5.351) [0.04626, 0.5, 0.8064]\n",
       "PeriodicSite: O (1.748, 2.249, 1.03) [0.2008, 0.3071, 0.1553]\n",
       "PeriodicSite: O (1.748, 5.075, 1.03) [0.2008, 0.6929, 0.1553]\n",
       "PeriodicSite: O (6.471, 5.075, 5.606) [0.7992, 0.6929, 0.8447]\n",
       "PeriodicSite: O (6.471, 2.249, 5.606) [0.7992, 0.3071, 0.8447]"
      ]
     },
     "execution_count": 15,
     "metadata": {},
     "output_type": "execute_result"
    }
   ],
   "source": [
    "SpacegroupAnalyzer(structures[IDX]).get_refined_structure()"
   ]
  },
  {
   "cell_type": "code",
   "execution_count": 142,
   "metadata": {},
   "outputs": [
    {
     "data": {
      "text/plain": [
       "Structure Summary\n",
       "Lattice\n",
       "    abc : 10.354027376384195 7.324304001958251 6.97127782\n",
       " angles : 90.0 107.8402191901449 90.00000000000001\n",
       " volume : 503.25261119805526\n",
       "      A : -7.910967051690344 -5.878799559696795 -3.1720969334009843\n",
       "      B : 4.368654810122955 -5.878799559696795 0.0\n",
       "      C : 0.0 0.0 6.97127782\n",
       "    pbc : True True True\n",
       "PeriodicSite: Ho0 (Ho) (-1.76, -1.308, 0.1156) [0.2225, 1.11e-16, 0.1178]\n",
       "PeriodicSite: Ho0 (Ho) (-3.531, -7.187, -1.47) [0.7225, 0.5, 0.1178]\n",
       "PeriodicSite: Ho1 (Ho) (-1.782, -10.45, 3.684) [0.7775, 1.0, 0.8822]\n",
       "PeriodicSite: Ho1 (Ho) (-0.01127, -4.571, 5.27) [0.2775, 0.5, 0.8822]\n",
       "PeriodicSite: W2 (W) (-2.873, -2.135, 3.961) [0.3631, 0.0, 0.7335]\n",
       "PeriodicSite: W2 (W) (-4.644, -8.013, 2.375) [0.8631, 0.5, 0.7335]\n",
       "PeriodicSite: W3 (W) (-5.038, -3.744, -0.1621) [0.6369, 0.0, 0.2665]\n",
       "PeriodicSite: W3 (W) (1.101, -3.744, 1.424) [0.1369, 0.5, 0.2665]\n",
       "PeriodicSite: Cl4 (Cl) (-0.08776, -0.06522, 5.337) [0.01109, 0.0, 0.7706]\n",
       "PeriodicSite: Cl4 (Cl) (-1.859, -5.944, 3.751) [0.5111, 0.5, 0.7706]\n",
       "PeriodicSite: Cl5 (Cl) (-7.823, -5.814, -1.538) [0.9889, 0.0, 0.2294]\n",
       "PeriodicSite: Cl5 (Cl) (-1.683, -5.814, 0.04819) [0.4889, 0.5, 0.2294]\n",
       "PeriodicSite: O6 (O) (-2.341, -1.739, 2.294) [0.2959, 2.776e-17, 0.4637]\n",
       "PeriodicSite: O6 (O) (-4.112, -7.618, 0.7082) [0.7959, 0.5, 0.4637]\n",
       "PeriodicSite: O7 (O) (-5.57, -4.139, 1.505) [0.7041, 0.0, 0.5363]\n",
       "PeriodicSite: O7 (O) (0.5695, -4.139, 3.091) [0.2041, 0.5, 0.5363]\n",
       "PeriodicSite: O8 (O) (0.7791, -8.546, -0.08984) [0.4537, 1.0, 0.1936]\n",
       "PeriodicSite: O8 (O) (-5.361, -8.546, -1.676) [0.9537, 0.5, 0.1936]\n",
       "PeriodicSite: O9 (O) (-4.321, -3.211, 3.889) [0.5463, 0.0, 0.8064]\n",
       "PeriodicSite: O9 (O) (1.818, -3.211, 5.475) [0.04626, 0.5, 0.8064]\n",
       "PeriodicSite: O10 (O) (-2.018, -8.865, -1.141) [0.7008, 0.8071, 0.1553]\n",
       "PeriodicSite: O10 (O) (-0.2472, -2.986, 0.4453) [0.2008, 0.3071, 0.1553]\n",
       "PeriodicSite: O11 (O) (-4.701, -5.254, -1.141) [0.7008, 0.1929, 0.1553]\n",
       "PeriodicSite: O11 (O) (1.438, -5.254, 0.4453) [0.2008, 0.6929, 0.1553]\n",
       "PeriodicSite: O12 (O) (-1.524, -2.893, 4.94) [0.2992, 0.1929, 0.8447]\n",
       "PeriodicSite: O12 (O) (-3.295, -8.772, 3.354) [0.7992, 0.6929, 0.8447]\n",
       "PeriodicSite: O13 (O) (1.159, -6.503, 4.94) [0.2992, 0.8071, 0.8447]\n",
       "PeriodicSite: O13 (O) (-4.981, -6.503, 3.354) [0.7992, 0.3071, 0.8447]"
      ]
     },
     "execution_count": 142,
     "metadata": {},
     "output_type": "execute_result"
    }
   ],
   "source": [
    "prime_to_conv"
   ]
  },
  {
   "cell_type": "code",
   "execution_count": 141,
   "metadata": {},
   "outputs": [
    {
     "data": {
      "text/plain": [
       "Structure Summary\n",
       "Lattice\n",
       "    abc : 10.354027376384195 7.324304001958251 6.97127782\n",
       " angles : 90.0 107.8402191901449 90.0\n",
       " volume : 503.2526111980552\n",
       "      A : 10.354027376384195 0.0 0.0\n",
       "      B : 0.0 7.324304001958251 0.0\n",
       "      C : -2.1357456563371326 0.0 6.636060950221978\n",
       "    pbc : True True True\n",
       "PeriodicSite: Ho (2.052, 0.0, 0.7818) [0.2225, 0.0, 0.1178]\n",
       "PeriodicSite: Ho (6.167, 0.0, 5.854) [0.7775, 0.0, 0.8822]\n",
       "PeriodicSite: Ho (7.229, 3.662, 0.7818) [0.7225, 0.5, 0.1178]\n",
       "PeriodicSite: Ho (0.9895, 3.662, 5.854) [0.2775, 0.5, 0.8822]\n",
       "PeriodicSite: W (2.193, 0.0, 4.867) [0.3631, 0.0, 0.7335]\n",
       "PeriodicSite: W (6.025, 0.0, 1.769) [0.6369, 0.0, 0.2665]\n",
       "PeriodicSite: W (7.37, 3.662, 4.867) [0.8631, 0.5, 0.7335]\n",
       "PeriodicSite: W (0.8481, 3.662, 1.769) [0.1369, 0.5, 0.2665]\n",
       "PeriodicSite: Cl (-1.531, 0.0, 5.114) [0.01109, 0.0, 0.7706]\n",
       "PeriodicSite: Cl (9.749, 0.0, 1.522) [0.9889, 0.0, 0.2294]\n",
       "PeriodicSite: Cl (3.646, 3.662, 5.114) [0.5111, 0.5, 0.7706]\n",
       "PeriodicSite: Cl (4.572, 3.662, 1.522) [0.4889, 0.5, 0.2294]\n",
       "PeriodicSite: O (2.073, 0.0, 3.077) [0.2959, 0.0, 0.4637]\n",
       "PeriodicSite: O (6.145, 0.0, 3.559) [0.7041, 0.0, 0.5363]\n",
       "PeriodicSite: O (4.285, 0.0, 1.285) [0.4537, 0.0, 0.1936]\n",
       "PeriodicSite: O (3.934, 0.0, 5.351) [0.5463, 0.0, 0.8064]\n",
       "PeriodicSite: O (6.925, 5.911, 1.03) [0.7008, 0.8071, 0.1553]\n",
       "PeriodicSite: O (6.925, 1.413, 1.03) [0.7008, 0.1929, 0.1553]\n",
       "PeriodicSite: O (1.294, 1.413, 5.606) [0.2992, 0.1929, 0.8447]\n",
       "PeriodicSite: O (1.294, 5.911, 5.606) [0.2992, 0.8071, 0.8447]\n",
       "PeriodicSite: O (7.25, 3.662, 3.077) [0.7959, 0.5, 0.4637]\n",
       "PeriodicSite: O (0.9681, 3.662, 3.559) [0.2041, 0.5, 0.5363]\n",
       "PeriodicSite: O (9.462, 3.662, 1.285) [0.9537, 0.5, 0.1936]\n",
       "PeriodicSite: O (-1.243, 3.662, 5.351) [0.04626, 0.5, 0.8064]\n",
       "PeriodicSite: O (1.748, 2.249, 1.03) [0.2008, 0.3071, 0.1553]\n",
       "PeriodicSite: O (1.748, 5.075, 1.03) [0.2008, 0.6929, 0.1553]\n",
       "PeriodicSite: O (6.471, 5.075, 5.606) [0.7992, 0.6929, 0.8447]\n",
       "PeriodicSite: O (6.471, 2.249, 5.606) [0.7992, 0.3071, 0.8447]"
      ]
     },
     "execution_count": 141,
     "metadata": {},
     "output_type": "execute_result"
    }
   ],
   "source": [
    "sga.get_refined_structure()"
   ]
  },
  {
   "cell_type": "code",
   "execution_count": 16,
   "metadata": {},
   "outputs": [],
   "source": [
    "conv = SpacegroupAnalyzer(structures[IDX]).get_refined_structure()"
   ]
  },
  {
   "cell_type": "code",
   "execution_count": 20,
   "metadata": {},
   "outputs": [
    {
     "data": {
      "text/plain": [
       "Structure Summary\n",
       "Lattice\n",
       "    abc : 6.34135853 6.34135853 6.97127782\n",
       " angles : 75.51587317999999 75.51587317999999 70.55018100999999\n",
       " volume : 251.6263055990276\n",
       "      A : 5.177013688192098 3.6621520009791255 -0.0\n",
       "      B : 5.177013688192098 -3.6621520009791255 -0.0\n",
       "      C : 2.1357456563371326 -0.0 -6.636060950221978\n",
       "    pbc : True True True\n",
       "PeriodicSite: Cl (0.6048, -6.106e-16, -1.522) [0.01109, 0.01109, 0.2294]\n",
       "PeriodicSite: Cl (11.89, 8.882e-16, -5.114) [0.9889, 0.9889, 0.7706]\n",
       "PeriodicSite: Ho (4.188, 0.0, -5.854) [0.2225, 0.2225, 0.8822]\n",
       "PeriodicSite: Ho (8.302, 4.441e-16, -0.7818) [0.7775, 0.7775, 0.1178]\n",
       "PeriodicSite: O (4.209, 0.0, -3.559) [0.2959, 0.2959, 0.5363]\n",
       "PeriodicSite: O (8.281, 0.0, -3.077) [0.7041, 0.7041, 0.4637]\n",
       "PeriodicSite: O (6.42, -2.22e-16, -5.351) [0.4537, 0.4537, 0.8064]\n",
       "PeriodicSite: O (6.069, 0.0, -1.285) [0.5463, 0.5463, 0.1936]\n",
       "PeriodicSite: O (9.06, -1.413, -5.606) [0.5079, 0.8937, 0.8447]\n",
       "PeriodicSite: O (9.06, 1.413, -5.606) [0.8937, 0.5079, 0.8447]\n",
       "PeriodicSite: O (3.429, 1.413, -1.03) [0.4921, 0.1063, 0.1553]\n",
       "PeriodicSite: O (3.429, -1.413, -1.03) [0.1063, 0.4921, 0.1553]\n",
       "PeriodicSite: W (4.329, -2.22e-16, -1.769) [0.3631, 0.3631, 0.2665]\n",
       "PeriodicSite: W (8.161, 0.0, -4.867) [0.6369, 0.6369, 0.7335]"
      ]
     },
     "execution_count": 20,
     "metadata": {},
     "output_type": "execute_result"
    }
   ],
   "source": [
    "conv.get_primitive_structure().get_reduced_structure()"
   ]
  },
  {
   "cell_type": "code",
   "execution_count": 18,
   "metadata": {},
   "outputs": [
    {
     "data": {
      "text/plain": [
       "[PeriodicSite: Ho (2.052, 0.0, 0.7818) [0.2225, 0.0, 0.1178],\n",
       " PeriodicSite: Ho (6.167, 0.0, 5.854) [0.7775, 0.0, 0.8822],\n",
       " PeriodicSite: Ho (7.229, 3.662, 0.7818) [0.7225, 0.5, 0.1178],\n",
       " PeriodicSite: Ho (0.9895, 3.662, 5.854) [0.2775, 0.5, 0.8822],\n",
       " PeriodicSite: W (2.193, 0.0, 4.867) [0.3631, 0.0, 0.7335],\n",
       " PeriodicSite: W (6.025, 0.0, 1.769) [0.6369, 0.0, 0.2665],\n",
       " PeriodicSite: W (7.37, 3.662, 4.867) [0.8631, 0.5, 0.7335],\n",
       " PeriodicSite: W (0.8481, 3.662, 1.769) [0.1369, 0.5, 0.2665],\n",
       " PeriodicSite: Cl (-1.531, 0.0, 5.114) [0.01109, 0.0, 0.7706],\n",
       " PeriodicSite: Cl (9.749, 0.0, 1.522) [0.9889, 0.0, 0.2294],\n",
       " PeriodicSite: Cl (3.646, 3.662, 5.114) [0.5111, 0.5, 0.7706],\n",
       " PeriodicSite: Cl (4.572, 3.662, 1.522) [0.4889, 0.5, 0.2294],\n",
       " PeriodicSite: O (2.073, 0.0, 3.077) [0.2959, 0.0, 0.4637],\n",
       " PeriodicSite: O (6.145, 0.0, 3.559) [0.7041, 0.0, 0.5363],\n",
       " PeriodicSite: O (4.285, 0.0, 1.285) [0.4537, 0.0, 0.1936],\n",
       " PeriodicSite: O (3.934, 0.0, 5.351) [0.5463, 0.0, 0.8064],\n",
       " PeriodicSite: O (6.925, 5.911, 1.03) [0.7008, 0.8071, 0.1553],\n",
       " PeriodicSite: O (6.925, 1.413, 1.03) [0.7008, 0.1929, 0.1553],\n",
       " PeriodicSite: O (1.294, 1.413, 5.606) [0.2992, 0.1929, 0.8447],\n",
       " PeriodicSite: O (1.294, 5.911, 5.606) [0.2992, 0.8071, 0.8447],\n",
       " PeriodicSite: O (7.25, 3.662, 3.077) [0.7959, 0.5, 0.4637],\n",
       " PeriodicSite: O (0.9681, 3.662, 3.559) [0.2041, 0.5, 0.5363],\n",
       " PeriodicSite: O (9.462, 3.662, 1.285) [0.9537, 0.5, 0.1936],\n",
       " PeriodicSite: O (-1.243, 3.662, 5.351) [0.04626, 0.5, 0.8064],\n",
       " PeriodicSite: O (1.748, 2.249, 1.03) [0.2008, 0.3071, 0.1553],\n",
       " PeriodicSite: O (1.748, 5.075, 1.03) [0.2008, 0.6929, 0.1553],\n",
       " PeriodicSite: O (6.471, 5.075, 5.606) [0.7992, 0.6929, 0.8447],\n",
       " PeriodicSite: O (6.471, 2.249, 5.606) [0.7992, 0.3071, 0.8447]]"
      ]
     },
     "execution_count": 18,
     "metadata": {},
     "output_type": "execute_result"
    }
   ],
   "source": [
    "conv._sites"
   ]
  },
  {
   "cell_type": "code",
   "execution_count": 7,
   "metadata": {},
   "outputs": [
    {
     "data": {
      "text/plain": [
       "array([[ 0.5,  0.5,  0. ],\n",
       "       [-0.5,  0.5,  0. ],\n",
       "       [ 0. ,  0. ,  1. ]])"
      ]
     },
     "execution_count": 7,
     "metadata": {},
     "output_type": "execute_result"
    }
   ],
   "source": [
    "SpacegroupAnalyzer(structures[IDX]).get_conventional_to_primitive_transformation_matrix()"
   ]
  },
  {
   "cell_type": "code",
   "execution_count": 8,
   "metadata": {},
   "outputs": [
    {
     "data": {
      "text/plain": [
       "array([[ 0.5,  0.5,  0. ],\n",
       "       [-0.5,  0.5,  0. ],\n",
       "       [ 0. ,  0. ,  1. ]])"
      ]
     },
     "execution_count": 8,
     "metadata": {},
     "output_type": "execute_result"
    }
   ],
   "source": [
    "SpacegroupAnalyzer(structures[IDX]).get_conventional_to_primitive_transformation_matrix()"
   ]
  },
  {
   "cell_type": "code",
   "execution_count": 10,
   "metadata": {},
   "outputs": [
    {
     "data": {
      "text/plain": [
       "Structure Summary\n",
       "Lattice\n",
       "    abc : 5.048800399999999 5.048800399999999 5.0488004\n",
       " angles : 59.99999999999999 59.99999999999999 59.99999999999999\n",
       " volume : 91.00172125826342\n",
       "      A : 5.741063791887535e-16 3.5700409996973534 3.5700409996973534\n",
       "      B : 3.5700409996973534 0.0 3.5700409996973534\n",
       "      C : 3.570040999697354 3.5700409996973534 4.3720392831041808e-16\n",
       "    pbc : True True True\n",
       "PeriodicSite: Tm (0.0, 0.0, 0.0) [0.0, 0.0, 0.0]\n",
       "PeriodicSite: Mg (3.57, 3.57, 3.57) [0.5, 0.5, 0.5]\n",
       "PeriodicSite: Hg (5.355, 5.355, 5.355) [0.75, 0.75, 0.75]\n",
       "PeriodicSite: Hg (1.785, 1.785, 1.785) [0.25, 0.25, 0.25]"
      ]
     },
     "execution_count": 10,
     "metadata": {},
     "output_type": "execute_result"
    }
   ],
   "source": [
    "SpacegroupAnalyzer(structures[1]).get_conventional_standard_structure().get_primitive_structure()"
   ]
  },
  {
   "cell_type": "code",
   "execution_count": 13,
   "metadata": {},
   "outputs": [
    {
     "data": {
      "image/png": "[encoded data removed]",
      "text/plain": [
       "<Figure size 500x500 with 1 Axes>"
      ]
     },
     "metadata": {},
     "output_type": "display_data"
    }
   ],
   "source": [
    "vis.plot_atoms(structures[0])"
   ]
  },
  {
   "cell_type": "code",
   "execution_count": 15,
   "metadata": {},
   "outputs": [
    {
     "data": {
      "image/png": "[encoded data removed]",
      "text/plain": [
       "<Figure size 500x500 with 1 Axes>"
      ]
     },
     "metadata": {},
     "output_type": "display_data"
    }
   ],
   "source": [
    "vis.plot_atoms(SpacegroupAnalyzer(structures[0]).get_primitive_standard_structure())"
   ]
  },
  {
   "cell_type": "code",
   "execution_count": null,
   "metadata": {},
   "outputs": [],
   "source": []
  }
 ],
 "metadata": {
  "kernelspec": {
   "display_name": ".venv",
   "language": "python",
   "name": "python3"
  },
  "language_info": {
   "codemirror_mode": {
    "name": "ipython",
    "version": 3
   },
   "file_extension": ".py",
   "mimetype": "text/x-python",
   "name": "python",
   "nbconvert_exporter": "python",
   "pygments_lexer": "ipython3",
   "version": "3.10.15"
  }
 },
 "nbformat": 4,
 "nbformat_minor": 2
}
