{
 "cells": [
  {
   "cell_type": "code",
   "execution_count": 1,
   "metadata": {},
   "outputs": [],
   "source": [
    "import pandas as pd\n",
    "from pymatgen.io.cif import CifParser\n",
    "from pyxtal import pyxtal\n",
    "from pymatgen.symmetry.analyzer import SpacegroupAnalyzer\n",
    "import os\n",
    "from pathlib import Path\n",
    "import zipfile"
   ]
  },
  {
   "cell_type": "code",
   "execution_count": 2,
   "metadata": {},
   "outputs": [],
   "source": [
    "# file_path = \"/home/holywater2/crystal_gen/mattergen/results/sg225_g1e3\"\n",
    "# file_path = \"/home/holywater2/crystal_gen/mattergen/results/spg123_base\"\n",
    "file_path = \"/home/holywater2/crystal_gen/mattergen/results/\"\n",
    "# file_path += \"/spg38_gs0.00001_ge0.001\"\n",
    "file_path += \"spg123_gs0.05_ge0.2_v4\""
   ]
  },
  {
   "cell_type": "code",
   "execution_count": 3,
   "metadata": {},
   "outputs": [],
   "source": [
    "file_path = \"/home/holywater2/crystal_gen/mattergen/results/prim/spg6_gs1_ge3_prim_fin/projected\"\n",
    "# file_path = \"/home/holywater2/crystal_gen/mattergen/results/prim/spg6_gs5_ge15_prim_fin4/result_0/projected\"\n",
    "# file_path = \"/home/holywater2/crystal_gen/mattergen/results/prim/spg38_gs5_ge15_prim_fin2/result_0/projected\""
   ]
  },
  {
   "cell_type": "code",
   "execution_count": 4,
   "metadata": {},
   "outputs": [],
   "source": [
    "# spg = file_path.split(\"/\")[-1].split(\"_\")[0].replace(\"spg\", \"\")\n",
    "# spg = int(spg)\n",
    "# print(spg)"
   ]
  },
  {
   "cell_type": "code",
   "execution_count": 5,
   "metadata": {},
   "outputs": [],
   "source": [
    "spg = 38"
   ]
  },
  {
   "cell_type": "code",
   "execution_count": 6,
   "metadata": {},
   "outputs": [
    {
     "name": "stdout",
     "output_type": "stream",
     "text": [
      "No zip file found\n",
      "/home/holywater2/crystal_gen/mattergen/results/prim/spg6_gs1_ge3_prim_fin/projected/generated_crystals_cif\n"
     ]
    }
   ],
   "source": [
    "if not os.path.exists(file_path + \"/generated_crystals_cif.zip\"):\n",
    "    print(\"No zip file found\")\n",
    "elif os.path.exists(file_path + \"/generated_crystals_cif\"):\n",
    "    print(\"Directory already exists\")\n",
    "else:\n",
    "    zipfile.ZipFile(file_path + \"/generated_crystals_cif.zip\", 'r').extractall(file_path)\n",
    "    os.rename(file_path + \"/tmp\", file_path + \"/generated_crystals_cif\")\n",
    "cif_path = file_path + \"/generated_crystals_cif\"\n",
    "print(cif_path)"
   ]
  },
  {
   "cell_type": "code",
   "execution_count": 7,
   "metadata": {},
   "outputs": [
    {
     "ename": "FileNotFoundError",
     "evalue": "[Errno 2] No such file or directory: '/home/holywater2/crystal_gen/mattergen/results/prim/spg6_gs1_ge3_prim_fin/projected/generated_crystals_cif'",
     "output_type": "error",
     "traceback": [
      "\u001b[0;31m---------------------------------------------------------------------------\u001b[0m",
      "\u001b[0;31mFileNotFoundError\u001b[0m                         Traceback (most recent call last)",
      "Cell \u001b[0;32mIn[7], line 2\u001b[0m\n\u001b[1;32m      1\u001b[0m \u001b[38;5;66;03m# get list of cifs from directory\u001b[39;00m\n\u001b[0;32m----> 2\u001b[0m cif_list \u001b[38;5;241m=\u001b[39m [f \u001b[38;5;28;01mfor\u001b[39;00m f \u001b[38;5;129;01min\u001b[39;00m \u001b[43mos\u001b[49m\u001b[38;5;241;43m.\u001b[39;49m\u001b[43mlistdir\u001b[49m\u001b[43m(\u001b[49m\u001b[43mcif_path\u001b[49m\u001b[43m)\u001b[49m \u001b[38;5;28;01mif\u001b[39;00m f\u001b[38;5;241m.\u001b[39mendswith(\u001b[38;5;124m'\u001b[39m\u001b[38;5;124m.cif\u001b[39m\u001b[38;5;124m'\u001b[39m)]\n\u001b[1;32m      3\u001b[0m cif_list\u001b[38;5;241m.\u001b[39msort(key\u001b[38;5;241m=\u001b[39m\u001b[38;5;28;01mlambda\u001b[39;00m x: \u001b[38;5;28mint\u001b[39m(x\u001b[38;5;241m.\u001b[39msplit(\u001b[38;5;124m'\u001b[39m\u001b[38;5;124m_\u001b[39m\u001b[38;5;124m'\u001b[39m)[\u001b[38;5;241m1\u001b[39m]\u001b[38;5;241m.\u001b[39msplit(\u001b[38;5;124m'\u001b[39m\u001b[38;5;124m.\u001b[39m\u001b[38;5;124m'\u001b[39m)[\u001b[38;5;241m0\u001b[39m]))\n\u001b[1;32m      4\u001b[0m cif_list \u001b[38;5;241m=\u001b[39m [os\u001b[38;5;241m.\u001b[39mpath\u001b[38;5;241m.\u001b[39mjoin(cif_path, f) \u001b[38;5;28;01mfor\u001b[39;00m f \u001b[38;5;129;01min\u001b[39;00m cif_list]\n",
      "\u001b[0;31mFileNotFoundError\u001b[0m: [Errno 2] No such file or directory: '/home/holywater2/crystal_gen/mattergen/results/prim/spg6_gs1_ge3_prim_fin/projected/generated_crystals_cif'"
     ]
    }
   ],
   "source": [
    "# get list of cifs from directory\n",
    "cif_list = [f for f in os.listdir(cif_path) if f.endswith('.cif')]\n",
    "cif_list.sort(key=lambda x: int(x.split('_')[1].split('.')[0]))\n",
    "cif_list = [os.path.join(cif_path, f) for f in cif_list]"
   ]
  },
  {
   "cell_type": "code",
   "execution_count": 57,
   "metadata": {},
   "outputs": [
    {
     "name": "stdout",
     "output_type": "stream",
     "text": [
      "/home/holywater2/crystal_gen/mattergen/results/prim/spg38_gs5_ge15_prim_fin2/result_0/projected/generated_crystals_cif/gen_0.cif\n"
     ]
    },
    {
     "name": "stderr",
     "output_type": "stream",
     "text": [
      "/tmp/ipykernel_2076632/2063553344.py:5: FutureWarning: get_structures is deprecated; use parse_structures in pymatgen.io.cif instead.\n",
      "The only difference is that primitive defaults to False in the new parse_structures method.So parse_structures(primitive=True) is equivalent to the old behavior of get_structures().\n",
      "  structure = parser.get_structures(primitive=False)[0]\n",
      "/home/holywater2/crystal_gen/mattergen/.venv/lib/python3.10/site-packages/pymatgen/io/cif.py:1094: UserWarning: Some occupancies ([2.0, 2.0, 2.0, 2.0, 2.0, 2.0, 2.0, 2.0]) sum to > 1! If they are within the occupancy_tolerance, they will be rescaled. The current occupancy_tolerance is set to: 1.0\n",
      "  warnings.warn(msg)\n",
      "/home/holywater2/crystal_gen/mattergen/.venv/lib/python3.10/site-packages/pymatgen/io/cif.py:1300: UserWarning: No structure parsed for section 1 in CIF.\n",
      "Occupancy 2.0 exceeded tolerance.\n",
      "  warnings.warn(msg)\n",
      "/home/holywater2/crystal_gen/mattergen/.venv/lib/python3.10/site-packages/pymatgen/io/cif.py:1304: UserWarning: Issues encountered while parsing CIF: Some occupancies ([2.0, 2.0, 2.0, 2.0, 2.0, 2.0, 2.0, 2.0]) sum to > 1! If they are within the occupancy_tolerance, they will be rescaled. The current occupancy_tolerance is set to: 1.0\n",
      "No structure parsed for section 1 in CIF.\n",
      "Occupancy 2.0 exceeded tolerance.\n",
      "  warnings.warn(\"Issues encountered while parsing CIF: \" + \"\\n\".join(self.warnings))\n"
     ]
    },
    {
     "ename": "ValueError",
     "evalue": "Invalid CIF file with no structures!",
     "output_type": "error",
     "traceback": [
      "\u001b[0;31m---------------------------------------------------------------------------\u001b[0m",
      "\u001b[0;31mValueError\u001b[0m                                Traceback (most recent call last)",
      "Cell \u001b[0;32mIn[57], line 5\u001b[0m\n\u001b[1;32m      3\u001b[0m parser \u001b[38;5;241m=\u001b[39m CifParser(cif_file)\n\u001b[1;32m      4\u001b[0m \u001b[38;5;28mprint\u001b[39m(cif_file)\n\u001b[0;32m----> 5\u001b[0m structure \u001b[38;5;241m=\u001b[39m \u001b[43mparser\u001b[49m\u001b[38;5;241;43m.\u001b[39;49m\u001b[43mget_structures\u001b[49m\u001b[43m(\u001b[49m\u001b[43mprimitive\u001b[49m\u001b[38;5;241;43m=\u001b[39;49m\u001b[38;5;28;43;01mFalse\u001b[39;49;00m\u001b[43m)\u001b[49m[\u001b[38;5;241m0\u001b[39m]\n\u001b[1;32m      6\u001b[0m structures\u001b[38;5;241m.\u001b[39mappend(structure)\n",
      "File \u001b[0;32m~/crystal_gen/mattergen/.venv/lib/python3.10/site-packages/monty/dev.py:129\u001b[0m, in \u001b[0;36mdeprecated.<locals>.deprecated_function_decorator.<locals>.wrapped\u001b[0;34m(*args, **kwargs)\u001b[0m\n\u001b[1;32m    127\u001b[0m msg \u001b[38;5;241m=\u001b[39m craft_message(old, replacement, message, _deadline)\n\u001b[1;32m    128\u001b[0m warnings\u001b[38;5;241m.\u001b[39mwarn(msg, category\u001b[38;5;241m=\u001b[39mcategory, stacklevel\u001b[38;5;241m=\u001b[39m\u001b[38;5;241m2\u001b[39m)\n\u001b[0;32m--> 129\u001b[0m \u001b[38;5;28;01mreturn\u001b[39;00m \u001b[43mold\u001b[49m\u001b[43m(\u001b[49m\u001b[38;5;241;43m*\u001b[39;49m\u001b[43margs\u001b[49m\u001b[43m,\u001b[49m\u001b[43m \u001b[49m\u001b[38;5;241;43m*\u001b[39;49m\u001b[38;5;241;43m*\u001b[39;49m\u001b[43mkwargs\u001b[49m\u001b[43m)\u001b[49m\n",
      "File \u001b[0;32m~/crystal_gen/mattergen/.venv/lib/python3.10/site-packages/pymatgen/io/cif.py:1327\u001b[0m, in \u001b[0;36mCifParser.get_structures\u001b[0;34m(self, *args, **kwargs)\u001b[0m\n\u001b[1;32m   1325\u001b[0m     args \u001b[38;5;241m=\u001b[39m args[\u001b[38;5;241m1\u001b[39m:]\n\u001b[1;32m   1326\u001b[0m kwargs\u001b[38;5;241m.\u001b[39msetdefault(\u001b[38;5;124m\"\u001b[39m\u001b[38;5;124mprimitive\u001b[39m\u001b[38;5;124m\"\u001b[39m, \u001b[38;5;28;01mTrue\u001b[39;00m)\n\u001b[0;32m-> 1327\u001b[0m \u001b[38;5;28;01mreturn\u001b[39;00m \u001b[38;5;28;43mself\u001b[39;49m\u001b[38;5;241;43m.\u001b[39;49m\u001b[43mparse_structures\u001b[49m\u001b[43m(\u001b[49m\u001b[38;5;241;43m*\u001b[39;49m\u001b[43margs\u001b[49m\u001b[43m,\u001b[49m\u001b[43m \u001b[49m\u001b[38;5;241;43m*\u001b[39;49m\u001b[38;5;241;43m*\u001b[39;49m\u001b[43mkwargs\u001b[49m\u001b[43m)\u001b[49m\n",
      "File \u001b[0;32m~/crystal_gen/mattergen/.venv/lib/python3.10/site-packages/pymatgen/io/cif.py:1307\u001b[0m, in \u001b[0;36mCifParser.parse_structures\u001b[0;34m(self, primitive, symmetrized, check_occu, on_error)\u001b[0m\n\u001b[1;32m   1304\u001b[0m     warnings\u001b[38;5;241m.\u001b[39mwarn(\u001b[38;5;124m\"\u001b[39m\u001b[38;5;124mIssues encountered while parsing CIF: \u001b[39m\u001b[38;5;124m\"\u001b[39m \u001b[38;5;241m+\u001b[39m \u001b[38;5;124m\"\u001b[39m\u001b[38;5;130;01m\\n\u001b[39;00m\u001b[38;5;124m\"\u001b[39m\u001b[38;5;241m.\u001b[39mjoin(\u001b[38;5;28mself\u001b[39m\u001b[38;5;241m.\u001b[39mwarnings))\n\u001b[1;32m   1306\u001b[0m \u001b[38;5;28;01mif\u001b[39;00m \u001b[38;5;129;01mnot\u001b[39;00m structures:\n\u001b[0;32m-> 1307\u001b[0m     \u001b[38;5;28;01mraise\u001b[39;00m \u001b[38;5;167;01mValueError\u001b[39;00m(\u001b[38;5;124m\"\u001b[39m\u001b[38;5;124mInvalid CIF file with no structures!\u001b[39m\u001b[38;5;124m\"\u001b[39m)\n\u001b[1;32m   1308\u001b[0m \u001b[38;5;28;01mreturn\u001b[39;00m structures\n",
      "\u001b[0;31mValueError\u001b[0m: Invalid CIF file with no structures!"
     ]
    }
   ],
   "source": [
    "structures = []\n",
    "for cif_file in cif_list:\n",
    "    parser = CifParser(cif_file)\n",
    "    print(cif_file)\n",
    "    structure = parser.get_structures(primitive=False)[0]\n",
    "    structures.append(structure)"
   ]
  },
  {
   "cell_type": "code",
   "execution_count": 14,
   "metadata": {},
   "outputs": [
    {
     "ename": "SymmetryUndeterminedError",
     "evalue": "",
     "output_type": "error",
     "traceback": [
      "\u001b[0;31m---------------------------------------------------------------------------\u001b[0m",
      "\u001b[0;31mSymmetryUndeterminedError\u001b[0m                 Traceback (most recent call last)",
      "Cell \u001b[0;32mIn[14], line 3\u001b[0m\n\u001b[1;32m      1\u001b[0m res \u001b[38;5;241m=\u001b[39m {}\n\u001b[1;32m      2\u001b[0m \u001b[38;5;28;01mfor\u001b[39;00m i,structure \u001b[38;5;129;01min\u001b[39;00m \u001b[38;5;28menumerate\u001b[39m(structures):\n\u001b[0;32m----> 3\u001b[0m     sgn \u001b[38;5;241m=\u001b[39m \u001b[43mSpacegroupAnalyzer\u001b[49m\u001b[43m(\u001b[49m\u001b[43mstructure\u001b[49m\u001b[43m,\u001b[49m\u001b[43msymprec\u001b[49m\u001b[38;5;241;43m=\u001b[39;49m\u001b[38;5;241;43m0.1\u001b[39;49m\u001b[43m)\u001b[49m\u001b[38;5;241m.\u001b[39mget_space_group_number()\n\u001b[1;32m      4\u001b[0m     \u001b[38;5;66;03m# print(i,sgn)\u001b[39;00m\n\u001b[1;32m      5\u001b[0m     \u001b[38;5;28;01mif\u001b[39;00m sgn \u001b[38;5;129;01mnot\u001b[39;00m \u001b[38;5;129;01min\u001b[39;00m res:\n",
      "File \u001b[0;32m~/crystal_gen/mattergen/.venv/lib/python3.10/site-packages/pymatgen/symmetry/analyzer.py:152\u001b[0m, in \u001b[0;36mSpacegroupAnalyzer.__init__\u001b[0;34m(self, structure, symprec, angle_tolerance)\u001b[0m\n\u001b[1;32m    145\u001b[0m \u001b[38;5;28;01melse\u001b[39;00m:  \u001b[38;5;66;03m# if no magmoms given do not add to cell\u001b[39;00m\n\u001b[1;32m    146\u001b[0m     \u001b[38;5;28mself\u001b[39m\u001b[38;5;241m.\u001b[39m_cell \u001b[38;5;241m=\u001b[39m (\n\u001b[1;32m    147\u001b[0m         \u001b[38;5;28mtuple\u001b[39m(\u001b[38;5;28mmap\u001b[39m(\u001b[38;5;28mtuple\u001b[39m, structure\u001b[38;5;241m.\u001b[39mlattice\u001b[38;5;241m.\u001b[39mmatrix\u001b[38;5;241m.\u001b[39mtolist())),\n\u001b[1;32m    148\u001b[0m         \u001b[38;5;28mtuple\u001b[39m(\u001b[38;5;28mmap\u001b[39m(\u001b[38;5;28mtuple\u001b[39m, structure\u001b[38;5;241m.\u001b[39mfrac_coords\u001b[38;5;241m.\u001b[39mtolist())),\n\u001b[1;32m    149\u001b[0m         \u001b[38;5;28mtuple\u001b[39m(zs),\n\u001b[1;32m    150\u001b[0m     )\n\u001b[0;32m--> 152\u001b[0m \u001b[38;5;28mself\u001b[39m\u001b[38;5;241m.\u001b[39m_space_group_data \u001b[38;5;241m=\u001b[39m \u001b[43m_get_symmetry_dataset\u001b[49m\u001b[43m(\u001b[49m\u001b[38;5;28;43mself\u001b[39;49m\u001b[38;5;241;43m.\u001b[39;49m\u001b[43m_cell\u001b[49m\u001b[43m,\u001b[49m\u001b[43m \u001b[49m\u001b[43msymprec\u001b[49m\u001b[43m,\u001b[49m\u001b[43m \u001b[49m\u001b[43mangle_tolerance\u001b[49m\u001b[43m)\u001b[49m\n",
      "File \u001b[0;32m~/crystal_gen/mattergen/.venv/lib/python3.10/site-packages/pymatgen/symmetry/analyzer.py:80\u001b[0m, in \u001b[0;36m_get_symmetry_dataset\u001b[0;34m(cell, symprec, angle_tolerance)\u001b[0m\n\u001b[1;32m     78\u001b[0m dataset \u001b[38;5;241m=\u001b[39m spglib\u001b[38;5;241m.\u001b[39mget_symmetry_dataset(cell, symprec\u001b[38;5;241m=\u001b[39msymprec, angle_tolerance\u001b[38;5;241m=\u001b[39mangle_tolerance)\n\u001b[1;32m     79\u001b[0m \u001b[38;5;28;01mif\u001b[39;00m dataset \u001b[38;5;129;01mis\u001b[39;00m \u001b[38;5;28;01mNone\u001b[39;00m:\n\u001b[0;32m---> 80\u001b[0m     \u001b[38;5;28;01mraise\u001b[39;00m SymmetryUndeterminedError\n\u001b[1;32m     81\u001b[0m \u001b[38;5;28;01mreturn\u001b[39;00m dataset\n",
      "\u001b[0;31mSymmetryUndeterminedError\u001b[0m: "
     ]
    }
   ],
   "source": [
    "res = {}\n",
    "for i,structure in enumerate(structures):\n",
    "    sgn = SpacegroupAnalyzer(structure,symprec=0.1).get_space_group_number()\n",
    "    # print(i,sgn)\n",
    "    if sgn not in res:\n",
    "        res[sgn] = 0\n",
    "    res[sgn] += 1\n",
    "for k in sorted(res.keys()):\n",
    "    print(f\"{k:3} {res[k]}  {res[k]/len(structures):.2f}\")\n",
    "print()\n",
    "\n",
    "if spg in res:\n",
    "    print(f\"{spg} {res[spg]}  {res[spg]/len(structures):.2f}\")\n",
    "else:\n",
    "    print(f\"spg{spg} is not found\")\n",
    "    res[spg] = 0"
   ]
  },
  {
   "cell_type": "code",
   "execution_count": 15,
   "metadata": {},
   "outputs": [
    {
     "name": "stdout",
     "output_type": "stream",
     "text": [
      "  1 27  0.31\n",
      "  6 61  0.69\n",
      "\n",
      "spg38 is not found\n"
     ]
    }
   ],
   "source": [
    "res = {}\n",
    "for i,structure in enumerate(structures):\n",
    "    sgn = SpacegroupAnalyzer(structure,symprec=0.01).get_space_group_number()\n",
    "    # print(i,sgn)\n",
    "    if sgn not in res:\n",
    "        res[sgn] = 0\n",
    "    res[sgn] += 1\n",
    "for k in sorted(res.keys()):\n",
    "    print(f\"{k:3} {res[k]}  {res[k]/len(structures):.2f}\")\n",
    "print()\n",
    "\n",
    "if spg in res:\n",
    "    print(f\"{spg} {res[spg]}  {res[spg]/len(structures):.2f}\")\n",
    "else:\n",
    "    print(f\"spg{spg} is not found\")\n",
    "    res[spg] = 0"
   ]
  },
  {
   "cell_type": "code",
   "execution_count": 13,
   "metadata": {},
   "outputs": [],
   "source": [
    "# write the number of spg\n",
    "with open(file_path + f\"/spg{spg}_{res[spg]}_{len(structures)}.txt\", \"w\") as f:\n",
    "    for k in sorted(res.keys()):\n",
    "        f.write(f\"{k:3} {res[k]}  {res[k]/len(structures):.2f}\\n\")\n",
    "    f.write(\"\\n\")\n",
    "    if spg in res:\n",
    "        f.write(f\"{spg} {res[spg]}  {res[spg]/len(structures):.2f}\\n\")\n",
    "    else:\n",
    "        f.write(f\"spg{spg} is not found\\n\")"
   ]
  }
 ],
 "metadata": {
  "kernelspec": {
   "display_name": ".venv",
   "language": "python",
   "name": "python3"
  },
  "language_info": {
   "codemirror_mode": {
    "name": "ipython",
    "version": 3
   },
   "file_extension": ".py",
   "mimetype": "text/x-python",
   "name": "python",
   "nbconvert_exporter": "python",
   "pygments_lexer": "ipython3",
   "version": "3.10.15"
  }
 },
 "nbformat": 4,
 "nbformat_minor": 2
}
