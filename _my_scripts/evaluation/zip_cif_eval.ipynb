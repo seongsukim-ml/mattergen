{
 "cells": [
  {
   "cell_type": "code",
   "execution_count": 1,
   "metadata": {},
   "outputs": [],
   "source": [
    "import pandas as pd\n",
    "from pymatgen.io.cif import CifParser\n",
    "from pyxtal import pyxtal\n",
    "from pymatgen.symmetry.analyzer import SpacegroupAnalyzer\n",
    "import os\n",
    "from pathlib import Path\n",
    "import zipfile"
   ]
  },
  {
   "cell_type": "code",
   "execution_count": 2,
   "metadata": {},
   "outputs": [],
   "source": [
    "# file_path = \"/home/holywater2/crystal_gen/mattergen/results/sg225_g1e3\"\n",
    "# file_path = \"/home/holywater2/crystal_gen/mattergen/results/spg123_base\"\n",
    "file_path = \"/home/holywater2/crystal_gen/mattergen/results/\"\n",
    "# file_path += \"/spg38_gs0.00001_ge0.001\"\n",
    "file_path += \"spg123_gs0.05_ge0.2_v4\""
   ]
  },
  {
   "cell_type": "code",
   "execution_count": 3,
   "metadata": {},
   "outputs": [],
   "source": [
    "file_path = \"/home/holywater2/crystal_gen/mattergen/results/prim/spg6_gs1_ge3_prim_fin/projected\""
   ]
  },
  {
   "cell_type": "code",
   "execution_count": null,
   "metadata": {},
   "outputs": [
    {
     "ename": "ValueError",
     "evalue": "invalid literal for int() with base 10: 'projected'",
     "output_type": "error",
     "traceback": [
      "\u001b[0;31m---------------------------------------------------------------------------\u001b[0m",
      "\u001b[0;31mValueError\u001b[0m                                Traceback (most recent call last)",
      "Cell \u001b[0;32mIn[4], line 2\u001b[0m\n\u001b[1;32m      1\u001b[0m spg \u001b[38;5;241m=\u001b[39m file_path\u001b[38;5;241m.\u001b[39msplit(\u001b[38;5;124m\"\u001b[39m\u001b[38;5;124m/\u001b[39m\u001b[38;5;124m\"\u001b[39m)[\u001b[38;5;241m-\u001b[39m\u001b[38;5;241m1\u001b[39m]\u001b[38;5;241m.\u001b[39msplit(\u001b[38;5;124m\"\u001b[39m\u001b[38;5;124m_\u001b[39m\u001b[38;5;124m\"\u001b[39m)[\u001b[38;5;241m0\u001b[39m]\u001b[38;5;241m.\u001b[39mreplace(\u001b[38;5;124m\"\u001b[39m\u001b[38;5;124mspg\u001b[39m\u001b[38;5;124m\"\u001b[39m, \u001b[38;5;124m\"\u001b[39m\u001b[38;5;124m\"\u001b[39m)\n\u001b[0;32m----> 2\u001b[0m spg \u001b[38;5;241m=\u001b[39m \u001b[38;5;28;43mint\u001b[39;49m\u001b[43m(\u001b[49m\u001b[43mspg\u001b[49m\u001b[43m)\u001b[49m\n\u001b[1;32m      3\u001b[0m \u001b[38;5;28mprint\u001b[39m(spg)\n",
      "\u001b[0;31mValueError\u001b[0m: invalid literal for int() with base 10: 'projected'"
     ]
    }
   ],
   "source": [
    "# spg = file_path.split(\"/\")[-1].split(\"_\")[0].replace(\"spg\", \"\")\n",
    "# spg = int(spg)\n",
    "# print(spg)"
   ]
  },
  {
   "cell_type": "code",
   "execution_count": 8,
   "metadata": {},
   "outputs": [
    {
     "name": "stdout",
     "output_type": "stream",
     "text": [
      "/home/holywater2/crystal_gen/mattergen/results/prim/spg123_gs1_ge3_prim_v5/generated_crystals_cif\n"
     ]
    }
   ],
   "source": [
    "if not os.path.exists(file_path + \"/generated_crystals_cif.zip\"):\n",
    "    print(\"No zip file found\")\n",
    "elif os.path.exists(file_path + \"/generated_crystals_cif\"):\n",
    "    print(\"Directory already exists\")\n",
    "else:\n",
    "    zipfile.ZipFile(file_path + \"/generated_crystals_cif.zip\", 'r').extractall(file_path)\n",
    "    os.rename(file_path + \"/tmp\", file_path + \"/generated_crystals_cif\")\n",
    "cif_path = file_path + \"/generated_crystals_cif\"\n",
    "print(cif_path)"
   ]
  },
  {
   "cell_type": "code",
   "execution_count": 9,
   "metadata": {},
   "outputs": [],
   "source": [
    "# get list of cifs from directory\n",
    "cif_list = [f for f in os.listdir(cif_path) if f.endswith('.cif')]\n",
    "cif_list.sort(key=lambda x: int(x.split('_')[1].split('.')[0]))\n",
    "cif_list = [os.path.join(cif_path, f) for f in cif_list]"
   ]
  },
  {
   "cell_type": "code",
   "execution_count": 10,
   "metadata": {},
   "outputs": [
    {
     "name": "stderr",
     "output_type": "stream",
     "text": [
      "/tmp/ipykernel_1285907/3946668647.py:4: FutureWarning: get_structures is deprecated; use parse_structures in pymatgen.io.cif instead.\n",
      "The only difference is that primitive defaults to False in the new parse_structures method.So parse_structures(primitive=True) is equivalent to the old behavior of get_structures().\n",
      "  structure = parser.get_structures(primitive=False)[0]\n"
     ]
    }
   ],
   "source": [
    "structures = []\n",
    "for cif_file in cif_list:\n",
    "    parser = CifParser(cif_file)\n",
    "    structure = parser.get_structures(primitive=False)[0]\n",
    "    structures.append(structure)"
   ]
  },
  {
   "cell_type": "code",
   "execution_count": 11,
   "metadata": {},
   "outputs": [],
   "source": [
    "sga = SpacegroupAnalyzer(structure,symprec=0.1)"
   ]
  },
  {
   "cell_type": "code",
   "execution_count": 12,
   "metadata": {},
   "outputs": [
    {
     "data": {
      "text/plain": [
       "<pymatgen.symmetry.analyzer.SpacegroupAnalyzer at 0x7fc2c9377a30>"
      ]
     },
     "execution_count": 12,
     "metadata": {},
     "output_type": "execute_result"
    }
   ],
   "source": [
    "sga"
   ]
  },
  {
   "cell_type": "code",
   "execution_count": 13,
   "metadata": {},
   "outputs": [
    {
     "name": "stdout",
     "output_type": "stream",
     "text": [
      "  1 12  0.24\n",
      "  2 4  0.08\n",
      "  3 1  0.02\n",
      "  8 3  0.06\n",
      " 10 3  0.06\n",
      " 12 4  0.08\n",
      " 65 1  0.02\n",
      " 99 1  0.02\n",
      "119 1  0.02\n",
      "123 6  0.12\n",
      "139 1  0.02\n",
      "162 1  0.02\n",
      "166 3  0.06\n",
      "198 1  0.02\n",
      "216 1  0.02\n",
      "221 3  0.06\n",
      "225 3  0.06\n",
      "229 1  0.02\n",
      "\n",
      "123 6  0.12\n"
     ]
    }
   ],
   "source": [
    "res = {}\n",
    "for i,structure in enumerate(structures):\n",
    "    sgn = SpacegroupAnalyzer(structure,symprec=0.1).get_space_group_number()\n",
    "    # print(i,sgn)\n",
    "    if sgn not in res:\n",
    "        res[sgn] = 0\n",
    "    res[sgn] += 1\n",
    "for k in sorted(res.keys()):\n",
    "    print(f\"{k:3} {res[k]}  {res[k]/len(structures):.2f}\")\n",
    "print()\n",
    "\n",
    "if spg in res:\n",
    "    print(f\"{spg} {res[spg]}  {res[spg]/len(structures):.2f}\")\n",
    "else:\n",
    "    print(f\"spg{spg} is not found\")\n",
    "    res[spg] = 0"
   ]
  },
  {
   "cell_type": "code",
   "execution_count": 14,
   "metadata": {},
   "outputs": [
    {
     "name": "stdout",
     "output_type": "stream",
     "text": [
      "  1 26  0.52\n",
      "  2 1  0.02\n",
      "  5 1  0.02\n",
      "  6 1  0.02\n",
      "  8 1  0.02\n",
      " 10 1  0.02\n",
      " 12 2  0.04\n",
      " 25 1  0.02\n",
      " 65 1  0.02\n",
      "115 1  0.02\n",
      "123 5  0.10\n",
      "139 1  0.02\n",
      "160 1  0.02\n",
      "162 1  0.02\n",
      "166 1  0.02\n",
      "221 3  0.06\n",
      "225 1  0.02\n",
      "229 1  0.02\n",
      "\n",
      "123 5  0.10\n"
     ]
    }
   ],
   "source": [
    "res = {}\n",
    "for i,structure in enumerate(structures):\n",
    "    sgn = SpacegroupAnalyzer(structure,symprec=0.01).get_space_group_number()\n",
    "    # print(i,sgn)\n",
    "    if sgn not in res:\n",
    "        res[sgn] = 0\n",
    "    res[sgn] += 1\n",
    "for k in sorted(res.keys()):\n",
    "    print(f\"{k:3} {res[k]}  {res[k]/len(structures):.2f}\")\n",
    "print()\n",
    "\n",
    "if spg in res:\n",
    "    print(f\"{spg} {res[spg]}  {res[spg]/len(structures):.2f}\")\n",
    "else:\n",
    "    print(f\"spg{spg} is not found\")\n",
    "    res[spg] = 0"
   ]
  },
  {
   "cell_type": "code",
   "execution_count": 15,
   "metadata": {},
   "outputs": [],
   "source": [
    "# write the number of spg\n",
    "with open(file_path + f\"/spg{spg}_{res[spg]}_{len(structures)}.txt\", \"w\") as f:\n",
    "    for k in sorted(res.keys()):\n",
    "        f.write(f\"{k:3} {res[k]}  {res[k]/len(structures):.2f}\\n\")\n",
    "    f.write(\"\\n\")\n",
    "    if spg in res:\n",
    "        f.write(f\"{spg} {res[spg]}  {res[spg]/len(structures):.2f}\\n\")\n",
    "    else:\n",
    "        f.write(f\"spg{spg} is not found\\n\")"
   ]
  }
 ],
 "metadata": {
  "kernelspec": {
   "display_name": ".venv",
   "language": "python",
   "name": "python3"
  },
  "language_info": {
   "codemirror_mode": {
    "name": "ipython",
    "version": 3
   },
   "file_extension": ".py",
   "mimetype": "text/x-python",
   "name": "python",
   "nbconvert_exporter": "python",
   "pygments_lexer": "ipython3",
   "version": "3.10.15"
  }
 },
 "nbformat": 4,
 "nbformat_minor": 2
}
