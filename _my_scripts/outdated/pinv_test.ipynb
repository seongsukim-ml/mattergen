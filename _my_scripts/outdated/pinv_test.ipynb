{
 "cells": [
  {
   "cell_type": "code",
   "execution_count": 1,
   "metadata": {},
   "outputs": [
    {
     "name": "stdout",
     "output_type": "stream",
     "text": [
      "Starting...\n",
      "Processing /home/holywater2/crystal_gen/mattergen/datasets/mp_20/val.csv\n"
     ]
    },
    {
     "data": {
      "application/vnd.jupyter.widget-view+json": {
       "model_id": "b44d9db286ab46ceb4a370a85560f650",
       "version_major": 2,
       "version_minor": 0
      },
      "text/plain": [
       "  0%|          | 0/100 [00:00<?, ?it/s]"
      ]
     },
     "metadata": {},
     "output_type": "display_data"
    }
   ],
   "source": [
    "# %%\n",
    "import pandas as pd\n",
    "from pymatgen.io.cif import CifParser\n",
    "from pyxtal import pyxtal\n",
    "from pymatgen.symmetry.analyzer import SpacegroupAnalyzer\n",
    "import numpy as np\n",
    "from pyxtal.io import write_cif\n",
    "\n",
    "from pymatgen.core.structure import Structure\n",
    "from tqdm import tqdm\n",
    "import pickle\n",
    "from p_tqdm import p_map\n",
    "import argparse\n",
    "import os\n",
    "from pathlib import Path\n",
    "import warnings\n",
    "\n",
    "warnings.filterwarnings(\"ignore\")\n",
    "\n",
    "\n",
    "# %%\n",
    "def process_cif_to_conventional(cif_str):\n",
    "    structure = CifParser.from_str(cif_str).get_structures()[0]\n",
    "    sga = SpacegroupAnalyzer(structure)\n",
    "    pyx = pyxtal()\n",
    "    pyx.from_seed(structure, tol=0.01)\n",
    "    space_group = pyx.group.number\n",
    "    species = []\n",
    "    anchors = []\n",
    "    matrices = []\n",
    "    coords = []\n",
    "    for site in pyx.atom_sites:\n",
    "        specie = site.specie\n",
    "        anchor = len(matrices)\n",
    "        # coord = site.position\n",
    "        for syms in site.wp:\n",
    "            species.append(specie)\n",
    "            matrices.append(syms.affine_matrix)\n",
    "            # coords.append(syms.operate(coord))\n",
    "            anchors.append(anchor)\n",
    "    # anchors = np.array(anchors)\n",
    "    matrices = np.array(matrices).tolist()\n",
    "    # coords = np.array(coords) % 1.0\n",
    "    sym_info = {\"anchors\": anchors, \"wyckoff_ops\": matrices, \"spacegroup\": space_group}\n",
    "    cif = write_cif(pyx)[805:]\n",
    "    num_sites = len(species)\n",
    "    formula = pyx.formula\n",
    "    return cif, sym_info, num_sites, formula\n",
    "\n",
    "\n",
    "# %%\n",
    "def process_data(data):\n",
    "    cif_str = data[\"cif\"]\n",
    "    cif, sym_info, num_sites, formula = process_cif_to_conventional(cif_str)\n",
    "    data[\"cif\"] = cif\n",
    "    data[\"sym_info\"] = sym_info\n",
    "    data[\"num_sites\"] = num_sites\n",
    "    data[\"formula\"] = formula\n",
    "    return data\n",
    "\n",
    "\n",
    "# main code\n",
    "# parser = argparse.ArgumentParser()\n",
    "# parser.add_argument(\n",
    "#     \"--csv_path\", type=str, default=\"/home/holywater2/crystal_gen/mattergen/datasets\"\n",
    "# )\n",
    "# parser.add_argument(\"--data_name\", type=str, default=\"mp_20\")\n",
    "# parser.add_argument(\"--mode\", type=str, default=\"val\")\n",
    "# parser.add_argument(\"--num_cpus\", type=int, default=16)\n",
    "# args = parser.parse_args()\n",
    "args = argparse.Namespace(\n",
    "    csv_path=\"/home/holywater2/crystal_gen/mattergen/datasets\",\n",
    "    data_name=\"mp_20\",\n",
    "    mode=\"val\",\n",
    "    num_cpus=16,\n",
    ")\n",
    "print(\"Starting...\")\n",
    "csv_path = Path(args.csv_path) / args.data_name\n",
    "print(f\"Processing {csv_path}/{args.mode}.csv\")\n",
    "df = pd.read_csv(csv_path / f\"{args.mode}.csv\", index_col=0)\n",
    "new_data = p_map(process_data, df[:100].to_dict(orient=\"records\"), num_cpus=args.num_cpus)\n",
    "new_df = pd.DataFrame(new_data)\n",
    "# os.makedirs(f\"conventional/{args.data_name}\", exist_ok=True)\n",
    "# print(f\"Saving to conventional/{args.data_name}/{args.mode}.csv\")\n",
    "# new_df.to_csv(f\"conventional/{args.data_name}/{args.mode}.csv\")\n",
    "# print(\"Done!\")\n"
   ]
  },
  {
   "cell_type": "code",
   "execution_count": 10,
   "metadata": {},
   "outputs": [],
   "source": [
    "def process_cif(cif_str):\n",
    "    structure = CifParser.from_str(cif_str).get_structures()[0]\n",
    "    sga = SpacegroupAnalyzer(structure)\n",
    "    pyx = pyxtal()\n",
    "    pyx.from_seed(structure, tol=0.01)\n",
    "    return pyx"
   ]
  },
  {
   "cell_type": "code",
   "execution_count": 34,
   "metadata": {},
   "outputs": [],
   "source": [
    "struc = process_cif(df.iloc[1][\"cif\"])"
   ]
  },
  {
   "cell_type": "code",
   "execution_count": 35,
   "metadata": {},
   "outputs": [
    {
     "data": {
      "text/plain": [
       "\n",
       "------Crystal from Seed------\n",
       "Dimension: 3\n",
       "Composition: Ho4W4Cl4O16\n",
       "Group: C 1 2/m 1 (12)\n",
       " 10.3540,   7.3243,   6.9713,  90.0000, 107.8402,  90.0000, monoclinic\n",
       "Wyckoff sites:\n",
       "\tHo @ [ 0.2225  0.0000  0.1178], WP [4i] Site [m]\n",
       "\t W @ [ 0.3631  0.0000  0.7335], WP [4i] Site [m]\n",
       "\tCl @ [ 0.0111  0.0000  0.7706], WP [4i] Site [m]\n",
       "\t O @ [ 0.2959  0.0000  0.4637], WP [4i] Site [m]\n",
       "\t O @ [ 0.4537  0.0000  0.1936], WP [4i] Site [m]\n",
       "\t O @ [ 0.7008  0.8071  0.1553], WP [8j] Site [1]"
      ]
     },
     "execution_count": 35,
     "metadata": {},
     "output_type": "execute_result"
    }
   ],
   "source": [
    "struc"
   ]
  },
  {
   "cell_type": "code",
   "execution_count": 36,
   "metadata": {},
   "outputs": [
    {
     "data": {
      "text/plain": [
       "SymmOp(self.affine_matrix=array([[-1. ,  0. ,  0. ,  0.5],\n",
       "       [ 0. ,  0. ,  0. ,  0.5],\n",
       "       [ 0. ,  0. , -1. ,  0. ],\n",
       "       [ 0. ,  0. ,  0. ,  1. ]]))"
      ]
     },
     "execution_count": 36,
     "metadata": {},
     "output_type": "execute_result"
    }
   ],
   "source": [
    "struc.atom_sites[1].wp[3]"
   ]
  },
  {
   "cell_type": "code",
   "execution_count": 41,
   "metadata": {},
   "outputs": [
    {
     "name": "stdout",
     "output_type": "stream",
     "text": [
      "Wyckoff position 4i in space group 12 with site symmetry m\n",
      "x, 0, z\n",
      "-x, 0, -z\n",
      "x+1/2, 1/2, z\n",
      "-x+1/2, 1/2, -z\n"
     ]
    }
   ],
   "source": [
    "print(struc.atom_sites[0].wp)"
   ]
  },
  {
   "cell_type": "code",
   "execution_count": 49,
   "metadata": {},
   "outputs": [
    {
     "name": "stdout",
     "output_type": "stream",
     "text": [
      "[Ho @ [ 0.2225  0.0000  0.1178], WP [4i] Site [m],  W @ [ 0.3631  0.0000  0.7335], WP [4i] Site [m], Cl @ [ 0.0111  0.0000  0.7706], WP [4i] Site [m],  O @ [ 0.2959  0.0000  0.4637], WP [4i] Site [m],  O @ [ 0.4537  0.0000  0.1936], WP [4i] Site [m],  O @ [ 0.7008  0.8071  0.1553], WP [8j] Site [1]]\n"
     ]
    }
   ],
   "source": [
    "print(struc.atom_sites)"
   ]
  },
  {
   "cell_type": "code",
   "execution_count": 37,
   "metadata": {},
   "outputs": [],
   "source": [
    "wops = np.array(new_df[\"sym_info\"][1][\"wyckoff_ops\"])"
   ]
  },
  {
   "cell_type": "code",
   "execution_count": 57,
   "metadata": {},
   "outputs": [
    {
     "data": {
      "text/plain": [
       "array([[[ 1.,  0.,  0.],\n",
       "        [ 0.,  0.,  0.],\n",
       "        [ 0.,  0.,  1.]],\n",
       "\n",
       "       [[-1.,  0.,  0.],\n",
       "        [ 0.,  0.,  0.],\n",
       "        [ 0.,  0., -1.]],\n",
       "\n",
       "       [[ 1.,  0.,  0.],\n",
       "        [ 0.,  0.,  0.],\n",
       "        [ 0.,  0.,  1.]],\n",
       "\n",
       "       [[-1.,  0.,  0.],\n",
       "        [ 0.,  0.,  0.],\n",
       "        [ 0.,  0., -1.]],\n",
       "\n",
       "       [[ 1.,  0.,  0.],\n",
       "        [ 0.,  0.,  0.],\n",
       "        [ 0.,  0.,  1.]],\n",
       "\n",
       "       [[-1.,  0.,  0.],\n",
       "        [ 0.,  0.,  0.],\n",
       "        [ 0.,  0., -1.]],\n",
       "\n",
       "       [[ 1.,  0.,  0.],\n",
       "        [ 0.,  0.,  0.],\n",
       "        [ 0.,  0.,  1.]],\n",
       "\n",
       "       [[-1.,  0.,  0.],\n",
       "        [ 0.,  0.,  0.],\n",
       "        [ 0.,  0., -1.]],\n",
       "\n",
       "       [[ 1.,  0.,  0.],\n",
       "        [ 0.,  0.,  0.],\n",
       "        [ 0.,  0.,  1.]],\n",
       "\n",
       "       [[-1.,  0.,  0.],\n",
       "        [ 0.,  0.,  0.],\n",
       "        [ 0.,  0., -1.]],\n",
       "\n",
       "       [[ 1.,  0.,  0.],\n",
       "        [ 0.,  0.,  0.],\n",
       "        [ 0.,  0.,  1.]],\n",
       "\n",
       "       [[-1.,  0.,  0.],\n",
       "        [ 0.,  0.,  0.],\n",
       "        [ 0.,  0., -1.]],\n",
       "\n",
       "       [[ 1.,  0.,  0.],\n",
       "        [ 0.,  0.,  0.],\n",
       "        [ 0.,  0.,  1.]],\n",
       "\n",
       "       [[-1.,  0.,  0.],\n",
       "        [ 0.,  0.,  0.],\n",
       "        [ 0.,  0., -1.]],\n",
       "\n",
       "       [[ 1.,  0.,  0.],\n",
       "        [ 0.,  0.,  0.],\n",
       "        [ 0.,  0.,  1.]],\n",
       "\n",
       "       [[-1.,  0.,  0.],\n",
       "        [ 0.,  0.,  0.],\n",
       "        [ 0.,  0., -1.]],\n",
       "\n",
       "       [[ 1.,  0.,  0.],\n",
       "        [ 0.,  0.,  0.],\n",
       "        [ 0.,  0.,  1.]],\n",
       "\n",
       "       [[-1.,  0.,  0.],\n",
       "        [ 0.,  0.,  0.],\n",
       "        [ 0.,  0., -1.]],\n",
       "\n",
       "       [[ 1.,  0.,  0.],\n",
       "        [ 0.,  0.,  0.],\n",
       "        [ 0.,  0.,  1.]],\n",
       "\n",
       "       [[-1.,  0.,  0.],\n",
       "        [ 0.,  0.,  0.],\n",
       "        [ 0.,  0., -1.]],\n",
       "\n",
       "       [[ 1.,  0.,  0.],\n",
       "        [ 0.,  1.,  0.],\n",
       "        [ 0.,  0.,  1.]],\n",
       "\n",
       "       [[-1.,  0.,  0.],\n",
       "        [ 0.,  1.,  0.],\n",
       "        [ 0.,  0., -1.]],\n",
       "\n",
       "       [[-1.,  0.,  0.],\n",
       "        [ 0., -1.,  0.],\n",
       "        [ 0.,  0., -1.]],\n",
       "\n",
       "       [[ 1.,  0.,  0.],\n",
       "        [ 0., -1.,  0.],\n",
       "        [ 0.,  0.,  1.]],\n",
       "\n",
       "       [[ 1.,  0.,  0.],\n",
       "        [ 0.,  1.,  0.],\n",
       "        [ 0.,  0.,  1.]],\n",
       "\n",
       "       [[-1.,  0.,  0.],\n",
       "        [ 0.,  1.,  0.],\n",
       "        [ 0.,  0., -1.]],\n",
       "\n",
       "       [[-1.,  0.,  0.],\n",
       "        [ 0., -1.,  0.],\n",
       "        [ 0.,  0., -1.]],\n",
       "\n",
       "       [[ 1.,  0.,  0.],\n",
       "        [ 0., -1.,  0.],\n",
       "        [ 0.,  0.,  1.]]])"
      ]
     },
     "execution_count": 57,
     "metadata": {},
     "output_type": "execute_result"
    }
   ],
   "source": [
    "wops[:,:3,:3]"
   ]
  },
  {
   "cell_type": "code",
   "execution_count": 56,
   "metadata": {},
   "outputs": [
    {
     "data": {
      "text/plain": [
       "array([[[ 1.,  0.,  0.],\n",
       "        [ 0.,  0.,  0.],\n",
       "        [ 0.,  0.,  1.]],\n",
       "\n",
       "       [[-1.,  0.,  0.],\n",
       "        [ 0.,  0.,  0.],\n",
       "        [ 0.,  0., -1.]],\n",
       "\n",
       "       [[ 1.,  0.,  0.],\n",
       "        [ 0.,  0.,  0.],\n",
       "        [ 0.,  0.,  1.]],\n",
       "\n",
       "       [[-1.,  0.,  0.],\n",
       "        [ 0.,  0.,  0.],\n",
       "        [ 0.,  0., -1.]],\n",
       "\n",
       "       [[ 1.,  0.,  0.],\n",
       "        [ 0.,  0.,  0.],\n",
       "        [ 0.,  0.,  1.]],\n",
       "\n",
       "       [[-1.,  0.,  0.],\n",
       "        [ 0.,  0.,  0.],\n",
       "        [ 0.,  0., -1.]],\n",
       "\n",
       "       [[ 1.,  0.,  0.],\n",
       "        [ 0.,  0.,  0.],\n",
       "        [ 0.,  0.,  1.]],\n",
       "\n",
       "       [[-1.,  0.,  0.],\n",
       "        [ 0.,  0.,  0.],\n",
       "        [ 0.,  0., -1.]],\n",
       "\n",
       "       [[ 1.,  0.,  0.],\n",
       "        [ 0.,  0.,  0.],\n",
       "        [ 0.,  0.,  1.]],\n",
       "\n",
       "       [[-1.,  0.,  0.],\n",
       "        [ 0.,  0.,  0.],\n",
       "        [ 0.,  0., -1.]],\n",
       "\n",
       "       [[ 1.,  0.,  0.],\n",
       "        [ 0.,  0.,  0.],\n",
       "        [ 0.,  0.,  1.]],\n",
       "\n",
       "       [[-1.,  0.,  0.],\n",
       "        [ 0.,  0.,  0.],\n",
       "        [ 0.,  0., -1.]],\n",
       "\n",
       "       [[ 1.,  0.,  0.],\n",
       "        [ 0.,  0.,  0.],\n",
       "        [ 0.,  0.,  1.]],\n",
       "\n",
       "       [[-1.,  0.,  0.],\n",
       "        [ 0.,  0.,  0.],\n",
       "        [ 0.,  0., -1.]],\n",
       "\n",
       "       [[ 1.,  0.,  0.],\n",
       "        [ 0.,  0.,  0.],\n",
       "        [ 0.,  0.,  1.]],\n",
       "\n",
       "       [[-1.,  0.,  0.],\n",
       "        [ 0.,  0.,  0.],\n",
       "        [ 0.,  0., -1.]],\n",
       "\n",
       "       [[ 1.,  0.,  0.],\n",
       "        [ 0.,  0.,  0.],\n",
       "        [ 0.,  0.,  1.]],\n",
       "\n",
       "       [[-1.,  0.,  0.],\n",
       "        [ 0.,  0.,  0.],\n",
       "        [ 0.,  0., -1.]],\n",
       "\n",
       "       [[ 1.,  0.,  0.],\n",
       "        [ 0.,  0.,  0.],\n",
       "        [ 0.,  0.,  1.]],\n",
       "\n",
       "       [[-1.,  0.,  0.],\n",
       "        [ 0.,  0.,  0.],\n",
       "        [ 0.,  0., -1.]],\n",
       "\n",
       "       [[ 1.,  0.,  0.],\n",
       "        [ 0.,  1.,  0.],\n",
       "        [ 0.,  0.,  1.]],\n",
       "\n",
       "       [[-1.,  0.,  0.],\n",
       "        [ 0.,  1.,  0.],\n",
       "        [ 0.,  0., -1.]],\n",
       "\n",
       "       [[-1.,  0.,  0.],\n",
       "        [ 0., -1.,  0.],\n",
       "        [ 0.,  0., -1.]],\n",
       "\n",
       "       [[ 1.,  0.,  0.],\n",
       "        [ 0., -1.,  0.],\n",
       "        [ 0.,  0.,  1.]],\n",
       "\n",
       "       [[ 1.,  0.,  0.],\n",
       "        [ 0.,  1.,  0.],\n",
       "        [ 0.,  0.,  1.]],\n",
       "\n",
       "       [[-1.,  0.,  0.],\n",
       "        [ 0.,  1.,  0.],\n",
       "        [ 0.,  0., -1.]],\n",
       "\n",
       "       [[-1.,  0.,  0.],\n",
       "        [ 0., -1.,  0.],\n",
       "        [ 0.,  0., -1.]],\n",
       "\n",
       "       [[ 1.,  0.,  0.],\n",
       "        [ 0., -1.,  0.],\n",
       "        [ 0.,  0.,  1.]]])"
      ]
     },
     "execution_count": 56,
     "metadata": {},
     "output_type": "execute_result"
    }
   ],
   "source": [
    "np.linalg.pinv(wops[:,:3,:3])"
   ]
  },
  {
   "cell_type": "code",
   "execution_count": 47,
   "metadata": {},
   "outputs": [
    {
     "data": {
      "text/plain": [
       "array([[-1. ,  0. ,  0. ,  0.5],\n",
       "       [ 0. ,  0. ,  0. ,  0.5],\n",
       "       [ 0. ,  0. , -1. ,  0. ],\n",
       "       [ 0. ,  0. ,  0. ,  1. ]])"
      ]
     },
     "execution_count": 47,
     "metadata": {},
     "output_type": "execute_result"
    }
   ],
   "source": [
    "wops[3]"
   ]
  },
  {
   "cell_type": "code",
   "execution_count": null,
   "metadata": {},
   "outputs": [],
   "source": []
  }
 ],
 "metadata": {
  "kernelspec": {
   "display_name": ".venv",
   "language": "python",
   "name": "python3"
  },
  "language_info": {
   "codemirror_mode": {
    "name": "ipython",
    "version": 3
   },
   "file_extension": ".py",
   "mimetype": "text/x-python",
   "name": "python",
   "nbconvert_exporter": "python",
   "pygments_lexer": "ipython3",
   "version": "3.10.15"
  }
 },
 "nbformat": 4,
 "nbformat_minor": 2
}
