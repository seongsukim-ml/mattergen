{
 "cells": [
  {
   "cell_type": "code",
   "execution_count": 1,
   "metadata": {},
   "outputs": [],
   "source": [
    "import sys\n",
    "import os\n",
    "from pathlib import Path\n",
    "sys.path.append(Path.cwd().parent.as_posix())\n",
    "from util import *\n",
    "from visualizer import visualizer\n",
    "vis = visualizer()"
   ]
  },
  {
   "cell_type": "code",
   "execution_count": 2,
   "metadata": {},
   "outputs": [
    {
     "data": {
      "application/vnd.jupyter.widget-view+json": {
       "model_id": "b5c88ebea2c94eaebb53c3266e14f8fd",
       "version_major": 2,
       "version_minor": 0
      },
      "text/plain": [
       "  0%|          | 0/100 [00:00<?, ?it/s]"
      ]
     },
     "metadata": {},
     "output_type": "display_data"
    },
    {
     "name": "stdout",
     "output_type": "stream",
     "text": [
      "[I] Loaded 100 structures\n"
     ]
    }
   ],
   "source": [
    "structures = test_structures(100)"
   ]
  },
  {
   "cell_type": "code",
   "execution_count": 3,
   "metadata": {},
   "outputs": [],
   "source": [
    "cif, sym_info, num_sites, formula = process_prim_with_sym_infos(structures[0])"
   ]
  },
  {
   "cell_type": "code",
   "execution_count": 6,
   "metadata": {},
   "outputs": [
    {
     "data": {
      "text/plain": [
       "{'anchors': [0, 1, 2, 2],\n",
       " 'wyckoff_ops': [[[0.0, 0.0, 0.0, 0.0],\n",
       "   [0.0, 0.0, 0.0, 0.0],\n",
       "   [0.0, 0.0, 0.0, 0.0],\n",
       "   [0.0, 0.0, 0.0, 1.0]],\n",
       "  [[0.0, 0.0, 0.0, 0.0],\n",
       "   [0.0, 0.0, 0.0, 0.5],\n",
       "   [0.0, 0.0, 0.0, 0.5],\n",
       "   [0.0, 0.0, 0.0, 1.0]],\n",
       "  [[0.0, 0.0, 0.0, 0.5],\n",
       "   [0.0, 0.0, 0.0, 0.0],\n",
       "   [0.0, 0.0, 0.0, 0.5],\n",
       "   [0.0, 0.0, 0.0, 1.0]],\n",
       "  [[0.0, 0.0, 0.0, 0.5],\n",
       "   [0.0, 0.0, 0.0, 0.5],\n",
       "   [0.0, 0.0, 0.0, 0.0],\n",
       "   [0.0, 0.0, 0.0, 1.0]],\n",
       "  [[0.0, 0.0, 0.0, 0.5],\n",
       "   [0.0, 0.0, 0.0, 0.5],\n",
       "   [0.0, 0.0, 0.0, 0.5],\n",
       "   [0.0, 0.0, 0.0, 1.0]],\n",
       "  [[0.0, 0.0, 0.0, 0.5],\n",
       "   [0.0, 0.0, 0.0, 1.0],\n",
       "   [0.0, 0.0, 0.0, 1.0],\n",
       "   [0.0, 0.0, 0.0, 1.0]],\n",
       "  [[0.0, 0.0, 0.0, 1.0],\n",
       "   [0.0, 0.0, 0.0, 0.5],\n",
       "   [0.0, 0.0, 0.0, 1.0],\n",
       "   [0.0, 0.0, 0.0, 1.0]],\n",
       "  [[0.0, 0.0, 0.0, 1.0],\n",
       "   [0.0, 0.0, 0.0, 1.0],\n",
       "   [0.0, 0.0, 0.0, 0.5],\n",
       "   [0.0, 0.0, 0.0, 1.0]],\n",
       "  [[0.0, 0.0, 0.0, 0.25],\n",
       "   [0.0, 0.0, 0.0, 0.25],\n",
       "   [0.0, 0.0, 0.0, 0.25],\n",
       "   [0.0, 0.0, 0.0, 1.0]],\n",
       "  [[0.0, 0.0, 0.0, 0.25],\n",
       "   [0.0, 0.0, 0.0, 0.25],\n",
       "   [0.0, 0.0, 0.0, 0.75],\n",
       "   [0.0, 0.0, 0.0, 1.0]],\n",
       "  [[0.0, 0.0, 0.0, 0.25],\n",
       "   [0.0, 0.0, 0.0, 0.75],\n",
       "   [0.0, 0.0, 0.0, 0.75],\n",
       "   [0.0, 0.0, 0.0, 1.0]],\n",
       "  [[0.0, 0.0, 0.0, 0.25],\n",
       "   [0.0, 0.0, 0.0, 0.75],\n",
       "   [0.0, 0.0, 0.0, 1.25],\n",
       "   [0.0, 0.0, 0.0, 1.0]],\n",
       "  [[0.0, 0.0, 0.0, 0.75],\n",
       "   [0.0, 0.0, 0.0, 0.25],\n",
       "   [0.0, 0.0, 0.0, 0.75],\n",
       "   [0.0, 0.0, 0.0, 1.0]],\n",
       "  [[0.0, 0.0, 0.0, 0.75],\n",
       "   [0.0, 0.0, 0.0, 0.25],\n",
       "   [0.0, 0.0, 0.0, 1.25],\n",
       "   [0.0, 0.0, 0.0, 1.0]],\n",
       "  [[0.0, 0.0, 0.0, 0.75],\n",
       "   [0.0, 0.0, 0.0, 0.75],\n",
       "   [0.0, 0.0, 0.0, 0.25],\n",
       "   [0.0, 0.0, 0.0, 1.0]],\n",
       "  [[0.0, 0.0, 0.0, 0.75],\n",
       "   [0.0, 0.0, 0.0, 0.75],\n",
       "   [0.0, 0.0, 0.0, 0.75],\n",
       "   [0.0, 0.0, 0.0, 1.0]]],\n",
       " 'wyckoff_batch': [0, 0, 0, 0, 1, 1, 1, 1, 2, 2, 2, 2, 2, 2, 2, 2],\n",
       " 'spacegroup': 225,\n",
       " 'conv_to_prim': [[0.0, 0.5, 0.5], [0.5, 0.0, 0.5], [0.5, 0.5, 0.0]],\n",
       " 'prim_to_conv': [[-1.0, 1.0, 1.0], [1.0, -1.0, 1.0], [1.0, 1.0, -1.0]],\n",
       " 'crystal_system': 'cubic',\n",
       " 'spacegroup_symbol': 'Fm-3m',\n",
       " 'wyckoffs': ['a', 'b', 'c', 'c'],\n",
       " 'num_atoms': 4,\n",
       " 'species': [69, 12, 80, 80],\n",
       " 'lattice_type': 'cubic'}"
      ]
     },
     "execution_count": 6,
     "metadata": {},
     "output_type": "execute_result"
    }
   ],
   "source": [
    "sym_info"
   ]
  },
  {
   "cell_type": "code",
   "execution_count": 7,
   "metadata": {},
   "outputs": [],
   "source": [
    "space_group = sym_info['spacegroup']"
   ]
  },
  {
   "cell_type": "code",
   "execution_count": null,
   "metadata": {},
   "outputs": [],
   "source": [
    "prim_plat, conv_plat, perm, rank = project_random_lattice_to_symmetry_prim_conv_permute(\n",
    "    initialize_random_lattice().matrix, sym_info[\"conv_to_prim\"], sym_info[\"spacegroup\"]\n",
    ")"
   ]
  },
  {
   "cell_type": "code",
   "execution_count": 10,
   "metadata": {},
   "outputs": [],
   "source": [
    "conv_psites, conv_species = project_sites_prim_with_species(\n",
    "    initialize_random_atoms(num_sites), sym_info\n",
    ")"
   ]
  },
  {
   "cell_type": "code",
   "execution_count": 30,
   "metadata": {},
   "outputs": [
    {
     "data": {
      "text/plain": [
       "array([[9.81137753, 0.        , 0.        ],\n",
       "       [0.        , 9.81137753, 0.        ],\n",
       "       [0.        , 0.        , 9.81137753]])"
      ]
     },
     "execution_count": 30,
     "metadata": {},
     "output_type": "execute_result"
    }
   ],
   "source": [
    "conv_plat"
   ]
  },
  {
   "cell_type": "code",
   "execution_count": 11,
   "metadata": {},
   "outputs": [],
   "source": [
    "perm_conv_psite = np.dot(perm, conv_psites.T).T\n",
    "perm_conv_plat = perm_for_A2[space_group].dot(conv_plat).dot(perm_for_A2[space_group].T)\n",
    "# print(prim_plat)\n",
    "prim_species, prim_psites = map_sites_conv_to_prim_lat(\n",
    "    perm_conv_psite, conv_species, perm_conv_plat, prim_plat\n",
    ")"
   ]
  },
  {
   "cell_type": "code",
   "execution_count": 13,
   "metadata": {},
   "outputs": [
    {
     "data": {
      "text/plain": [
       "array([[0.  , 0.  , 0.  ],\n",
       "       [0.  , 0.5 , 0.5 ],\n",
       "       [0.5 , 0.  , 0.5 ],\n",
       "       [0.5 , 0.5 , 0.  ],\n",
       "       [0.5 , 0.5 , 0.5 ],\n",
       "       [0.5 , 0.  , 0.  ],\n",
       "       [0.  , 0.5 , 0.  ],\n",
       "       [0.  , 0.  , 0.5 ],\n",
       "       [0.25, 0.25, 0.25],\n",
       "       [0.25, 0.25, 0.75],\n",
       "       [0.25, 0.75, 0.75],\n",
       "       [0.25, 0.75, 0.25],\n",
       "       [0.75, 0.25, 0.75],\n",
       "       [0.75, 0.25, 0.25],\n",
       "       [0.75, 0.75, 0.25],\n",
       "       [0.75, 0.75, 0.75]])"
      ]
     },
     "execution_count": 13,
     "metadata": {},
     "output_type": "execute_result"
    }
   ],
   "source": [
    "perm_conv_psite"
   ]
  },
  {
   "cell_type": "code",
   "execution_count": 12,
   "metadata": {},
   "outputs": [
    {
     "data": {
      "text/plain": [
       "[array([0., 0., 0.]),\n",
       " array([0.5, 0.5, 0.5]),\n",
       " array([0.25, 0.25, 0.25]),\n",
       " array([0.75, 0.75, 0.75])]"
      ]
     },
     "execution_count": 12,
     "metadata": {},
     "output_type": "execute_result"
    }
   ],
   "source": [
    "prim_psites"
   ]
  },
  {
   "cell_type": "code",
   "execution_count": null,
   "metadata": {},
   "outputs": [],
   "source": [
    "def map_sites_conv_to_prim_lat_triu(conv_sites, conv_species, conv_lat, prim_lat):\n",
    "    prim_lattice_inv = np.linalg.inv(prim_lat)\n",
    "    new_fracs = []\n",
    "    new_species = []\n",
    "    conv_sites = np.dot(conv_sites, conv_lat)\n",
    "    new_frac = np.dot(conv_sites, prim_lattice_inv)\n",
    "    for cart_coords, specie in zip(conv_sites, conv_species):\n",
    "        new_frac = np.dot(cart_coords, prim_lattice_inv)\n",
    "        # if not any(partial(pbc_diff,new_frac) == partial(f) for f in new_fracs):\n",
    "        #     new_species.append(site.specie)\n",
    "        if not any(map(partial(is_periodic_image, new_frac), new_fracs)):\n",
    "            new_fracs.append(new_frac % 1)\n",
    "            new_species.append(specie)\n",
    "        new_fracs = [new_frac % 1 for new_frac in new_fracs]\n",
    "\n",
    "    # Rhombohedral is not implemented yet\n",
    "    return new_species, new_fracs"
   ]
  },
  {
   "cell_type": "code",
   "execution_count": 15,
   "metadata": {},
   "outputs": [],
   "source": [
    "prim_lattice_inv =  np.linalg.inv(prim_plat)\n",
    "new_fracs = []\n",
    "new_species = []\n",
    "conv_sites = np.dot(perm_conv_psite, conv_plat)"
   ]
  },
  {
   "cell_type": "code",
   "execution_count": 16,
   "metadata": {},
   "outputs": [
    {
     "data": {
      "text/plain": [
       "array([[0.        , 0.        , 0.        ],\n",
       "       [0.        , 4.90568876, 4.90568876],\n",
       "       [4.90568876, 0.        , 4.90568876],\n",
       "       [4.90568876, 4.90568876, 0.        ],\n",
       "       [4.90568876, 4.90568876, 4.90568876],\n",
       "       [4.90568876, 0.        , 0.        ],\n",
       "       [0.        , 4.90568876, 0.        ],\n",
       "       [0.        , 0.        , 4.90568876],\n",
       "       [2.45284438, 2.45284438, 2.45284438],\n",
       "       [2.45284438, 2.45284438, 7.35853314],\n",
       "       [2.45284438, 7.35853314, 7.35853314],\n",
       "       [2.45284438, 7.35853314, 2.45284438],\n",
       "       [7.35853314, 2.45284438, 7.35853314],\n",
       "       [7.35853314, 2.45284438, 2.45284438],\n",
       "       [7.35853314, 7.35853314, 2.45284438],\n",
       "       [7.35853314, 7.35853314, 7.35853314]])"
      ]
     },
     "execution_count": 16,
     "metadata": {},
     "output_type": "execute_result"
    }
   ],
   "source": [
    "conv_sites"
   ]
  },
  {
   "cell_type": "code",
   "execution_count": 17,
   "metadata": {},
   "outputs": [],
   "source": [
    "new_frac = np.dot(conv_sites, prim_lattice_inv)"
   ]
  },
  {
   "cell_type": "code",
   "execution_count": 26,
   "metadata": {},
   "outputs": [
    {
     "data": {
      "text/plain": [
       "array([[0.00000000e+00, 0.00000000e+00, 0.00000000e+00],\n",
       "       [0.00000000e+00, 2.65704574e-17, 1.00000000e+00],\n",
       "       [2.65704574e-17, 0.00000000e+00, 1.00000000e+00],\n",
       "       [2.65704574e-17, 1.00000000e+00, 0.00000000e+00],\n",
       "       [5.00000000e-01, 5.00000000e-01, 5.00000000e-01],\n",
       "       [5.00000000e-01, 5.00000000e-01, 5.00000000e-01],\n",
       "       [5.00000000e-01, 5.00000000e-01, 5.00000000e-01],\n",
       "       [5.00000000e-01, 5.00000000e-01, 5.00000000e-01],\n",
       "       [2.50000000e-01, 2.50000000e-01, 2.50000000e-01],\n",
       "       [7.50000000e-01, 7.50000000e-01, 7.50000000e-01],\n",
       "       [2.50000000e-01, 2.50000000e-01, 2.50000000e-01],\n",
       "       [7.50000000e-01, 7.50000000e-01, 7.50000000e-01],\n",
       "       [2.50000000e-01, 2.50000000e-01, 2.50000000e-01],\n",
       "       [7.50000000e-01, 7.50000000e-01, 7.50000000e-01],\n",
       "       [2.50000000e-01, 2.50000000e-01, 2.50000000e-01],\n",
       "       [7.50000000e-01, 7.50000000e-01, 7.50000000e-01]])"
      ]
     },
     "execution_count": 26,
     "metadata": {},
     "output_type": "execute_result"
    }
   ],
   "source": [
    "(new_frac % 1)"
   ]
  },
  {
   "cell_type": "code",
   "execution_count": 29,
   "metadata": {},
   "outputs": [
    {
     "data": {
      "text/plain": [
       "array([[0.00000000e+00, 0.00000000e+00, 0.00000000e+00],\n",
       "       [0.00000000e+00, 2.65704574e-17, 0.00000000e+00],\n",
       "       [2.65704574e-17, 0.00000000e+00, 0.00000000e+00],\n",
       "       [2.65704574e-17, 0.00000000e+00, 0.00000000e+00],\n",
       "       [5.00000000e-01, 5.00000000e-01, 5.00000000e-01],\n",
       "       [5.00000000e-01, 5.00000000e-01, 5.00000000e-01],\n",
       "       [5.00000000e-01, 5.00000000e-01, 5.00000000e-01],\n",
       "       [5.00000000e-01, 5.00000000e-01, 5.00000000e-01],\n",
       "       [2.50000000e-01, 2.50000000e-01, 2.50000000e-01],\n",
       "       [7.50000000e-01, 7.50000000e-01, 7.50000000e-01],\n",
       "       [2.50000000e-01, 2.50000000e-01, 2.50000000e-01],\n",
       "       [7.50000000e-01, 7.50000000e-01, 7.50000000e-01],\n",
       "       [2.50000000e-01, 2.50000000e-01, 2.50000000e-01],\n",
       "       [7.50000000e-01, 7.50000000e-01, 7.50000000e-01],\n",
       "       [2.50000000e-01, 2.50000000e-01, 2.50000000e-01],\n",
       "       [7.50000000e-01, 7.50000000e-01, 7.50000000e-01]])"
      ]
     },
     "execution_count": 29,
     "metadata": {},
     "output_type": "execute_result"
    }
   ],
   "source": [
    "(new_frac % 1.0) % 1.0"
   ]
  },
  {
   "cell_type": "code",
   "execution_count": 7,
   "metadata": {},
   "outputs": [
    {
     "data": {
      "text/plain": [
       "array([-6.66133815e-16,  6.18349240e+00,  6.66133815e-16])"
      ]
     },
     "execution_count": 7,
     "metadata": {},
     "output_type": "execute_result"
    }
   ],
   "source": [
    "structures[0].sites[1].coords"
   ]
  },
  {
   "cell_type": "code",
   "execution_count": 17,
   "metadata": {},
   "outputs": [
    {
     "data": {
      "text/plain": [
       "array([[ 0.00000000e+00,  0.00000000e+00,  0.00000000e+00],\n",
       "       [-6.47243652e-16,  6.18349240e+00,  7.24353932e-16],\n",
       "       [ 1.20467384e-16,  9.27523859e+00,  6.66133815e-16],\n",
       "       [-2.03154442e-16,  3.09174620e+00, -3.38484840e-16]])"
      ]
     },
     "execution_count": 17,
     "metadata": {},
     "output_type": "execute_result"
    }
   ],
   "source": [
    "np.dot(structures[0].frac_coords,structures[0].lattice.matrix)"
   ]
  },
  {
   "cell_type": "code",
   "execution_count": 3,
   "metadata": {},
   "outputs": [
    {
     "name": "stdout",
     "output_type": "stream",
     "text": [
      "[[0. 1. 0.]\n",
      " [0. 0. 1.]\n",
      " [1. 0. 0.]]\n",
      "[[1. 0. 0.]\n",
      " [0. 1. 0.]\n",
      " [0. 0. 1.]]\n"
     ]
    }
   ],
   "source": [
    "lat_perm = np.zeros((231, 3, 3, 3, 3, 3))\n",
    "lat_perm[:,:,:,:, 0, 0] = 1\n",
    "lat_perm[:,:,:,:, 1, 1] = 1\n",
    "lat_perm[:,:,:,:, 2, 2] = 1\n",
    "# 1, 0, 2 implies lat(1) > lat(0) > lat(2)\n",
    "possible_perms = [[0, 1, 2], [0, 2, 1], [1, 0, 2], [1, 2, 0], [2, 0, 1], [2, 1, 0]]\n",
    "\n",
    "# orthorhombic with A:\n",
    "# for i in [38, 39, 40, 41]:\n",
    "#     lat_perm[i, 0, 1, 2] = lat_perm[0, 0, 1, 2].dot(lat_perm[0, 1, 2, 0])\n",
    "#     lat_perm[i, 0, 2, 1] = lat_perm[0, 0, 2, 1].dot(lat_perm[0, 1, 2, 0])\n",
    "#     lat_perm[i, 1, 0, 2] = lat_perm[0, 1, 0, 2].dot(lat_perm[0, 1, 2, 0])\n",
    "#     lat_perm[i, 1, 2, 0] = lat_perm[0, 1, 2, 0].dot(lat_perm[0, 1, 2, 0])\n",
    "#     lat_perm[i, 2, 0, 1] = lat_perm[0, 2, 0, 1].dot(lat_perm[0, 1, 2, 0])\n",
    "#     lat_perm[i, 2, 1, 0] = lat_perm[0, 2, 1, 0].dot(lat_perm[0, 1, 2, 0])\n",
    "\n",
    "perm_for_A1 = np.array([[0, 1, 0], [0, 0, 1], [1, 0, 0]])\n",
    "# perm_a = np.array([[1, 0, 0], [0, 0, 1], [0, 1, 0]])\n",
    "perm_for_A2 = np.eye(3).reshape(1,3,3).repeat(231, axis=0)\n",
    "# perm_for_A2 = np.array([[0, 0, 1], [0, 1, 0], [1, 0, 0]])\n",
    "\n",
    "for i in [38, 39, 40, 41]:\n",
    "    lat_perm[i, 0, 1, 2] = np.array([[0, 0, 1], [0, 1, 0], [1, 0, 0]])\n",
    "    lat_perm[i, 0, 2, 1] = np.array([[0, 1, 0], [0, 0, 1], [1, 0, 0]])\n",
    "    lat_perm[i, 1, 0, 2] = np.array([[0, 0, 1], [1, 0, 0], [0, 1, 0]])\n",
    "    lat_perm[i, 1, 2, 0] = np.array([[1, 0, 0], [0, 0, 1], [0, 1, 0]])\n",
    "    lat_perm[i, 2, 0, 1] = np.array([[0, 1, 0], [1, 0, 0], [0, 0, 1]])\n",
    "    lat_perm[i, 2, 1, 0] = np.array([[1, 0, 0], [0, 1, 0], [0, 0, 1]])\n",
    "\n",
    "    for p in possible_perms:\n",
    "        lat_perm[i, p[0], p[1], p[2]] = perm_for_A1 @ lat_perm[0, p[0], p[1], p[2]]\n",
    "    perm_for_A2[i] = np.array([[0, 0, 1], [0, 1, 0], [1, 0, 0]])\n",
    "    # lat_perm[i, 0, 1, 2] = perm_for_A1 @ lat_perm[0, 0, 1, 2]\n",
    "    # lat_perm[i, 0, 2, 1] = perm_for_A1 @ lat_perm[0, 0, 2, 1]\n",
    "    # lat_perm[i, 1, 0, 2] = perm_for_A1 @ lat_perm[0, 1, 0, 2]\n",
    "    # lat_perm[i, 1, 2, 0] = perm_for_A1 @ lat_perm[0, 1, 2, 0]\n",
    "    # lat_perm[i, 2, 0, 1] = perm_for_A1 @ lat_perm[0, 2, 0, 1]\n",
    "    # lat_perm[i, 2, 1, 0] = perm_for_A1 @ lat_perm[0, 2, 1, 0]\n",
    "print (lat_perm[41,0,1,2])\n",
    "print (lat_perm[0,0,1,2])"
   ]
  },
  {
   "cell_type": "code",
   "execution_count": 23,
   "metadata": {},
   "outputs": [
    {
     "name": "stdout",
     "output_type": "stream",
     "text": [
      "[[1. 0. 0.]\n",
      " [0. 1. 0.]\n",
      " [0. 0. 1.]]\n",
      "[[1. 0. 0.]\n",
      " [0. 1. 0.]\n",
      " [0. 0. 1.]]\n",
      "[[1. 0. 0.]\n",
      " [0. 1. 0.]\n",
      " [0. 0. 1.]]\n",
      "[[1. 0. 0.]\n",
      " [0. 1. 0.]\n",
      " [0. 0. 1.]]\n",
      "[[1. 0. 0.]\n",
      " [0. 1. 0.]\n",
      " [0. 0. 1.]]\n",
      "[[1. 0. 0.]\n",
      " [0. 1. 0.]\n",
      " [0. 0. 1.]]\n"
     ]
    }
   ],
   "source": [
    "for p in possible_perms:\n",
    "    print(lat_perm[0, p[0], p[1], p[2]])"
   ]
  },
  {
   "cell_type": "code",
   "execution_count": 6,
   "metadata": {},
   "outputs": [],
   "source": [
    "# def map_sites_conv_to_prim2(conv, prim):\n",
    "#     prim_lattice_inv = prim.lattice.inv_matrix\n",
    "#     new_fracs = []\n",
    "#     new_species = []\n",
    "#     for site in conv:\n",
    "#         new_frac = np.dot(site.coords, prim_lattice_inv)\n",
    "#         # if not any(partial(pbc_diff,new_frac) == partial(f) for f in new_fracs):\n",
    "#         #     new_species.append(site.specie)\n",
    "#         if not any(map(partial(is_periodic_image, new_frac), new_fracs)):\n",
    "#             new_fracs.append(new_frac % 1)\n",
    "#             new_species.append(site.specie)\n",
    "#         new_fracs = [new_frac % 1 for new_frac in new_fracs]\n",
    "\n",
    "#     # Rhombohedral is not implemented yet\n",
    "#     return new_species, new_fracs\n"
   ]
  },
  {
   "cell_type": "code",
   "execution_count": 10,
   "metadata": {},
   "outputs": [
    {
     "data": {
      "application/vnd.jupyter.widget-view+json": {
       "model_id": "8372f5abc84947a8a886a6e10e67b3cb",
       "version_major": 2,
       "version_minor": 0
      },
      "text/plain": [
       "  0%|          | 0/100 [00:00<?, ?it/s]"
      ]
     },
     "metadata": {},
     "output_type": "display_data"
    }
   ],
   "source": [
    "res = p_map(test_space_group_projection_prim3, structures, num_cpus=16)"
   ]
  },
  {
   "cell_type": "code",
   "execution_count": 11,
   "metadata": {},
   "outputs": [
    {
     "name": "stdout",
     "output_type": "stream",
     "text": [
      "100 100 0\n",
      "1.0 1.0 0.0\n"
     ]
    }
   ],
   "source": [
    "sgn_correct = []\n",
    "sgn_failed = []\n",
    "len_correct = []\n",
    "len_failed = []\n",
    "spga_len_correct = []\n",
    "spga_len_failed = []\n",
    "errors = []\n",
    "\n",
    "for i in range(len(res)):\n",
    "    if res[i][\"correct\"]:\n",
    "        sgn_correct.append(i)\n",
    "    else:\n",
    "        sgn_failed.append(i)\n",
    "    if res[i][\"correct_species_len\"]:\n",
    "        len_correct.append(i)\n",
    "    else:\n",
    "        len_failed.append(i)\n",
    "    if res[i][\"correct_species_len_spga\"]:\n",
    "        spga_len_correct.append(i)\n",
    "    else:\n",
    "        spga_len_failed.append(i)\n",
    "    if res[i][\"error\"]:\n",
    "        errors.append(i)\n",
    "\n",
    "print(len(sgn_correct), len(len_correct), len(errors))\n",
    "print(len(sgn_correct)/len(res), len(len_correct)/len(res), len(errors)/len(res))"
   ]
  },
  {
   "cell_type": "code",
   "execution_count": 12,
   "metadata": {},
   "outputs": [
    {
     "data": {
      "text/plain": [
       "Structure Summary\n",
       "Lattice\n",
       "    abc : 4.936342139999999 4.936342139999999 4.936342139999999\n",
       " angles : 60.00000000000001 60.00000000000001 60.00000000000002\n",
       " volume : 85.05517878292267\n",
       "      A : 1.4249992316705467 4.030506479599453 2.4681710700000004\n",
       "      B : 1.4249992316705467 4.030506479599453 -2.4681710699999995\n",
       "      C : -2.849998463341093 4.030506479599453 -0.0\n",
       "    pbc : True True True\n",
       "PeriodicSite: Y0 (Y) (0.0, 0.0, 0.0) [0.0, 0.0, 0.0]\n",
       "PeriodicSite: Mg1 (Mg) (4.441e-16, 9.069, 1.332e-15) [0.75, 0.75, 0.75]\n",
       "PeriodicSite: Ni2 (Ni) (0.7078, 6.546, -1.226) [0.3758, 0.8725, 0.3758]\n",
       "PeriodicSite: Ni3 (Ni) (1.425e-06, 4.544, 2.468e-06) [0.3758, 0.3758, 0.3758]\n",
       "PeriodicSite: Ni4 (Ni) (-1.416, 6.546, 2.468e-06) [0.3758, 0.3758, 0.8725]\n",
       "PeriodicSite: Ni5 (Ni) (0.7078, 6.546, 1.226) [0.8725, 0.3758, 0.3758]"
      ]
     },
     "execution_count": 12,
     "metadata": {},
     "output_type": "execute_result"
    }
   ],
   "source": [
    "structures[46]"
   ]
  },
  {
   "cell_type": "code",
   "execution_count": 13,
   "metadata": {},
   "outputs": [
    {
     "data": {
      "text/plain": [
       "216"
      ]
     },
     "execution_count": 13,
     "metadata": {},
     "output_type": "execute_result"
    }
   ],
   "source": [
    "SpacegroupAnalyzer(structures[46]).get_space_group_number()"
   ]
  },
  {
   "cell_type": "code",
   "execution_count": 26,
   "metadata": {},
   "outputs": [
    {
     "data": {
      "text/plain": [
       "[154, 162, 163]"
      ]
     },
     "execution_count": 26,
     "metadata": {},
     "output_type": "execute_result"
    }
   ],
   "source": [
    "len_failed[:3]"
   ]
  },
  {
   "cell_type": "code",
   "execution_count": 9,
   "metadata": {},
   "outputs": [],
   "source": [
    "# def permute_conv_lat(lat_mat, space_group):\n",
    "#     rank = np.argsort(np.linalg.norm(lat_mat,axis=1))\n",
    "#     perm = lat_perm[space_group, rank[0],rank[1],rank[2]]\n",
    "#     perm_lat_mat = np.dot(perm, lat_mat)\n",
    "#     return perm_lat_mat, perm, rank\n",
    "\n",
    "def permute_conv_lat(lat_mat, space_group):\n",
    "    rank = np.argsort(-np.linalg.norm(lat_mat,axis=1)) # lat[rank[0]] > lat[rank[1]] > lat[rank[2]] (Descending order)\n",
    "    perm = lat_perm[space_group, rank[0],rank[1],rank[2]]\n",
    "    perm_lat_mat = np.dot(perm, lat_mat).dot(perm.T)\n",
    "    return perm_lat_mat, perm, rank\n",
    "\n",
    "def project_random_lattice_to_symmetry_prim_conv_permute2(rand_lat_mat, conv_to_prim, space_group):\n",
    "    rand_conv_lat = np.linalg.inv(conv_to_prim).dot(rand_lat_mat)\n",
    "    proj_conv_lat = project_lattice(rand_conv_lat, space_group)\n",
    "    perm_conv_lat, perm, rank = permute_conv_lat(proj_conv_lat.matrix, space_group)\n",
    "    # proj_prim_lat = np.array(conv_to_prim).dot(perm_conv_lat)\n",
    "    proj_prim_lat = np.array(conv_to_prim).dot(perm_for_A2[space_group].dot(perm_conv_lat).dot(perm_for_A2[space_group].T))\n",
    "\n",
    "    return proj_prim_lat, perm_conv_lat, perm, rank\n",
    "\n",
    "def map_sites_conv_to_prim_lat(conv_sites, conv_species, conv_lat, prim_lat):\n",
    "    prim_lattice_inv = np.linalg.inv(prim_lat)\n",
    "    new_fracs = []\n",
    "    new_species = []\n",
    "    conv_sites = np.dot(conv_sites, conv_lat)\n",
    "    for cart_coords, specie in zip(conv_sites, conv_species):\n",
    "        new_frac = np.dot(cart_coords, prim_lattice_inv)\n",
    "        # if not any(partial(pbc_diff,new_frac) == partial(f) for f in new_fracs):\n",
    "        #     new_species.append(site.specie)\n",
    "        if not any(map(partial(is_periodic_image, new_frac), new_fracs)):\n",
    "            new_fracs.append(new_frac % 1)\n",
    "            new_species.append(specie)\n",
    "        new_fracs = [new_frac % 1 for new_frac in new_fracs]\n",
    "\n",
    "    # Rhombohedral is not implemented yet\n",
    "    return new_species, new_fracs\n",
    "\n",
    "\n",
    "def test_space_group_projection_prim3(structure, print_res=False):\n",
    "    cif, sym_info, num_sites, formula = process_prim_with_sym_infos(structure)\n",
    "    space_group = sym_info[\"spacegroup\"]\n",
    "    prim_plat, conv_plat, perm,rank = project_random_lattice_to_symmetry_prim_conv_permute2(\n",
    "        initialize_random_lattice().matrix, sym_info[\"conv_to_prim\"], sym_info[\"spacegroup\"]\n",
    "    )\n",
    "    # prim_plat = np.dot(perm, prim_plat)\n",
    "    conv_psites, conv_species = project_sites_prim_with_species(\n",
    "        initialize_random_atoms(num_sites), sym_info\n",
    "    )\n",
    "    # perm_conv_psites = np.dot(perm, conv_psites.T).T\n",
    "    # conv_psites = perm_conv_psites\n",
    "    \n",
    "    # print(psites)\n",
    "    # conv_species = SpacegroupAnalyzer(structure).get_refined_structure().species\n",
    "    # print(prim_plat)\n",
    "    # print(\"conv_plat\",conv_plat)\n",
    "    proj_conv_structure = Structure(conv_plat, conv_species, conv_psites)\n",
    "    perm_conv_psite = np.dot(perm, conv_psites.T).T\n",
    "    perm_conv_plat = perm_for_A2[space_group].dot(conv_plat).dot(perm_for_A2[space_group].T)\n",
    "    # print(prim_plat)\n",
    "    prim_species, prim_psites = map_sites_conv_to_prim_lat(\n",
    "        perm_conv_psite , conv_species, perm_conv_plat, prim_plat\n",
    "    )\n",
    "    \n",
    "    proj_prim_structure = Structure(prim_plat, prim_species, prim_psites)\n",
    "\n",
    "    res = {\n",
    "        \"proj_conv_structure\": proj_conv_structure,\n",
    "        \"proj_prim_structure\": proj_prim_structure,\n",
    "        \"structure\": structure,\n",
    "        \"sym_info\": sym_info,\n",
    "    }\n",
    "\n",
    "    try:\n",
    "        spga = SpacegroupAnalyzer(proj_conv_structure)\n",
    "    except:\n",
    "        return {\n",
    "            **res,\n",
    "            \"correct\": False,\n",
    "            \"error\": True,\n",
    "            \"correct_species_len\": len(structure.species) == len(prim_species.shape[0]),\n",
    "            \"correct_species_len_spga\": len(structure.species) == 0,\n",
    "        }\n",
    "\n",
    "    spga_prim = spga.get_primitive_standard_structure()\n",
    "    spg_species_len = len(spga_prim.species)\n",
    "\n",
    "    if print_res:\n",
    "        print(\"Original space group number: \", sym_info[\"spacegroup\"])\n",
    "        print(\"Projected space group number: \", spga.get_space_group_number())\n",
    "        print(\n",
    "            \"Len of species: \",\n",
    "            len(structure.species),\n",
    "            len(proj_prim_structure.species),\n",
    "            spg_species_len,\n",
    "            len(structure.species) == len(proj_prim_structure.species),\n",
    "            len(structure.species) == spg_species_len,\n",
    "        )\n",
    "        print\n",
    "    correct = sym_info[\"spacegroup\"] == spga.get_space_group_number()\n",
    "    return {\n",
    "        **res,\n",
    "        \"spga_prim\": spga_prim,\n",
    "        \"correct\": correct,\n",
    "        \"error\": False,\n",
    "        \"correct_species_len\": len(structure.species) == len(prim_species.shape[0]),\n",
    "        # \"correct_species_len\": len(structure.species) == len(proj_prim_structure.species),\n",
    "        \"correct_species_len_spga\": len(structure.species) == spg_species_len,\n",
    "    }\n",
    "\n"
   ]
  },
  {
   "cell_type": "code",
   "execution_count": 27,
   "metadata": {},
   "outputs": [
    {
     "data": {
      "application/vnd.jupyter.widget-view+json": {
       "model_id": "deea906ea8814eab933f3b8757ecf694",
       "version_major": 2,
       "version_minor": 0
      },
      "text/plain": [
       "  0%|          | 0/9047 [00:00<?, ?it/s]"
      ]
     },
     "metadata": {},
     "output_type": "display_data"
    },
    {
     "name": "stderr",
     "output_type": "stream",
     "text": [
      "/home/holywater2/crystal_gen/mattergen/.venv/lib/python3.10/site-packages/pymatgen/core/periodic_table.py:289: UserWarning: No Pauling electronegativity for He. Setting to NaN. This has no physical meaning, and is mainly done to avoid errors caused by the code expecting a float.\n",
      "  warnings.warn(\n"
     ]
    }
   ],
   "source": [
    "res2 = p_map(test_space_group_projection_prim3, structures, num_cpus=16)"
   ]
  },
  {
   "cell_type": "code",
   "execution_count": 31,
   "metadata": {},
   "outputs": [
    {
     "name": "stdout",
     "output_type": "stream",
     "text": [
      "9010 9047 29 9018\n",
      "0.9959102464905494 1.0 0.0032054824803802364\n"
     ]
    }
   ],
   "source": [
    "sgn_correct = []\n",
    "sgn_failed = []\n",
    "len_correct = []\n",
    "len_failed = []\n",
    "spga_len_correct = []\n",
    "spga_len_failed = []\n",
    "errors = []\n",
    "\n",
    "for i in range(len(res2)):\n",
    "    if res2[i][\"correct\"]:\n",
    "        sgn_correct.append(i)\n",
    "    else:\n",
    "        sgn_failed.append(i)\n",
    "    if res2[i][\"correct_species_len\"]:\n",
    "        len_correct.append(i)\n",
    "    else:\n",
    "        len_failed.append(i)\n",
    "    if res2[i][\"correct_species_len_spga\"]:\n",
    "        spga_len_correct.append(i)\n",
    "    else:\n",
    "        spga_len_failed.append(i)\n",
    "    if res2[i][\"error\"]:\n",
    "        errors.append(i)\n",
    "\n",
    "print(len(sgn_correct), len(len_correct), len(errors), len(spga_len_correct))\n",
    "print(len(sgn_correct)/len(res2), len(len_correct)/len(res2), len(errors)/len(res2))"
   ]
  },
  {
   "cell_type": "code",
   "execution_count": 29,
   "metadata": {},
   "outputs": [
    {
     "data": {
      "text/plain": [
       "[]"
      ]
     },
     "execution_count": 29,
     "metadata": {},
     "output_type": "execute_result"
    }
   ],
   "source": [
    "len_failed"
   ]
  },
  {
   "cell_type": "code",
   "execution_count": 30,
   "metadata": {},
   "outputs": [
    {
     "data": {
      "text/plain": [
       "[45,\n",
       " 251,\n",
       " 519,\n",
       " 1220,\n",
       " 1451,\n",
       " 1611,\n",
       " 1703,\n",
       " 1989,\n",
       " 2257,\n",
       " 2336,\n",
       " 2793,\n",
       " 2869,\n",
       " 3143,\n",
       " 3899,\n",
       " 4285,\n",
       " 4621,\n",
       " 5416,\n",
       " 5869,\n",
       " 6016,\n",
       " 6062,\n",
       " 6202,\n",
       " 6453,\n",
       " 6759,\n",
       " 6834,\n",
       " 6982,\n",
       " 7088,\n",
       " 7243,\n",
       " 7663,\n",
       " 7750]"
      ]
     },
     "execution_count": 30,
     "metadata": {},
     "output_type": "execute_result"
    }
   ],
   "source": [
    "spga_len_failed"
   ]
  },
  {
   "cell_type": "code",
   "execution_count": null,
   "metadata": {},
   "outputs": [],
   "source": []
  }
 ],
 "metadata": {
  "kernelspec": {
   "display_name": ".venv",
   "language": "python",
   "name": "python3"
  },
  "language_info": {
   "codemirror_mode": {
    "name": "ipython",
    "version": 3
   },
   "file_extension": ".py",
   "mimetype": "text/x-python",
   "name": "python",
   "nbconvert_exporter": "python",
   "pygments_lexer": "ipython3",
   "version": "3.10.15"
  }
 },
 "nbformat": 4,
 "nbformat_minor": 2
}
