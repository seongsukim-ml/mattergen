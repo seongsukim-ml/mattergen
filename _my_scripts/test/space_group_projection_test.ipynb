{
 "cells": [
  {
   "cell_type": "code",
   "execution_count": 1,
   "metadata": {},
   "outputs": [],
   "source": [
    "import sys\n",
    "import os\n",
    "from pathlib import Path\n",
    "sys.path.append(Path.cwd().parent.as_posix())\n",
    "from util import *\n",
    "from visualizer import visualizer\n",
    "vis = visualizer()"
   ]
  },
  {
   "cell_type": "code",
   "execution_count": null,
   "metadata": {},
   "outputs": [],
   "source": [
    "structures = test_structures(N=-1,dataset_name=\"alex_mp_20\", dataset_mode=\"train\")"
   ]
  },
  {
   "cell_type": "code",
   "execution_count": null,
   "metadata": {},
   "outputs": [],
   "source": [
    "eval = p_map(test_space_group_projection, structures, num_cpus=32)\n",
    "print(\"Number of failed: \", len([i for i in eval if i[\"correct\"] == False]))\n",
    "print(\"Success rate: \", len([i for i in eval if i[\"correct\"] == True])/len(eval))\n",
    "print(\"Ratio of correct space group: \", sum([i[\"correct\"] for i in eval]), len(eval))"
   ]
  }
 ],
 "metadata": {
  "kernelspec": {
   "display_name": ".venv",
   "language": "python",
   "name": "python3"
  },
  "language_info": {
   "codemirror_mode": {
    "name": "ipython",
    "version": 3
   },
   "file_extension": ".py",
   "mimetype": "text/x-python",
   "name": "python",
   "nbconvert_exporter": "python",
   "pygments_lexer": "ipython3",
   "version": "3.10.15"
  }
 },
 "nbformat": 4,
 "nbformat_minor": 2
}
