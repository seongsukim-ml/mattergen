{
 "cells": [
  {
   "cell_type": "code",
   "execution_count": 1,
   "metadata": {},
   "outputs": [],
   "source": [
    "import sys\n",
    "import os\n",
    "from pathlib import Path\n",
    "sys.path.append(Path.cwd().parent.as_posix())\n",
    "from util import *\n",
    "from visualizer import visualizer\n",
    "vis = visualizer()"
   ]
  },
  {
   "cell_type": "code",
   "execution_count": 2,
   "metadata": {},
   "outputs": [],
   "source": [
    "def get_prim_and_conv(structure):\n",
    "    sga = SpacegroupAnalyzer(structure)\n",
    "    prim = sga.get_primitive_standard_structure()\n",
    "    conv = sga.get_conventional_standard_structure()\n",
    "    return prim, conv"
   ]
  },
  {
   "cell_type": "code",
   "execution_count": 3,
   "metadata": {},
   "outputs": [
    {
     "data": {
      "application/vnd.jupyter.widget-view+json": {
       "model_id": "d21cf139cbd84f75a8687bb721b55ab0",
       "version_major": 2,
       "version_minor": 0
      },
      "text/plain": [
       "  0%|          | 0/100 [00:00<?, ?it/s]"
      ]
     },
     "metadata": {},
     "output_type": "display_data"
    },
    {
     "name": "stdout",
     "output_type": "stream",
     "text": [
      "[I] Loaded 100 structures\n"
     ]
    }
   ],
   "source": [
    "structures = test_structures()"
   ]
  },
  {
   "cell_type": "code",
   "execution_count": 7,
   "metadata": {},
   "outputs": [],
   "source": [
    "st = structures[2]"
   ]
  },
  {
   "cell_type": "code",
   "execution_count": 8,
   "metadata": {},
   "outputs": [],
   "source": [
    "prim, conv = get_prim_and_conv(st)"
   ]
  },
  {
   "cell_type": "code",
   "execution_count": null,
   "metadata": {},
   "outputs": [],
   "source": []
  },
  {
   "cell_type": "code",
   "execution_count": 10,
   "metadata": {},
   "outputs": [
    {
     "data": {
      "text/plain": [
       "([Element Na,\n",
       "  Element Na,\n",
       "  Element Ca,\n",
       "  Element Ca,\n",
       "  Element Ta,\n",
       "  Element Ta,\n",
       "  Element Ti,\n",
       "  Element Ti,\n",
       "  Element O,\n",
       "  Element O,\n",
       "  Element O,\n",
       "  Element O,\n",
       "  Element O,\n",
       "  Element O,\n",
       "  Element O,\n",
       "  Element O,\n",
       "  Element O,\n",
       "  Element O,\n",
       "  Element O,\n",
       "  Element O],\n",
       " [array([0.754485, 0.22613 , 0.750071]),\n",
       "  array([0.754485, 0.77387 , 0.250071]),\n",
       "  array([0.237176, 0.704963, 0.749993]),\n",
       "  array([0.237176, 0.295037, 0.249993]),\n",
       "  array([4.94252e-01, 2.43969e-01, 2.24000e-04]),\n",
       "  array([0.494252, 0.756031, 0.500224]),\n",
       "  array([0.996668, 0.244979, 0.503044]),\n",
       "  array([0.996668, 0.755021, 0.003044]),\n",
       "  array([0.322843, 0.732302, 0.248053]),\n",
       "  array([0.761005, 0.46989 , 0.537855]),\n",
       "  array([0.180888, 0.469022, 0.96101 ]),\n",
       "  array([0.837118, 0.962252, 0.54319 ]),\n",
       "  array([0.247478, 0.95731 , 0.955643]),\n",
       "  array([0.668083, 0.23327 , 0.250915]),\n",
       "  array([0.322843, 0.267698, 0.748053]),\n",
       "  array([0.761005, 0.53011 , 0.037855]),\n",
       "  array([0.180888, 0.530978, 0.46101 ]),\n",
       "  array([0.837118, 0.037748, 0.04319 ]),\n",
       "  array([0.247478, 0.04269 , 0.455643]),\n",
       "  array([0.668083, 0.76673 , 0.750915])])"
      ]
     },
     "execution_count": 10,
     "metadata": {},
     "output_type": "execute_result"
    }
   ],
   "source": [
    "map_sites_conv_to_prim(conv, prim)"
   ]
  },
  {
   "cell_type": "code",
   "execution_count": 11,
   "metadata": {},
   "outputs": [
    {
     "data": {
      "text/plain": [
       "Structure Summary\n",
       "Lattice\n",
       "    abc : 5.456484 5.550569 9.475464738856905\n",
       " angles : 90.0 125.08859689766035 90.0\n",
       " volume : 234.8250537411465\n",
       "      A : 0.0 5.456484 0.0\n",
       "      B : 5.550569 0.0 0.0\n",
       "      C : 0.0 -5.446898997010619 -7.75343300310806\n",
       "    pbc : True True True\n",
       "PeriodicSite: Na (1.255, 0.03127, -5.816) [0.7545, 0.2261, 0.7501]\n",
       "PeriodicSite: Na (4.295, 2.755, -1.939) [0.7545, 0.7739, 0.2501]\n",
       "PeriodicSite: Ca (3.913, -2.791, -5.815) [0.2372, 0.705, 0.75]\n",
       "PeriodicSite: Ca (1.638, -0.06754, -1.938) [0.2372, 0.295, 0.25]\n",
       "PeriodicSite: Ta (1.354, 2.696, -0.001737) [0.4943, 0.244, 0.000224]\n",
       "PeriodicSite: Ta (4.196, -0.02779, -3.878) [0.4943, 0.756, 0.5002]\n",
       "PeriodicSite: Ti (1.36, 2.698, -3.9) [0.9967, 0.245, 0.503]\n",
       "PeriodicSite: Ti (4.191, 5.422, -0.0236) [0.9967, 0.755, 0.003044]\n",
       "PeriodicSite: O (4.065, 0.4105, -1.923) [0.3228, 0.7323, 0.2481]\n",
       "PeriodicSite: O (2.608, 1.223, -4.17) [0.761, 0.4699, 0.5379]\n",
       "PeriodicSite: O (2.603, -4.248, -7.451) [0.1809, 0.469, 0.961]\n",
       "PeriodicSite: O (5.341, 1.609, -4.212) [0.8371, 0.9623, 0.5432]\n",
       "PeriodicSite: O (5.314, -3.855, -7.41) [0.2475, 0.9573, 0.9556]\n",
       "PeriodicSite: O (1.295, 2.279, -1.945) [0.6681, 0.2333, 0.2509]\n",
       "PeriodicSite: O (1.486, -2.313, -5.8) [0.3228, 0.2677, 0.7481]\n",
       "PeriodicSite: O (2.942, 3.946, -0.2935) [0.761, 0.5301, 0.03785]\n",
       "PeriodicSite: O (2.947, -1.524, -3.574) [0.1809, 0.531, 0.461]\n",
       "PeriodicSite: O (0.2095, 4.332, -0.3349) [0.8371, 0.03775, 0.04319]\n",
       "PeriodicSite: O (0.237, -1.131, -3.533) [0.2475, 0.04269, 0.4556]\n",
       "PeriodicSite: O (4.256, -0.4448, -5.822) [0.6681, 0.7667, 0.7509]"
      ]
     },
     "execution_count": 11,
     "metadata": {},
     "output_type": "execute_result"
    }
   ],
   "source": [
    "prim"
   ]
  },
  {
   "cell_type": "code",
   "execution_count": 58,
   "metadata": {},
   "outputs": [],
   "source": [
    "results = []\n",
    "for st in structures:\n",
    "    prim, conv = get_prim_and_conv(st)\n",
    "    prim_lattice_inv = prim.lattice.inv_matrix\n",
    "    new_fracs = []\n",
    "    new_species = []\n",
    "    for site in conv:\n",
    "        new_frac = np.dot(site.coords, prim_lattice_inv)\n",
    "        # if not any(partial(pbc_diff,new_frac) == partial(f) for f in new_fracs):\n",
    "        #     new_species.append(site.specie)\n",
    "        if not any(map(partial(is_periodic_image, new_frac), new_fracs)):\n",
    "            new_fracs.append(new_frac % 1)\n",
    "            new_species.append(site.specie)\n",
    "        new_fracs = [new_frac % 1 for new_frac in new_fracs]\n",
    "    results.append(np.allclose(np.array(new_fracs),prim.frac_coords % 1))"
   ]
  },
  {
   "cell_type": "code",
   "execution_count": 63,
   "metadata": {},
   "outputs": [],
   "source": [
    "rand_strctures = []\n",
    "for st in structures:\n",
    "    rand_strctures.append(test_space_group_projection(st)[\"proj_structure\"])"
   ]
  },
  {
   "cell_type": "code",
   "execution_count": 75,
   "metadata": {},
   "outputs": [],
   "source": [
    "prim, conv = get_prim_and_conv(rand_strctures[0])"
   ]
  },
  {
   "cell_type": "code",
   "execution_count": 77,
   "metadata": {},
   "outputs": [],
   "source": [
    "cif, sym_info, num_sites, formula = process_conventional_with_sym(prim)"
   ]
  },
  {
   "cell_type": "code",
   "execution_count": 79,
   "metadata": {},
   "outputs": [
    {
     "data": {
      "text/plain": [
       "4"
      ]
     },
     "execution_count": 79,
     "metadata": {},
     "output_type": "execute_result"
    }
   ],
   "source": [
    "prim.num_sites"
   ]
  },
  {
   "cell_type": "code",
   "execution_count": 80,
   "metadata": {},
   "outputs": [
    {
     "data": {
      "text/plain": [
       "Structure Summary\n",
       "Lattice\n",
       "    abc : 5.680331055637312 5.680331055637312 5.680331055637313\n",
       " angles : 59.99999999999999 59.99999999999999 59.99999999999999\n",
       " volume : 129.60028152198547\n",
       "      A : 6.459186413757549e-16 4.016600608825684 4.016600608825684\n",
       "      B : 4.016600608825684 0.0 4.016600608825684\n",
       "      C : 4.0166006088256845 4.016600608825684 4.918917079051683e-16\n",
       "    pbc : True True True\n",
       "PeriodicSite: Tm (0.0, 0.0, 0.0) [0.0, 0.0, 0.0]\n",
       "PeriodicSite: Mg (4.017, 4.017, 4.017) [0.5, 0.5, 0.5]\n",
       "PeriodicSite: Hg (2.008, 2.008, 2.008) [0.25, 0.25, 0.25]\n",
       "PeriodicSite: Hg (6.025, 6.025, 6.025) [0.75, 0.75, 0.75]"
      ]
     },
     "execution_count": 80,
     "metadata": {},
     "output_type": "execute_result"
    }
   ],
   "source": [
    "prim"
   ]
  },
  {
   "cell_type": "code",
   "execution_count": 90,
   "metadata": {},
   "outputs": [
    {
     "name": "stderr",
     "output_type": "stream",
     "text": [
      "/home/holywater2/crystal_gen/mattergen/.venv/lib/python3.10/site-packages/pymatgen/io/cif.py:1304: UserWarning: Issues encountered while parsing CIF: Skipping relative stoichiometry check because CIF does not contain formula keys.\n",
      "  warnings.warn(\"Issues encountered while parsing CIF: \" + \"\\n\".join(self.warnings))\n"
     ]
    },
    {
     "data": {
      "text/plain": [
       "array([[0.        , 0.        , 0.        ],\n",
       "       [4.0166005 , 4.0166005 , 4.0166005 ],\n",
       "       [2.00830025, 2.00830025, 2.00830025]])"
      ]
     },
     "execution_count": 90,
     "metadata": {},
     "output_type": "execute_result"
    }
   ],
   "source": [
    "Structure.from_str(cif, fmt=\"cif\").cart_coords[np.unique(sym_info[\"anchors\"])]"
   ]
  },
  {
   "cell_type": "code",
   "execution_count": null,
   "metadata": {},
   "outputs": [],
   "source": [
    "for st in structures:\n",
    "    prim, conv = get_prim_and_conv(st)\n",
    "    \n",
    "    cif, sym_info, num_sites, formula = process_conventional_with_sym(prim)   \n",
    "    psites = project_sites()\n",
    "    print(prim.num_sites, conv.num_sites)"
   ]
  },
  {
   "cell_type": "code",
   "execution_count": 92,
   "metadata": {},
   "outputs": [
    {
     "data": {
      "text/plain": [
       "array([[0.  , 0.  , 0.  ],\n",
       "       [0.5 , 0.5 , 0.5 ],\n",
       "       [0.25, 0.25, 0.25],\n",
       "       [0.75, 0.75, 0.75]])"
      ]
     },
     "execution_count": 92,
     "metadata": {},
     "output_type": "execute_result"
    }
   ],
   "source": [
    "prim.frac_coords"
   ]
  },
  {
   "cell_type": "code",
   "execution_count": null,
   "metadata": {},
   "outputs": [],
   "source": []
  }
 ],
 "metadata": {
  "kernelspec": {
   "display_name": ".venv",
   "language": "python",
   "name": "python3"
  },
  "language_info": {
   "codemirror_mode": {
    "name": "ipython",
    "version": 3
   },
   "file_extension": ".py",
   "mimetype": "text/x-python",
   "name": "python",
   "nbconvert_exporter": "python",
   "pygments_lexer": "ipython3",
   "version": "3.10.15"
  }
 },
 "nbformat": 4,
 "nbformat_minor": 2
}
