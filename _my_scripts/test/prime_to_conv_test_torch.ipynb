{
 "cells": [
  {
   "cell_type": "code",
   "execution_count": 1,
   "metadata": {},
   "outputs": [
    {
     "name": "stdout",
     "output_type": "stream",
     "text": [
      "MODELS_PROJECT_ROOT: /home/holywater2/crystal_gen/mattergen/mattergen\n"
     ]
    }
   ],
   "source": [
    "import sys\n",
    "import os\n",
    "from pathlib import Path\n",
    "sys.path.append(Path.cwd().parent.as_posix())\n",
    "from util import *\n",
    "from visualizer import visualizer\n",
    "vis = visualizer()\n",
    "\n",
    "from mattergen.self_guidance.wyckoff_dataset_prim import *\n",
    "from mattergen.self_guidance.wyckoff_sampler_prim_new import *\n",
    "from mattergen.common.data.collate import collate"
   ]
  },
  {
   "cell_type": "code",
   "execution_count": 9,
   "metadata": {},
   "outputs": [],
   "source": [
    "def _project_to_space_group(batch,pos=None,cell=None):\n",
    "    cf = CrystalFamily()\n",
    "    cf.set_device(batch.pos.device)\n",
    "    lat_perm, _, perm_for_A2 = get_latttice_permutations(device=batch.pos.device)\n",
    "    if pos is not None:\n",
    "        batch = batch.replace(pos=pos)\n",
    "    else:\n",
    "        batch = batch.replace(pos=torch.rand_like(batch.pos))\n",
    "    if cell is not None:\n",
    "        batch = batch.replace(cell=cell)\n",
    "    else:\n",
    "        batch = batch.replace(cell=torch.tensor(initialize_random_lattice().matrix).unsqueeze(0).float())\n",
    "\n",
    "    wyckoff_batch = batch.wyckoff_bat.clone()\n",
    "    idx, cum = 0, 0\n",
    "    for len, num_atom in zip(batch.wyckoff_bat_len, batch.num_atoms):\n",
    "        wyckoff_batch[idx : idx + len] = wyckoff_batch[idx : idx + len] + cum\n",
    "        idx += len\n",
    "        cum += num_atom\n",
    "\n",
    "    # project latice\n",
    "    conv_lat = torch.bmm(batch.prim_to_conv, batch.cell)\n",
    "    conv_lat_vec = cf.m2v(cf.de_so3(conv_lat))\n",
    "    conv_lat_vec_proj = cf.proj_k_to_spacegroup(conv_lat_vec, batch.space_groups)\n",
    "    conv_lat_proj = cf.v2m(conv_lat_vec_proj)\n",
    "\n",
    "    rank = torch.argsort(-torch.norm(conv_lat_proj, dim=-1), dim=-1)\n",
    "    idx = torch.cat([batch.space_groups.unsqueeze(-1), rank], dim=-1)\n",
    "    perm = lat_perm[idx[:, 0], idx[:, 1], idx[:, 2], idx[:, 3]]\n",
    "    perm_A = perm_for_A2[batch.space_groups]\n",
    "\n",
    "    # perm_conv_lat_proj = torch.bmm(torch.bmm(perm, conv_lat_proj), perm.transpose(-1, -2))\n",
    "    # perm_conv_lat_proj = torch.bmm(\n",
    "    #     torch.bmm(perm_A, perm_conv_lat_proj), perm_A.transpose(-1, -2)\n",
    "    # )\n",
    "    perm_conv_lat_proj = conv_lat_proj\n",
    "\n",
    "    # prim_lat_proj = torch.bmm(torch.bmm(torch.bmm(perm_A,batch.conv_to_prim),perm_A.transpose(-1,-2)), perm_conv_lat_proj)\n",
    "    prim_lat_proj = torch.bmm(batch.conv_to_prim, perm_conv_lat_proj)\n",
    "\n",
    "\n",
    "    pos_cart = torch.einsum(\"bi,bij->bj\", batch.pos, batch.cell[batch.batch])\n",
    "    pos_frac_conv = torch.einsum(\n",
    "        \"bi,bij->bj\", pos_cart, torch.inverse(perm_conv_lat_proj)[batch.batch]\n",
    "    )\n",
    "    pos_tran = torch.cat(\n",
    "        [\n",
    "            pos_frac_conv[wyckoff_batch],\n",
    "            torch.ones(pos_frac_conv[wyckoff_batch].shape[0], 1, device=batch.pos.device),\n",
    "        ],\n",
    "        dim=1,\n",
    "    )\n",
    "\n",
    "    pos_frac_proj = (\n",
    "        torch.einsum(\"bij,bj->bi\", batch.wyckoff_ops, pos_tran).squeeze(-1)[:, :3] % 1.0\n",
    "    )\n",
    "    pos_frac_proj = torch.einsum(\"bij,bj->bi\", perm[batch.batch[wyckoff_batch]], pos_frac_proj)\n",
    "    pos_cart_porj = torch.einsum(\n",
    "        \"bi,bij->bj\", pos_frac_proj, perm_conv_lat_proj[batch.batch[wyckoff_batch]]\n",
    "    )\n",
    "\n",
    "    prim_lat_inv = torch.inverse(prim_lat_proj)\n",
    "    pos_prim_frac_proj_all = torch.einsum(\n",
    "        \"bi,bij->bj\", pos_cart_porj, prim_lat_inv[batch.batch[wyckoff_batch]]\n",
    "    )\n",
    "\n",
    "    ## Get prim idx\n",
    "    for i in range(10):\n",
    "        random_pos_frac_conv = torch.rand_like(pos_frac_conv).to(pos_frac_conv.device)\n",
    "        random_pos_tran = torch.cat(\n",
    "            [\n",
    "                random_pos_frac_conv[wyckoff_batch],\n",
    "                torch.ones(\n",
    "                    random_pos_frac_conv[wyckoff_batch].shape[0],\n",
    "                    1,\n",
    "                    device=pos_frac_conv.device,\n",
    "                ),\n",
    "            ],\n",
    "            dim=1,\n",
    "        )\n",
    "        random_pos_frac_proj = (\n",
    "            torch.einsum(\"bij,bj->bi\", batch.wyckoff_ops, random_pos_tran).squeeze(-1)[\n",
    "                :, :3\n",
    "            ]\n",
    "            % 1.0\n",
    "        ) % 1.0\n",
    "        random_pos_frac_proj = torch.einsum(\n",
    "            \"bij,bj->bi\", perm[batch.batch[wyckoff_batch]], random_pos_frac_proj\n",
    "        )\n",
    "        random_pos_cart_proj = torch.einsum(\n",
    "            \"bi,bij->bj\",\n",
    "            random_pos_frac_proj,\n",
    "            perm_conv_lat_proj[batch.batch[wyckoff_batch]],\n",
    "        )\n",
    "\n",
    "        random_fracs = torch.einsum(\n",
    "            \"bi,bij->bj\",\n",
    "            random_pos_cart_proj,\n",
    "            prim_lat_inv[batch.batch[wyckoff_batch]],\n",
    "        )\n",
    "        random_fracs = random_fracs % 1.0\n",
    "        random_fracs_diff = random_fracs.unsqueeze(1) - random_fracs.unsqueeze(0)\n",
    "        random_fracs_diff = random_fracs_diff - torch.round(random_fracs_diff)\n",
    "        EPSILON = 5e-4\n",
    "        random_fracs_diff_is_zero = torch.all(\n",
    "            torch.isclose(\n",
    "                random_fracs_diff,\n",
    "                torch.zeros_like(random_fracs_diff),\n",
    "                rtol=EPSILON,\n",
    "                atol=EPSILON,\n",
    "            ),\n",
    "            dim=-1,\n",
    "        )\n",
    "        random_fracs_idx = random_fracs_diff_is_zero & (\n",
    "            wyckoff_batch.unsqueeze(0) == wyckoff_batch.unsqueeze(1)\n",
    "        )\n",
    "        random_fracs_idx = ~(random_fracs_idx.triu(diagonal=1).any(dim=0))\n",
    "        # random_fracs_prim = random_fracs[random_fracs_idx]\n",
    "        assert random_fracs_idx.shape[0] == pos_prim_frac_proj_all.shape[0]\n",
    "        pos_prim_frac_proj = pos_prim_frac_proj_all[random_fracs_idx]\n",
    "        if pos_prim_frac_proj.shape[0] == batch.pos.shape[0]:\n",
    "            frac_batch = random_fracs_idx\n",
    "            break\n",
    "    pos_prim_frac_proj = pos_prim_frac_proj_all[frac_batch]\n",
    "\n",
    "    # prim_lat_proj = torch.bmm(torch.bmm(perm_A, prim_lat_proj),perm_A.transpose(-1,-2))\n",
    "    # pos_prim_frac_proj = torch.einsum(\"bij,bj->bi\", perm_A, pos_prim_frac_proj)\n",
    "\n",
    "    return (pos_prim_frac_proj % 1.0), prim_lat_proj"
   ]
  },
  {
   "cell_type": "code",
   "execution_count": 2,
   "metadata": {},
   "outputs": [],
   "source": [
    "space_group_input = np.arange(1, 231).tolist()\n",
    "info_path = \"/home/holywater2/crystal_gen/mattergen/_my_scripts/space_group_info/prim/mp_20_val\"\n",
    "\n",
    "dataset = WyckoffDataset.from_space_group_list(\n",
    "    space_group_infos_path=info_path,\n",
    "    num_samples=100,\n",
    "    space_groups=[38]\n",
    ")"
   ]
  },
  {
   "cell_type": "code",
   "execution_count": 8,
   "metadata": {},
   "outputs": [
    {
     "data": {
      "text/plain": [
       "(tensor([[1.9996e-02, 9.8000e-01, 5.0000e-01],\n",
       "         [9.9995e-01, 5.2892e-05, 5.0000e-01],\n",
       "         [5.2525e-01, 4.7475e-01, 5.0000e-01],\n",
       "         [6.7178e-01, 3.2822e-01, 5.0000e-01],\n",
       "         [7.2675e-01, 2.7325e-01, 0.0000e+00],\n",
       "         [7.7708e-01, 2.2292e-01, 0.0000e+00],\n",
       "         [2.8999e-01, 7.1001e-01, 0.0000e+00],\n",
       "         [8.1521e-01, 1.8479e-01, 0.0000e+00],\n",
       "         [1.5466e-01, 8.4534e-01, 0.0000e+00]]),\n",
       " tensor([[[ 4.9717, -8.2792,  0.0000],\n",
       "          [ 4.9717,  8.2792,  0.0000],\n",
       "          [ 0.0000,  0.0000,  7.4843]]]))"
      ]
     },
     "execution_count": 8,
     "metadata": {},
     "output_type": "execute_result"
    }
   ],
   "source": [
    "pos = \n",
    "_project_to_space_group(collate(dataset[0]))"
   ]
  },
  {
   "cell_type": "code",
   "execution_count": 10,
   "metadata": {},
   "outputs": [
    {
     "data": {
      "text/plain": [
       "ChemGraphBatch(pos=[9, 3], anchors=[9], anchors_len=[1], wyckoff_ops=[18, 4, 4], wyckoff_ops_pinv=[18, 3, 3], wyckoff_bat=[18], wyckoff_bat_len=[1], space_groups=[1], num_atoms=[1], conv_to_prim=[1, 3, 3], prim_to_conv=[1, 3, 3], species=[9], uniques=[9], uniques_len=[1], num_nodes=9, atomic_numbers=[9], cell=[1, 3, 3], batch=[9], ptr=[2])"
      ]
     },
     "execution_count": 10,
     "metadata": {},
     "output_type": "execute_result"
    }
   ],
   "source": [
    "collate(dataset[0])"
   ]
  },
  {
   "cell_type": "code",
   "execution_count": 29,
   "metadata": {},
   "outputs": [
    {
     "data": {
      "application/vnd.jupyter.widget-view+json": {
       "model_id": "0ce9a1c699a648d68e2951f8f1e86212",
       "version_major": 2,
       "version_minor": 0
      },
      "text/plain": [
       "0it [00:00, ?it/s]"
      ]
     },
     "metadata": {},
     "output_type": "display_data"
    },
    {
     "name": "stdout",
     "output_type": "stream",
     "text": [
      "Len of success:  100\n",
      "Len of failed:  0\n",
      "Len of error:  0\n"
     ]
    }
   ],
   "source": [
    "res = []\n",
    "success = []\n",
    "failed = []\n",
    "error = []\n",
    "torch.set_num_threads(24)\n",
    "for idx, data in tqdm(enumerate(dataset)):\n",
    "    data_batch = collate([data])\n",
    "    _success = False\n",
    "    for i in range(3):\n",
    "        if not _success:\n",
    "            coords, lattice = _project_to_space_group(data_batch)\n",
    "            structure = Structure(lattice=lattice, coords=coords, species=data_batch.species)\n",
    "            try:\n",
    "                spga = SpacegroupAnalyzer(structure)\n",
    "            except:\n",
    "                print(f\"Idx: {idx} failed, spg {data.space_groups}\")\n",
    "                continue\n",
    "            _success = True\n",
    "    if not _success:\n",
    "        error.append(idx)\n",
    "        failed.append(idx)\n",
    "        continue\n",
    "    sgn = spga.get_space_group_number()\n",
    "    res.append(sgn)\n",
    "    if sgn == data.space_groups.item():\n",
    "        success.append(idx)\n",
    "    else:\n",
    "        failed.append(idx)\n",
    "        print(f\"Idx: {idx} failed, spg {data.space_groups} != {sgn}\")\n",
    "print(\"Len of success: \", len(success))\n",
    "print(\"Len of failed: \", len(failed))\n",
    "print(\"Len of error: \", len(error))"
   ]
  },
  {
   "cell_type": "code",
   "execution_count": 7,
   "metadata": {},
   "outputs": [],
   "source": [
    "# 9994/10000 * 100 = 0.9994"
   ]
  },
  {
   "cell_type": "code",
   "execution_count": null,
   "metadata": {},
   "outputs": [],
   "source": [
    "failed_spg = []\n",
    "for f in failed:\n",
    "    failed_spg.append(dataset[f].space_groups.item())\n",
    "# # count\n",
    "import collections\n",
    "failed_spg = collections.Counter(failed_spg)\n",
    "print(failed_spg)"
   ]
  },
  {
   "cell_type": "code",
   "execution_count": 61,
   "metadata": {},
   "outputs": [
    {
     "name": "stdout",
     "output_type": "stream",
     "text": [
      "139 225 225\n",
      "229 225 225\n",
      "194 5 5\n",
      "221 12 12\n",
      "225 2 2\n",
      "225 2 2\n",
      "139 225 225\n",
      "221 12 12\n",
      "221 12 12\n",
      "139 225 225\n"
     ]
    }
   ],
   "source": [
    "for f in failed:\n",
    "    print(f, dataset[f].space_groups.item(), res[f])"
   ]
  },
  {
   "cell_type": "code",
   "execution_count": 62,
   "metadata": {},
   "outputs": [
    {
     "data": {
      "text/plain": [
       "[139, 229, 194, 221, 225, 225, 139, 221, 221, 139]"
      ]
     },
     "execution_count": 62,
     "metadata": {},
     "output_type": "execute_result"
    }
   ],
   "source": [
    "failed"
   ]
  },
  {
   "cell_type": "code",
   "execution_count": 6,
   "metadata": {},
   "outputs": [
    {
     "data": {
      "application/vnd.jupyter.widget-view+json": {
       "model_id": "164ff30504f047b58058159de7638dd5",
       "version_major": 2,
       "version_minor": 0
      },
      "text/plain": [
       "0it [00:00, ?it/s]"
      ]
     },
     "metadata": {},
     "output_type": "display_data"
    },
    {
     "name": "stdout",
     "output_type": "stream",
     "text": [
      "Idx: 73 failed, spg 38\n",
      "Idx: 362 failed, spg 194\n",
      "Idx: 426 failed, spg 119\n",
      "Idx: 506 failed, spg 136\n",
      "Idx: 649 failed, spg 119\n",
      "Idx: 667 failed, spg 156\n",
      "Idx: 974 failed, spg 166 != 221, retry\n",
      "Idx: 974 failed, spg 166 != 221, retry\n",
      "Idx: 974 failed, spg 166 != 221\n",
      "Idx: 1038 failed, spg 166 != 221, retry\n",
      "Idx: 1359 failed, spg 194\n",
      "Idx: 1729 failed, spg 38\n",
      "Idx: 1859 failed, spg 71\n",
      "Idx: 2538 failed, spg 139\n",
      "Idx: 2603 failed, spg 38\n",
      "Idx: 3649 failed, spg 63\n",
      "Idx: 3732 failed, spg 160\n",
      "Idx: 3830 failed, spg 148 != 166, retry\n",
      "Idx: 3986 failed, spg 164\n",
      "Idx: 4293 failed, spg 227\n",
      "Idx: 4376 failed, spg 11\n"
     ]
    },
    {
     "name": "stderr",
     "output_type": "stream",
     "text": [
      "spglib: ssm_get_exact_positions failed.\n",
      "spglib: get_bravais_exact_positions_and_lattice failed.\n"
     ]
    },
    {
     "name": "stdout",
     "output_type": "stream",
     "text": [
      "Idx: 4656 failed, spg 186 != 194, retry\n",
      "Idx: 4826 failed, spg 163 != 194, retry\n",
      "Idx: 5042 failed, spg 38\n",
      "Idx: 5259 failed, spg 146\n",
      "Idx: 5432 failed, spg 205\n",
      "Idx: 5441 failed, spg 160\n",
      "Idx: 5563 failed, spg 71\n",
      "Idx: 5700 failed, spg 59\n",
      "Idx: 6071 failed, spg 160\n",
      "Idx: 6247 failed, spg 47\n",
      "Idx: 6248 failed, spg 63\n",
      "Idx: 6377 failed, spg 166 != 221, retry\n",
      "Idx: 6998 failed, spg 166 != 221, retry\n",
      "Idx: 7030 failed, spg 71 != 139, retry\n",
      "Idx: 7116 failed, spg 174\n",
      "Idx: 7202 failed, spg 71 != 139, retry\n",
      "Idx: 7278 failed, spg 38\n",
      "Idx: 7784 failed, spg 61 != 64, retry\n",
      "Idx: 7981 failed, spg 26\n",
      "Idx: 7998 failed, spg 20\n",
      "Idx: 8201 failed, spg 156\n",
      "Idx: 8427 failed, spg 71\n",
      "Idx: 8918 failed, spg 42\n",
      "Idx: 9090 failed, spg 139\n"
     ]
    },
    {
     "name": "stderr",
     "output_type": "stream",
     "text": [
      "spglib: ssm_get_exact_positions failed.\n",
      "spglib: get_bravais_exact_positions_and_lattice failed.\n"
     ]
    },
    {
     "name": "stdout",
     "output_type": "stream",
     "text": [
      "Len of success:  9999\n",
      "Len of failed:  1\n",
      "Len of error:  0\n"
     ]
    }
   ],
   "source": [
    "res = []\n",
    "success = []\n",
    "failed = []\n",
    "error = []\n",
    "torch.set_num_threads(24)\n",
    "for idx, data in tqdm(enumerate(dataset)):\n",
    "    data_batch = collate([data])\n",
    "    _success1 = False\n",
    "    _success2 = False\n",
    "    for i in range(2):\n",
    "        for i in range(3):\n",
    "            if not _success1:\n",
    "                coords, lattice = _project_to_space_group(data_batch)\n",
    "                structure = Structure(lattice=lattice, coords=coords, species=data_batch.species)\n",
    "                try:\n",
    "                    spga = SpacegroupAnalyzer(structure)\n",
    "                except:\n",
    "                    print(f\"Idx: {idx} failed, spg {data.space_groups}\")\n",
    "                    continue\n",
    "                _success1 = True\n",
    "        if not _success1 and not _success2:\n",
    "            error.append(idx)\n",
    "            failed.append(idx)\n",
    "            continue\n",
    "        \n",
    "        if _success1:\n",
    "            sgn = spga.get_space_group_number()\n",
    "            if sgn != data.space_groups.item():\n",
    "                print(f\"Idx: {idx} failed, spg {data.space_groups} != {sgn}, retry\")\n",
    "                _success2 = False\n",
    "                _success1 = False\n",
    "                continue\n",
    "            else:\n",
    "                _success2 = True\n",
    "    res.append(sgn)\n",
    "    if sgn == data.space_groups.item():\n",
    "        success.append(idx)\n",
    "    else:\n",
    "        failed.append(idx)\n",
    "        print(f\"Idx: {idx} failed, spg {data.space_groups} != {sgn}\")\n",
    "print(\"Len of success: \", len(success))\n",
    "print(\"Len of failed: \", len(failed))\n",
    "print(\"Len of error: \", len(error))"
   ]
  }
 ],
 "metadata": {
  "kernelspec": {
   "display_name": ".venv",
   "language": "python",
   "name": "python3"
  },
  "language_info": {
   "codemirror_mode": {
    "name": "ipython",
    "version": 3
   },
   "file_extension": ".py",
   "mimetype": "text/x-python",
   "name": "python",
   "nbconvert_exporter": "python",
   "pygments_lexer": "ipython3",
   "version": "3.10.15"
  }
 },
 "nbformat": 4,
 "nbformat_minor": 2
}
