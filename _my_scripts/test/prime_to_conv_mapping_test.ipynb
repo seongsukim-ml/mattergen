{
 "cells": [
  {
   "cell_type": "code",
   "execution_count": 1,
   "metadata": {},
   "outputs": [],
   "source": [
    "import sys\n",
    "import os\n",
    "from pathlib import Path\n",
    "sys.path.append(Path.cwd().parent.as_posix())\n",
    "from util import *\n",
    "from visualizer import visualizer\n",
    "vis = visualizer()"
   ]
  },
  {
   "cell_type": "code",
   "execution_count": 2,
   "metadata": {},
   "outputs": [
    {
     "name": "stdout",
     "output_type": "stream",
     "text": [
      "[I] Loaded 100 structures\n"
     ]
    }
   ],
   "source": [
    "structures = test_structures()"
   ]
  },
  {
   "cell_type": "code",
   "execution_count": 48,
   "metadata": {},
   "outputs": [],
   "source": [
    "st = structures[2]"
   ]
  },
  {
   "cell_type": "code",
   "execution_count": 6,
   "metadata": {},
   "outputs": [
    {
     "data": {
      "text/plain": [
       "Structure Summary\n",
       "Lattice\n",
       "    abc : 5.037987 6.466845720000001 6.466846110061702\n",
       " angles : 78.7724752643975 67.07509394860574 67.07510212\n",
       " volume : 178.4919011563086\n",
       "      A : -4.640067767280082 0.0 -1.9624179287851597\n",
       "      B : -2.4375745524822383 -5.948420913767813 -0.7032869258155185\n",
       "      C : -4.640067767280082 0.0 4.504427791214841\n",
       "    pbc : True True True\n",
       "PeriodicSite: Y0 (Y) (0.0, 0.0, 0.0) [0.0, 0.0, 0.0]\n",
       "PeriodicSite: Ga1 (Ga) (-8.938, -4.826, 1.732) [0.6888, 0.8112, 0.8112]\n",
       "PeriodicSite: Ga2 (Ga) (-2.78, -1.123, 0.1068) [0.3112, 0.1888, 0.1888]\n",
       "PeriodicSite: Ga3 (Ga) (-3.889, -2.03, 2.728) [0.0, 0.3412, 0.6588]\n",
       "PeriodicSite: Ga4 (Ga) (-3.189, -3.919, 1.074) [0.0, 0.6588, 0.3412]\n",
       "PeriodicSite: Ga5 (Ga) (-6.235, -3.891, 1.808) [0.3459, 0.6541, 0.6541]\n",
       "PeriodicSite: Ga6 (Ga) (-5.483, -2.057, 0.03102) [0.6541, 0.3459, 0.3459]\n",
       "PeriodicSite: Co7 (Co) (-2.32, 0.0, 2.252) [2.22e-16, 0.0, 0.5]\n",
       "PeriodicSite: Co8 (Co) (-8.179, -2.974, 3.172) [0.5, 0.5, 1.0]\n",
       "PeriodicSite: Co9 (Co) (-1.219, -2.974, -0.3516) [2.082e-17, 0.5, 6.939e-18]\n",
       "PeriodicSite: Co10 (Co) (-4.64, 0.0, 1.271) [0.5, 0.0, 0.5]\n",
       "PeriodicSite: Co11 (Co) (-5.283, -4.529, -0.4421) [0.5, 0.7614, 0.2386]\n",
       "PeriodicSite: Co12 (Co) (-6.435, -1.419, 2.281) [0.5, 0.2386, 0.7614]"
      ]
     },
     "execution_count": 6,
     "metadata": {},
     "output_type": "execute_result"
    }
   ],
   "source": [
    "st"
   ]
  },
  {
   "cell_type": "code",
   "execution_count": 7,
   "metadata": {},
   "outputs": [],
   "source": [
    "res = test_space_group_projection(st)"
   ]
  },
  {
   "cell_type": "code",
   "execution_count": 10,
   "metadata": {},
   "outputs": [
    {
     "data": {
      "text/plain": [
       "Structure Summary\n",
       "Lattice\n",
       "    abc : 7.072781932639566 7.072781932639566 7.072781932639566\n",
       " angles : 101.93479982161779 109.21506077989316 117.65112825004546\n",
       " volume : 267.20768258861386\n",
       "      A : -4.454172611236572 -4.096371650695801 -3.6611924171447754\n",
       "      B : 4.454172611236572 4.096371650695801 -3.6611924171447754\n",
       "      C : 4.454172611236572 -4.096371650695801 3.6611924171447754\n",
       "    pbc : True True True\n",
       "PeriodicSite: Co (-2.227, -2.048, -1.831) [0.5, 0.0, 0.0]\n",
       "PeriodicSite: Co (2.227, 2.048, -1.831) [0.0, 0.5, 0.0]\n",
       "PeriodicSite: Co (2.227, -2.048, 1.831) [0.0, 0.0, 0.5]\n",
       "PeriodicSite: Co (2.227, -2.048, -1.831) [0.5, 0.5, 0.5]\n",
       "PeriodicSite: Co (2.22e-16, -2.279, -3.661) [0.7782, 0.5, 0.2782]\n",
       "PeriodicSite: Co (4.454, -1.817, 0.0) [0.2218, 0.5, 0.7218]\n",
       "PeriodicSite: Ga (4.454, 0.0, -1.791) [0.2446, 0.7446, 0.5]\n",
       "PeriodicSite: Ga (4.441e-16, -4.096, -1.87) [0.7554, 0.2554, 0.5]\n",
       "PeriodicSite: Ga (0.0, -1.843, 0.0) [0.225, 0.0, 0.225]\n",
       "PeriodicSite: Ga (0.0, -6.349, 0.0) [0.775, 0.0, 0.775]\n",
       "PeriodicSite: Ga (0.0, 0.0, -4.957) [0.6769, 0.6769, 0.0]\n",
       "PeriodicSite: Ga (0.0, 0.0, -2.366) [0.3231, 0.3231, 0.0]\n",
       "PeriodicSite: Y (0.0, 0.0, 0.0) [0.0, 0.0, 0.0]"
      ]
     },
     "execution_count": 10,
     "metadata": {},
     "output_type": "execute_result"
    }
   ],
   "source": [
    "res[\"proj_structure\"].get_primitive_structure()"
   ]
  },
  {
   "cell_type": "code",
   "execution_count": 11,
   "metadata": {},
   "outputs": [
    {
     "data": {
      "text/plain": [
       "Structure Summary\n",
       "Lattice\n",
       "    abc : 8.908345222473145 8.192743301391602 7.322384834289551\n",
       " angles : 90.0 90.0 90.0\n",
       " volume : 534.4153651772277\n",
       "      A : 8.908345222473145 0.0 0.0\n",
       "      B : 0.0 8.192743301391602 0.0\n",
       "      C : 0.0 0.0 7.322384834289551\n",
       "    pbc : True True True\n",
       "PeriodicSite: Y (0.0, 0.0, 0.0) [0.0, 0.0, 0.0]\n",
       "PeriodicSite: Y (4.454, 4.096, 3.661) [0.5, 0.5, 0.5]\n",
       "PeriodicSite: Ga (4.454, 0.0, 5.531) [0.5, 0.0, 0.7554]\n",
       "PeriodicSite: Ga (4.454, 0.0, 1.791) [0.5, 0.0, 0.2446]\n",
       "PeriodicSite: Ga (0.0, 4.096, 1.87) [0.0, 0.5, 0.2554]\n",
       "PeriodicSite: Ga (0.0, 4.096, 5.452) [0.0, 0.5, 0.7446]\n",
       "PeriodicSite: Ga (0.0, 6.349, 0.0) [0.0, 0.775, 0.0]\n",
       "PeriodicSite: Ga (0.0, 1.843, 0.0) [0.0, 0.225, 0.0]\n",
       "PeriodicSite: Ga (4.454, 2.253, 3.661) [0.5, 0.275, 0.5]\n",
       "PeriodicSite: Ga (4.454, 5.94, 3.661) [0.5, 0.725, 0.5]\n",
       "PeriodicSite: Ga (0.0, 0.0, 2.366) [0.0, 0.0, 0.3231]\n",
       "PeriodicSite: Ga (0.0, 0.0, 4.957) [0.0, 0.0, 0.6769]\n",
       "PeriodicSite: Ga (4.454, 4.096, 6.027) [0.5, 0.5, 0.8231]\n",
       "PeriodicSite: Ga (4.454, 4.096, 1.295) [0.5, 0.5, 0.1769]\n",
       "PeriodicSite: Co (2.227, 2.048, 1.831) [0.25, 0.25, 0.25]\n",
       "PeriodicSite: Co (6.681, 6.145, 1.831) [0.75, 0.75, 0.25]\n",
       "PeriodicSite: Co (6.681, 2.048, 5.492) [0.75, 0.25, 0.75]\n",
       "PeriodicSite: Co (2.227, 6.145, 5.492) [0.25, 0.75, 0.75]\n",
       "PeriodicSite: Co (6.681, 6.145, 5.492) [0.75, 0.75, 0.75]\n",
       "PeriodicSite: Co (2.227, 2.048, 5.492) [0.25, 0.25, 0.75]\n",
       "PeriodicSite: Co (2.227, 6.145, 1.831) [0.25, 0.75, 0.25]\n",
       "PeriodicSite: Co (6.681, 2.048, 1.831) [0.75, 0.25, 0.25]\n",
       "PeriodicSite: Co (0.0, 5.914, 3.661) [0.0, 0.7218, 0.5]\n",
       "PeriodicSite: Co (0.0, 2.279, 3.661) [0.0, 0.2782, 0.5]\n",
       "PeriodicSite: Co (4.454, 1.817, 0.0) [0.5, 0.2218, 0.0]\n",
       "PeriodicSite: Co (4.454, 6.375, 0.0) [0.5, 0.7782, 0.0]"
      ]
     },
     "execution_count": 11,
     "metadata": {},
     "output_type": "execute_result"
    }
   ],
   "source": [
    "res[\"proj_structure\"]"
   ]
  },
  {
   "cell_type": "code",
   "execution_count": 54,
   "metadata": {},
   "outputs": [],
   "source": [
    "tt = SpacegroupAnalyzer(st)\n",
    "sd = tt.get_symmetry_dataset()\n",
    "prim = tt.get_primitive_standard_structure()\n",
    "conv = tt.get_conventional_standard_structure()\n",
    "conv_to_prim = tt.get_conventional_to_primitive_transformation_matrix()\n",
    "prim_to_conv = np.linalg.inv(conv_to_prim)\n",
    "sgn = tt.get_space_group_number()"
   ]
  },
  {
   "cell_type": "code",
   "execution_count": 55,
   "metadata": {},
   "outputs": [
    {
     "data": {
      "text/plain": [
       "Structure Summary\n",
       "Lattice\n",
       "    abc : 5.456484 5.550569 9.475464738856905\n",
       " angles : 90.0 125.08859689766035 90.0\n",
       " volume : 234.8250537411465\n",
       "      A : 0.0 5.456484 0.0\n",
       "      B : 5.550569 0.0 0.0\n",
       "      C : 0.0 -5.446898997010619 -7.75343300310806\n",
       "    pbc : True True True\n",
       "PeriodicSite: Na (1.255, 0.03127, -5.816) [0.7545, 0.2261, 0.7501]\n",
       "PeriodicSite: Na (4.295, 2.755, -1.939) [0.7545, 0.7739, 0.2501]\n",
       "PeriodicSite: Ca (3.913, -2.791, -5.815) [0.2372, 0.705, 0.75]\n",
       "PeriodicSite: Ca (1.638, -0.06754, -1.938) [0.2372, 0.295, 0.25]\n",
       "PeriodicSite: Ta (1.354, 2.696, -0.001737) [0.4943, 0.244, 0.000224]\n",
       "PeriodicSite: Ta (4.196, -0.02779, -3.878) [0.4943, 0.756, 0.5002]\n",
       "PeriodicSite: Ti (1.36, 2.698, -3.9) [0.9967, 0.245, 0.503]\n",
       "PeriodicSite: Ti (4.191, 5.422, -0.0236) [0.9967, 0.755, 0.003044]\n",
       "PeriodicSite: O (4.065, 0.4105, -1.923) [0.3228, 0.7323, 0.2481]\n",
       "PeriodicSite: O (2.608, 1.223, -4.17) [0.761, 0.4699, 0.5379]\n",
       "PeriodicSite: O (2.603, -4.248, -7.451) [0.1809, 0.469, 0.961]\n",
       "PeriodicSite: O (5.341, 1.609, -4.212) [0.8371, 0.9623, 0.5432]\n",
       "PeriodicSite: O (5.314, -3.855, -7.41) [0.2475, 0.9573, 0.9556]\n",
       "PeriodicSite: O (1.295, 2.279, -1.945) [0.6681, 0.2333, 0.2509]\n",
       "PeriodicSite: O (1.486, -2.313, -5.8) [0.3228, 0.2677, 0.7481]\n",
       "PeriodicSite: O (2.942, 3.946, -0.2935) [0.761, 0.5301, 0.03785]\n",
       "PeriodicSite: O (2.947, -1.524, -3.574) [0.1809, 0.531, 0.461]\n",
       "PeriodicSite: O (0.2095, 4.332, -0.3349) [0.8371, 0.03775, 0.04319]\n",
       "PeriodicSite: O (0.237, -1.131, -3.533) [0.2475, 0.04269, 0.4556]\n",
       "PeriodicSite: O (4.256, -0.4448, -5.822) [0.6681, 0.7667, 0.7509]"
      ]
     },
     "execution_count": 55,
     "metadata": {},
     "output_type": "execute_result"
    }
   ],
   "source": [
    "prim"
   ]
  },
  {
   "cell_type": "code",
   "execution_count": 56,
   "metadata": {},
   "outputs": [
    {
     "data": {
      "text/plain": [
       "Structure Summary\n",
       "Lattice\n",
       "    abc : 5.456484 5.550569 9.475464738856905\n",
       " angles : 90.0 125.08859689766035 90.0\n",
       " volume : 234.8250537411465\n",
       "      A : 0.0 5.456484 0.0\n",
       "      B : 5.550569 0.0 0.0\n",
       "      C : 0.0 -5.446898997010619 -7.75343300310806\n",
       "    pbc : True True True\n",
       "PeriodicSite: Na (1.255, 0.03127, -5.816) [0.7545, 0.2261, 0.7501]\n",
       "PeriodicSite: Na (4.295, 2.755, -1.939) [0.7545, 0.7739, 0.2501]\n",
       "PeriodicSite: Ca (3.913, -2.791, -5.815) [0.2372, 0.705, 0.75]\n",
       "PeriodicSite: Ca (1.638, -0.06754, -1.938) [0.2372, 0.295, 0.25]\n",
       "PeriodicSite: Ta (1.354, 2.696, -0.001737) [0.4943, 0.244, 0.000224]\n",
       "PeriodicSite: Ta (4.196, -0.02779, -3.878) [0.4943, 0.756, 0.5002]\n",
       "PeriodicSite: Ti (1.36, 2.698, -3.9) [0.9967, 0.245, 0.503]\n",
       "PeriodicSite: Ti (4.191, 5.422, -0.0236) [0.9967, 0.755, 0.003044]\n",
       "PeriodicSite: O (4.065, 0.4105, -1.923) [0.3228, 0.7323, 0.2481]\n",
       "PeriodicSite: O (2.608, 1.223, -4.17) [0.761, 0.4699, 0.5379]\n",
       "PeriodicSite: O (2.603, -4.248, -7.451) [0.1809, 0.469, 0.961]\n",
       "PeriodicSite: O (5.341, 1.609, -4.212) [0.8371, 0.9623, 0.5432]\n",
       "PeriodicSite: O (5.314, -3.855, -7.41) [0.2475, 0.9573, 0.9556]\n",
       "PeriodicSite: O (1.295, 2.279, -1.945) [0.6681, 0.2333, 0.2509]\n",
       "PeriodicSite: O (1.486, -2.313, -5.8) [0.3228, 0.2677, 0.7481]\n",
       "PeriodicSite: O (2.942, 3.946, -0.2935) [0.761, 0.5301, 0.03785]\n",
       "PeriodicSite: O (2.947, -1.524, -3.574) [0.1809, 0.531, 0.461]\n",
       "PeriodicSite: O (0.2095, 4.332, -0.3349) [0.8371, 0.03775, 0.04319]\n",
       "PeriodicSite: O (0.237, -1.131, -3.533) [0.2475, 0.04269, 0.4556]\n",
       "PeriodicSite: O (4.256, -0.4448, -5.822) [0.6681, 0.7667, 0.7509]"
      ]
     },
     "execution_count": 56,
     "metadata": {},
     "output_type": "execute_result"
    }
   ],
   "source": [
    "conv"
   ]
  },
  {
   "cell_type": "code",
   "execution_count": 59,
   "metadata": {},
   "outputs": [
    {
     "data": {
      "text/plain": [
       "array([[ 5.04447889,  0.        , -2.08000994],\n",
       "       [ 0.        ,  5.5505681 ,  0.        ],\n",
       "       [-2.08000994,  0.        ,  9.24434757]])"
      ]
     },
     "execution_count": 59,
     "metadata": {},
     "output_type": "execute_result"
    }
   ],
   "source": [
    "project_random_lattice_to_symmetry(conv.lattice.matrix, conv_to_prim, sgn)"
   ]
  },
  {
   "cell_type": "code",
   "execution_count": 61,
   "metadata": {},
   "outputs": [
    {
     "data": {
      "text/plain": [
       "array([[ 5.04447889,  0.        , -2.08000994],\n",
       "       [ 0.        ,  5.5505681 ,  0.        ],\n",
       "       [-2.08000994,  0.        ,  9.24434757]])"
      ]
     },
     "execution_count": 61,
     "metadata": {},
     "output_type": "execute_result"
    }
   ],
   "source": [
    "project_random_lattice_to_symmetry(prim.lattice.matrix, conv_to_prim, sgn, inp_prim=True, out_prim=False)"
   ]
  },
  {
   "cell_type": "code",
   "execution_count": 86,
   "metadata": {},
   "outputs": [],
   "source": [
    "def test_project_lattice(struct):\n",
    "    sga = SpacegroupAnalyzer(struct)\n",
    "    prim = sga.get_primitive_standard_structure()\n",
    "    conv = sga.get_conventional_standard_structure()\n",
    "    conv_to_prim = sga.get_conventional_to_primitive_transformation_matrix()\n",
    "    # prim_to_conv = np.linalg.inv(conv_to_prim)\n",
    "    sgn = sga.get_space_group_number()\n",
    "\n",
    "    prim_lat = prim.lattice.matrix\n",
    "    conv_lat = conv.lattice.matrix\n",
    "    res1 = project_random_lattice_to_symmetry(\n",
    "        conv_lat, conv_to_prim, sgn, inp_prim=False, out_prim=True\n",
    "    )\n",
    "    res2 = project_random_lattice_to_symmetry(\n",
    "        prim_lat, conv_to_prim, sgn, inp_prim=True, out_prim=False\n",
    "    )\n",
    "    # print(res1)\n",
    "    # print(res2)\n",
    "    return (\n",
    "        np.allclose(np.array(Lattice(res1).parameters),np.array(prim.lattice.parameters)),\n",
    "        np.allclose(np.array(Lattice(res2).parameters),np.array(conv.lattice.parameters)),\n",
    "    )"
   ]
  },
  {
   "cell_type": "code",
   "execution_count": 71,
   "metadata": {},
   "outputs": [
    {
     "data": {
      "text/plain": [
       "(False,\n",
       " False,\n",
       " array([[ 5.1365881 ,  3.66215134, -0.64569664],\n",
       "        [-5.1365881 ,  3.66215134,  0.64569664],\n",
       "        [-1.29139316,  0.        ,  6.85062027]]),\n",
       " array([[10.27317619,  0.        , -1.29139328],\n",
       "        [ 0.        ,  7.32430267,  0.        ],\n",
       "        [-1.29139316,  0.        ,  6.85062027]]))"
      ]
     },
     "execution_count": 71,
     "metadata": {},
     "output_type": "execute_result"
    }
   ],
   "source": [
    "test_project_lattice(structures[1])"
   ]
  },
  {
   "cell_type": "code",
   "execution_count": 50,
   "metadata": {},
   "outputs": [
    {
     "data": {
      "text/plain": [
       "array([[ 5.04447889,  0.        , -2.08000994],\n",
       "       [ 0.        ,  5.5505681 ,  0.        ],\n",
       "       [-2.08000994,  0.        ,  9.24434757]])"
      ]
     },
     "execution_count": 50,
     "metadata": {},
     "output_type": "execute_result"
    }
   ],
   "source": [
    "project_random_lattice_to_symmetry(conv.lattice.matrix, conv_to_prim, sgn, inp_prim=False, out_prim=False)"
   ]
  },
  {
   "cell_type": "code",
   "execution_count": 178,
   "metadata": {},
   "outputs": [
    {
     "data": {
      "text/plain": [
       "SymmetrizedStructure\n",
       "Full Formula (Y1 Ga6 Co6)\n",
       "Reduced Formula: Y(GaCo)6\n",
       "Spacegroup: Immm (71)\n",
       "abc   :   6.466846   6.466846   6.466846\n",
       "angles: 134.150196 101.227525  96.243422\n",
       "Sites (13)\n",
       "  #  SP           a         b         c  Wyckoff\n",
       "---  ----  --------  --------  --------  ---------\n",
       "  0  Y     0         0         0         1a\n",
       "  1  Ga    0.811228  0.311228  0.5       2j\n",
       "  2  Ga    0.658796  0         0.658796  2g\n",
       "  3  Ga    0.65413   0.65413   0         2i\n",
       "  4  Co    0.5       0         0         4k\n",
       "  5  Co    0.23856   0.5       0.73856   2h"
      ]
     },
     "execution_count": 178,
     "metadata": {},
     "output_type": "execute_result"
    }
   ],
   "source": [
    "SpacegroupAnalyzer(prim).get_symmetrized_structure()"
   ]
  },
  {
   "cell_type": "code",
   "execution_count": 179,
   "metadata": {},
   "outputs": [],
   "source": [
    "res = test_space_group_projection(st)"
   ]
  },
  {
   "cell_type": "code",
   "execution_count": 180,
   "metadata": {},
   "outputs": [
    {
     "data": {
      "text/plain": [
       "Structure Summary\n",
       "Lattice\n",
       "    abc : 5.510850429534912 7.5926103591918945 6.340409278869629\n",
       " angles : 90.0 90.0 90.0\n",
       " volume : 265.29375691568094\n",
       "      A : 5.510850429534912 0.0 0.0\n",
       "      B : 0.0 7.5926103591918945 0.0\n",
       "      C : 0.0 0.0 6.340409278869629\n",
       "    pbc : True True True\n",
       "PeriodicSite: Y (0.0, 0.0, 0.0) [0.0, 0.0, 0.0]\n",
       "PeriodicSite: Y (2.755, 3.796, 3.17) [0.5, 0.5, 0.5]\n",
       "PeriodicSite: Ga (2.755, 0.0, 4.319) [0.5, 0.0, 0.6811]\n",
       "PeriodicSite: Ga (2.755, 0.0, 2.022) [0.5, 0.0, 0.3189]\n",
       "PeriodicSite: Ga (0.0, 3.796, 1.148) [0.0, 0.5, 0.1811]\n",
       "PeriodicSite: Ga (0.0, 3.796, 5.192) [0.0, 0.5, 0.8189]\n",
       "PeriodicSite: Ga (0.0, 5.765, 0.0) [0.0, 0.7593, 0.0]\n",
       "PeriodicSite: Ga (0.0, 1.828, 0.0) [0.0, 0.2407, 0.0]\n",
       "PeriodicSite: Ga (2.755, 1.969, 3.17) [0.5, 0.2593, 0.5]\n",
       "PeriodicSite: Ga (2.755, 5.624, 3.17) [0.5, 0.7407, 0.5]\n",
       "PeriodicSite: Ga (0.0, 0.0, 0.4668) [0.0, 0.0, 0.07362]\n",
       "PeriodicSite: Ga (0.0, 0.0, 5.874) [0.0, 0.0, 0.9264]\n",
       "PeriodicSite: Ga (2.755, 3.796, 3.637) [0.5, 0.5, 0.5736]\n",
       "PeriodicSite: Ga (2.755, 3.796, 2.703) [0.5, 0.5, 0.4264]\n",
       "PeriodicSite: Co (1.378, 1.898, 1.585) [0.25, 0.25, 0.25]\n",
       "PeriodicSite: Co (4.133, 5.694, 1.585) [0.75, 0.75, 0.25]\n",
       "PeriodicSite: Co (4.133, 1.898, 4.755) [0.75, 0.25, 0.75]\n",
       "PeriodicSite: Co (1.378, 5.694, 4.755) [0.25, 0.75, 0.75]\n",
       "PeriodicSite: Co (4.133, 5.694, 4.755) [0.75, 0.75, 0.75]\n",
       "PeriodicSite: Co (1.378, 1.898, 4.755) [0.25, 0.25, 0.75]\n",
       "PeriodicSite: Co (1.378, 5.694, 1.585) [0.25, 0.75, 0.25]\n",
       "PeriodicSite: Co (4.133, 1.898, 1.585) [0.75, 0.25, 0.25]\n",
       "PeriodicSite: Co (0.0, 3.051, 3.17) [0.0, 0.4018, 0.5]\n",
       "PeriodicSite: Co (0.0, 4.542, 3.17) [0.0, 0.5982, 0.5]\n",
       "PeriodicSite: Co (2.755, 6.847, 0.0) [0.5, 0.9018, 0.0]\n",
       "PeriodicSite: Co (2.755, 0.7453, 0.0) [0.5, 0.09816, 0.0]"
      ]
     },
     "execution_count": 180,
     "metadata": {},
     "output_type": "execute_result"
    }
   ],
   "source": [
    "res[\"proj_structure\"]"
   ]
  },
  {
   "cell_type": "code",
   "execution_count": 13,
   "metadata": {},
   "outputs": [],
   "source": [
    "def project_lattice_to_primitive_wrapper(conv, sym_info):\n",
    "    return project_lattice_to_primitive(conv.lattice.matrix, np.array(sym_info[\"conv_to_prim\"]), sym_info[\"spacegroup\"])\n"
   ]
  },
  {
   "cell_type": "code",
   "execution_count": 26,
   "metadata": {},
   "outputs": [
    {
     "data": {
      "text/plain": [
       "[[-0.5, 0.5, 0.5], [0.5, -0.5, 0.5], [0.5, 0.5, -0.5]]"
      ]
     },
     "execution_count": 26,
     "metadata": {},
     "output_type": "execute_result"
    }
   ],
   "source": [
    "res[\"sym_info\"][\"conv_to_prim\"]"
   ]
  },
  {
   "cell_type": "code",
   "execution_count": 32,
   "metadata": {},
   "outputs": [
    {
     "data": {
      "text/plain": [
       "array([[-1.21878728, -2.97421046,  2.8817794 ],\n",
       "       [-3.42128049,  2.97421046,  1.62264839],\n",
       "       [-1.21878728, -2.97421046, -3.58506632]])"
      ]
     },
     "execution_count": 32,
     "metadata": {},
     "output_type": "execute_result"
    }
   ],
   "source": [
    "np.array(res[\"sym_info\"][\"conv_to_prim\"]).dot(res[\"structure\"].lattice.matrix)"
   ]
  },
  {
   "cell_type": "code",
   "execution_count": 15,
   "metadata": {},
   "outputs": [
    {
     "data": {
      "text/plain": [
       "array([[0.        , 4.54680061, 4.54680014],\n",
       "       [4.31694555, 0.        , 4.54680014],\n",
       "       [4.31694555, 4.54680061, 0.        ]])"
      ]
     },
     "execution_count": 15,
     "metadata": {},
     "output_type": "execute_result"
    }
   ],
   "source": [
    "project_lattice_to_primitive_wrapper(res[\"structure\"], res[\"sym_info\"])"
   ]
  },
  {
   "cell_type": "code",
   "execution_count": 20,
   "metadata": {},
   "outputs": [
    {
     "data": {
      "text/plain": [
       "Structure Summary\n",
       "Lattice\n",
       "    abc : 7.072781932639566 7.072781932639566 7.072781932639566\n",
       " angles : 101.93479982161779 109.21506077989316 117.65112825004546\n",
       " volume : 267.20768258861386\n",
       "      A : -4.454172611236572 -4.096371650695801 -3.6611924171447754\n",
       "      B : 4.454172611236572 4.096371650695801 -3.6611924171447754\n",
       "      C : 4.454172611236572 -4.096371650695801 3.6611924171447754\n",
       "    pbc : True True True\n",
       "PeriodicSite: Co (-2.227, -2.048, -1.831) [0.5, 0.0, 0.0]\n",
       "PeriodicSite: Co (2.227, 2.048, -1.831) [0.0, 0.5, 0.0]\n",
       "PeriodicSite: Co (2.227, -2.048, 1.831) [0.0, 0.0, 0.5]\n",
       "PeriodicSite: Co (2.227, -2.048, -1.831) [0.5, 0.5, 0.5]\n",
       "PeriodicSite: Co (2.22e-16, -2.279, -3.661) [0.7782, 0.5, 0.2782]\n",
       "PeriodicSite: Co (4.454, -1.817, 0.0) [0.2218, 0.5, 0.7218]\n",
       "PeriodicSite: Ga (4.454, 0.0, -1.791) [0.2446, 0.7446, 0.5]\n",
       "PeriodicSite: Ga (4.441e-16, -4.096, -1.87) [0.7554, 0.2554, 0.5]\n",
       "PeriodicSite: Ga (0.0, -1.843, 0.0) [0.225, 0.0, 0.225]\n",
       "PeriodicSite: Ga (0.0, -6.349, 0.0) [0.775, 0.0, 0.775]\n",
       "PeriodicSite: Ga (0.0, 0.0, -4.957) [0.6769, 0.6769, 0.0]\n",
       "PeriodicSite: Ga (0.0, 0.0, -2.366) [0.3231, 0.3231, 0.0]\n",
       "PeriodicSite: Y (0.0, 0.0, 0.0) [0.0, 0.0, 0.0]"
      ]
     },
     "execution_count": 20,
     "metadata": {},
     "output_type": "execute_result"
    }
   ],
   "source": [
    "res[\"proj_structure\"].get_primitive_structure()"
   ]
  },
  {
   "cell_type": "code",
   "execution_count": 28,
   "metadata": {},
   "outputs": [
    {
     "data": {
      "text/plain": [
       "Structure Summary\n",
       "Lattice\n",
       "    abc : 7.072781932639566 7.072781932639566 7.072781932639566\n",
       " angles : 117.65112825004546 109.21506077989316 101.93479982161779\n",
       " volume : 267.2076825886138\n",
       "      A : -3.661192417144775 4.096371650695801 4.454172611236572\n",
       "      B : 3.661192417144775 -4.096371650695801 4.454172611236572\n",
       "      C : 3.661192417144776 4.096371650695801 -4.454172611236571\n",
       "    pbc : True True True\n",
       "PeriodicSite: Y (0.0, 0.0, 0.0) [0.0, 0.0, 0.0]\n",
       "PeriodicSite: Ga (1.791, -2.22e-16, 4.454) [0.5, 0.7446, 0.2446]\n",
       "PeriodicSite: Ga (1.87, 4.096, 4.441e-16) [0.5, 0.2554, 0.7554]\n",
       "PeriodicSite: Ga (3.661, 2.253, 4.454) [0.775, 1.0, 0.775]\n",
       "PeriodicSite: Ga (3.661, -2.253, 4.454) [0.225, 1.0, 0.225]\n",
       "PeriodicSite: Ga (4.957, -4.441e-16, 8.882e-16) [3.407e-17, 0.6769, 0.6769]\n",
       "PeriodicSite: Ga (2.366, -2.22e-16, 4.441e-16) [1.626e-17, 0.3231, 0.3231]\n",
       "PeriodicSite: Co (1.831, 6.145, -2.227) [0.5, 0.0, 1.0]\n",
       "PeriodicSite: Co (1.831, 2.048, 2.227) [0.5, 0.5, 0.5]\n",
       "PeriodicSite: Co (1.831, 2.048, -2.227) [0.0, 0.0, 0.5]\n",
       "PeriodicSite: Co (-1.831, 2.048, 6.681) [1.0, 0.5, 0.0]\n",
       "PeriodicSite: Co (2.22e-16, 1.817, 4.454) [0.7218, 0.5, 0.2218]\n",
       "PeriodicSite: Co (3.661, 2.279, 4.441e-16) [0.2782, 0.5, 0.7782]"
      ]
     },
     "execution_count": 28,
     "metadata": {},
     "output_type": "execute_result"
    }
   ],
   "source": [
    "SpacegroupAnalyzer(res[\"proj_structure\"]).get_primitive_standard_structure()"
   ]
  },
  {
   "cell_type": "code",
   "execution_count": 29,
   "metadata": {},
   "outputs": [
    {
     "data": {
      "text/plain": [
       "array([[-0.5,  0.5,  0.5],\n",
       "       [ 0.5, -0.5,  0.5],\n",
       "       [ 0.5,  0.5, -0.5]])"
      ]
     },
     "execution_count": 29,
     "metadata": {},
     "output_type": "execute_result"
    }
   ],
   "source": [
    "SpacegroupAnalyzer(res[\"proj_structure\"]).get_conventional_to_primitive_transformation_matrix()"
   ]
  },
  {
   "cell_type": "code",
   "execution_count": 14,
   "metadata": {},
   "outputs": [
    {
     "data": {
      "text/plain": [
       "([Element Y,\n",
       "  Element Y,\n",
       "  Element Ga,\n",
       "  Element Ga,\n",
       "  Element Ga,\n",
       "  Element Ga,\n",
       "  Element Ga,\n",
       "  Element Ga,\n",
       "  Element Ga,\n",
       "  Element Ga,\n",
       "  Element Ga,\n",
       "  Element Ga,\n",
       "  Element Ga,\n",
       "  Element Ga,\n",
       "  Element Co,\n",
       "  Element Co,\n",
       "  Element Co,\n",
       "  Element Co,\n",
       "  Element Co,\n",
       "  Element Co,\n",
       "  Element Co,\n",
       "  Element Co,\n",
       "  Element Co,\n",
       "  Element Co,\n",
       "  Element Co,\n",
       "  Element Co],\n",
       " [array([0., 0., 0.]),\n",
       "  array([0.4889817 , 0.89894669, 0.87761582]),\n",
       "  array([0.87893934, 0.40260432, 0.25223264]),\n",
       "  array([0.73139731, 0.39528906, 0.25223264]),\n",
       "  array([0.7575844 , 0.50365763, 0.62538318]),\n",
       "  array([0.22037901, 0.78976622, 0.62538318]),\n",
       "  array([0.41010403, 0.        , 0.86954751]),\n",
       "  array([0.95752273, 0.        , 0.38121885]),\n",
       "  array([0.53145897, 0.89894669, 0.49639697]),\n",
       "  array([0.44650444, 0.89894669, 0.25883467]),\n",
       "  array([0.21311745, 0.75691322, 0.        ]),\n",
       "  array([0.3972192 , 0.53651064, 0.        ]),\n",
       "  array([0.70209915, 0.65585991, 0.87761582]),\n",
       "  array([0.27586425, 0.14203347, 0.87761582]),\n",
       "  array([0.74449085, 0.44947334, 0.43880791]),\n",
       "  array([0.42830423, 0.70170811, 0.31642373]),\n",
       "  array([0.54965917, 0.34842003, 0.69104055]),\n",
       "  array([0.23347256, 0.09618527, 0.06419109]),\n",
       "  array([0.23347256, 0.34842003, 0.31642373]),\n",
       "  array([0.54965917, 0.09618527, 0.43880791]),\n",
       "  array([0.42830423, 0.44947334, 0.06419109]),\n",
       "  array([0.74449085, 0.70170811, 0.69104055]),\n",
       "  array([0.33476111, 0.64671193, 0.88890896]),\n",
       "  array([0.6432023 , 0.64671193, 0.3618574 ]),\n",
       "  array([0.8457794 , 0.25223476, 0.51575841]),\n",
       "  array([0.52184736, 0.25223476, 0.23947322])])"
      ]
     },
     "execution_count": 14,
     "metadata": {},
     "output_type": "execute_result"
    }
   ],
   "source": [
    "map_sites_conv_to_prim(res[\"proj_structure\"], project_lattice_to_primitive_wrapper(res[\"structure\"], res[\"sym_info\"]))"
   ]
  },
  {
   "cell_type": "code",
   "execution_count": 12,
   "metadata": {},
   "outputs": [],
   "source": [
    "def map_sites_conv_to_prim(conv, prim_lattice_inv):\n",
    "    new_fracs = []\n",
    "    new_species = []\n",
    "    for site in conv:\n",
    "        new_frac = np.dot(site.coords, prim_lattice_inv)\n",
    "        # if not any(partial(pbc_diff,new_frac) == partial(f) for f in new_fracs):\n",
    "        #     new_species.append(site.specie)\n",
    "        if not any(map(partial(is_periodic_image, new_frac), new_fracs)):\n",
    "            new_fracs.append(new_frac % 1)\n",
    "            new_species.append(site.specie)\n",
    "\n",
    "    # Rhombohedral is not implemented yet\n",
    "    return new_species, new_fracs\n"
   ]
  },
  {
   "cell_type": "code",
   "execution_count": 181,
   "metadata": {},
   "outputs": [
    {
     "data": {
      "text/plain": [
       "array([[0.        , 0.        , 0.        ],\n",
       "       [0.5       , 0.5       , 0.5       ],\n",
       "       [0.5       , 0.        , 0.68112411],\n",
       "       [0.5       , 0.        , 0.31887589],\n",
       "       [0.        , 0.5       , 0.18112411],\n",
       "       [0.        , 0.5       , 0.81887589],\n",
       "       [0.        , 0.7592959 , 0.        ],\n",
       "       [0.        , 0.2407041 , 0.        ],\n",
       "       [0.5       , 0.2592959 , 0.5       ],\n",
       "       [0.5       , 0.7407041 , 0.5       ],\n",
       "       [0.        , 0.        , 0.07362263],\n",
       "       [0.        , 0.        , 0.92637737],\n",
       "       [0.5       , 0.5       , 0.57362263],\n",
       "       [0.5       , 0.5       , 0.42637737],\n",
       "       [0.25      , 0.25      , 0.25      ],\n",
       "       [0.75      , 0.75      , 0.25      ],\n",
       "       [0.75      , 0.25      , 0.75      ],\n",
       "       [0.25      , 0.75      , 0.75      ],\n",
       "       [0.75      , 0.75      , 0.75      ],\n",
       "       [0.25      , 0.25      , 0.75      ],\n",
       "       [0.25      , 0.75      , 0.25      ],\n",
       "       [0.75      , 0.25      , 0.25      ],\n",
       "       [0.        , 0.40183708, 0.5       ],\n",
       "       [0.        , 0.59816292, 0.5       ],\n",
       "       [0.5       , 0.90183708, 0.        ],\n",
       "       [0.5       , 0.09816292, 0.        ]])"
      ]
     },
     "execution_count": 181,
     "metadata": {},
     "output_type": "execute_result"
    }
   ],
   "source": [
    "res[\"proj_structure\"].frac_coords"
   ]
  },
  {
   "cell_type": "code",
   "execution_count": 182,
   "metadata": {},
   "outputs": [],
   "source": [
    "frac_1 = random.random((5,3))\n",
    "frac_2 = random.random((5,3))"
   ]
  },
  {
   "cell_type": "code",
   "execution_count": 183,
   "metadata": {},
   "outputs": [
    {
     "ename": "KeyError",
     "evalue": "'frac_dist2'",
     "output_type": "error",
     "traceback": [
      "\u001b[0;31m---------------------------------------------------------------------------\u001b[0m",
      "\u001b[0;31mKeyError\u001b[0m                                  Traceback (most recent call last)",
      "Cell \u001b[0;32mIn[183], line 1\u001b[0m\n\u001b[0;32m----> 1\u001b[0m \u001b[43mperiodic_norm_frac_fixed\u001b[49m\u001b[43m(\u001b[49m\u001b[43mfrac_1\u001b[49m\u001b[43m,\u001b[49m\u001b[43m \u001b[49m\u001b[43mfrac_2\u001b[49m\u001b[43m)\u001b[49m\u001b[43m[\u001b[49m\u001b[38;5;124;43m\"\u001b[39;49m\u001b[38;5;124;43mfrac_dist2\u001b[39;49m\u001b[38;5;124;43m\"\u001b[39;49m\u001b[43m]\u001b[49m\n",
      "\u001b[0;31mKeyError\u001b[0m: 'frac_dist2'"
     ]
    }
   ],
   "source": [
    "periodic_norm_frac_fixed(frac_1, frac_2)[\"frac_dist2\"]"
   ]
  },
  {
   "cell_type": "code",
   "execution_count": 127,
   "metadata": {},
   "outputs": [
    {
     "data": {
      "text/plain": [
       "array([2.5189935, 4.103504 , 4.316946 ])"
      ]
     },
     "execution_count": 127,
     "metadata": {},
     "output_type": "execute_result"
    }
   ],
   "source": [
    "conv.sites[1].coords"
   ]
  },
  {
   "cell_type": "code",
   "execution_count": 129,
   "metadata": {},
   "outputs": [],
   "source": [
    "prim_lattice = prim.lattice.matrix"
   ]
  },
  {
   "cell_type": "code",
   "execution_count": 159,
   "metadata": {},
   "outputs": [
    {
     "data": {
      "text/plain": [
       "array([[ 2.20370363e-17,  1.98491977e-01,  1.98491977e-01],\n",
       "       [ 1.21847085e-01, -2.70554878e-17,  1.21847085e-01],\n",
       "       [ 1.15822621e-01,  1.15822621e-01,  0.00000000e+00]])"
      ]
     },
     "execution_count": 159,
     "metadata": {},
     "output_type": "execute_result"
    }
   ],
   "source": [
    "prim.lattice.inv_matrix"
   ]
  },
  {
   "cell_type": "code",
   "execution_count": null,
   "metadata": {},
   "outputs": [],
   "source": [
    "prim_lattice_inv = np.linalg.inv(prim_lattice)"
   ]
  },
  {
   "cell_type": "code",
   "execution_count": 150,
   "metadata": {},
   "outputs": [],
   "source": [
    "def is_periodic_image(frac_coords1, frac_coords2, pbc=(True, True, True), tolerance=1e-7):\n",
    "    frac_diff = pbc_diff(frac_coords1, frac_coords2, pbc)\n",
    "    return np.allclose(frac_diff, np.zeros_like(frac_diff), atol=tolerance)"
   ]
  },
  {
   "cell_type": "code",
   "execution_count": 156,
   "metadata": {},
   "outputs": [],
   "source": [
    "new_fracs = []\n",
    "new_species = []\n",
    "for site in conv:\n",
    "    new_frac = np.dot(site.coords, prim_lattice_inv)\n",
    "    # if not any(partial(pbc_diff,new_frac) == partial(f) for f in new_fracs):\n",
    "    #     new_species.append(site.specie)\n",
    "    if not any(map(partial(is_periodic_image,new_frac),new_fracs)):\n",
    "        new_fracs.append(new_frac % 1)\n",
    "        new_species.append(site.specie)\n",
    "    "
   ]
  },
  {
   "cell_type": "code",
   "execution_count": 157,
   "metadata": {},
   "outputs": [
    {
     "data": {
      "text/plain": [
       "[array([0., 0., 0.]),\n",
       " array([0.811228, 0.311228, 0.5     ]),\n",
       " array([0.188772, 0.688772, 0.5     ]),\n",
       " array([0.658796, 0.      , 0.658796]),\n",
       " array([0.341204, 0.      , 0.341204]),\n",
       " array([0.65413, 0.65413, 0.     ]),\n",
       " array([0.34587, 0.34587, 0.     ]),\n",
       " array([0.5, 0. , 0. ]),\n",
       " array([0. , 0.5, 0. ]),\n",
       " array([2.22044605e-16, 0.00000000e+00, 5.00000000e-01]),\n",
       " array([0.5, 0.5, 0.5]),\n",
       " array([0.23856, 0.5    , 0.73856]),\n",
       " array([0.76144, 0.5    , 0.26144])]"
      ]
     },
     "execution_count": 157,
     "metadata": {},
     "output_type": "execute_result"
    }
   ],
   "source": [
    "new_fracs"
   ]
  },
  {
   "cell_type": "code",
   "execution_count": 155,
   "metadata": {},
   "outputs": [
    {
     "data": {
      "text/plain": [
       "array([[0.00000000e+00, 0.00000000e+00, 0.00000000e+00],\n",
       "       [8.11228000e-01, 3.11228000e-01, 5.00000000e-01],\n",
       "       [1.88772000e-01, 6.88772000e-01, 5.00000000e-01],\n",
       "       [6.58796000e-01, 0.00000000e+00, 6.58796000e-01],\n",
       "       [3.41204000e-01, 0.00000000e+00, 3.41204000e-01],\n",
       "       [6.54130000e-01, 6.54130000e-01, 0.00000000e+00],\n",
       "       [3.45870000e-01, 3.45870000e-01, 0.00000000e+00],\n",
       "       [5.00000000e-01, 0.00000000e+00, 0.00000000e+00],\n",
       "       [0.00000000e+00, 5.00000000e-01, 0.00000000e+00],\n",
       "       [2.22044605e-16, 0.00000000e+00, 5.00000000e-01],\n",
       "       [5.00000000e-01, 5.00000000e-01, 5.00000000e-01],\n",
       "       [2.38560000e-01, 5.00000000e-01, 7.38560000e-01],\n",
       "       [7.61440000e-01, 5.00000000e-01, 2.61440000e-01]])"
      ]
     },
     "execution_count": 155,
     "metadata": {},
     "output_type": "execute_result"
    }
   ],
   "source": [
    "prim.frac_coords"
   ]
  },
  {
   "cell_type": "code",
   "execution_count": 154,
   "metadata": {},
   "outputs": [
    {
     "data": {
      "text/plain": [
       "[Element Y,\n",
       " Element Ga,\n",
       " Element Ga,\n",
       " Element Ga,\n",
       " Element Ga,\n",
       " Element Ga,\n",
       " Element Ga,\n",
       " Element Co,\n",
       " Element Co,\n",
       " Element Co,\n",
       " Element Co,\n",
       " Element Co,\n",
       " Element Co]"
      ]
     },
     "execution_count": 154,
     "metadata": {},
     "output_type": "execute_result"
    }
   ],
   "source": [
    "new_species"
   ]
  },
  {
   "cell_type": "code",
   "execution_count": 145,
   "metadata": {},
   "outputs": [
    {
     "data": {
      "text/plain": [
       "array([0., 0., 0.])"
      ]
     },
     "execution_count": 145,
     "metadata": {},
     "output_type": "execute_result"
    }
   ],
   "source": [
    "new_fracs[0]"
   ]
  },
  {
   "cell_type": "code",
   "execution_count": 134,
   "metadata": {},
   "outputs": [
    {
     "data": {
      "text/plain": [
       "[array([0., 0., 0.]),\n",
       " array([1., 1., 1.]),\n",
       " array([0.811228, 1.311228, 0.5     ]),\n",
       " array([0.188772, 0.688772, 0.5     ]),\n",
       " array([0.658796, 1.      , 0.658796]),\n",
       " array([1.341204, 1.      , 1.341204]),\n",
       " array([0.65413, 0.65413, 0.     ]),\n",
       " array([0.34587, 0.34587, 0.     ]),\n",
       " array([0.811228, 0.311228, 0.5     ]),\n",
       " array([1.188772, 0.688772, 0.5     ]),\n",
       " array([6.58796000e-01, 6.46459876e-17, 6.58796000e-01]),\n",
       " array([3.41204000e-01, 3.34814868e-17, 3.41204000e-01]),\n",
       " array([0.65413, 0.65413, 1.     ]),\n",
       " array([1.34587, 1.34587, 1.     ]),\n",
       " array([0.5, 1. , 1. ]),\n",
       " array([1. , 0.5, 1. ]),\n",
       " array([1. , 1. , 1.5]),\n",
       " array([0.5, 0.5, 0.5]),\n",
       " array([1.23856, 0.5    , 0.73856]),\n",
       " array([0.76144, 0.5    , 0.26144]),\n",
       " array([1.5, 1. , 1. ]),\n",
       " array([1. , 1.5, 1. ]),\n",
       " array([1. , 1. , 0.5]),\n",
       " array([1.5, 1.5, 1.5]),\n",
       " array([0.23856, 0.5    , 0.73856]),\n",
       " array([0.76144, 0.5    , 1.26144])]"
      ]
     },
     "execution_count": 134,
     "metadata": {},
     "output_type": "execute_result"
    }
   ],
   "source": [
    "new_fracs"
   ]
  },
  {
   "cell_type": "code",
   "execution_count": 135,
   "metadata": {},
   "outputs": [
    {
     "data": {
      "text/plain": [
       "array([0., 0., 0.])"
      ]
     },
     "execution_count": 135,
     "metadata": {},
     "output_type": "execute_result"
    }
   ],
   "source": [
    "pbc_diff(new_fracs[0], new_fracs[1])          "
   ]
  },
  {
   "cell_type": "code",
   "execution_count": 28,
   "metadata": {},
   "outputs": [
    {
     "data": {
      "text/plain": [
       "array([[0.75      , 0.25      , 0.25      ],\n",
       "       [0.        , 0.13559833, 0.5       ],\n",
       "       [0.        , 0.86440167, 0.5       ],\n",
       "       [0.5       , 0.63559833, 0.        ],\n",
       "       [0.5       , 0.36440167, 0.        ]])"
      ]
     },
     "execution_count": 28,
     "metadata": {},
     "output_type": "execute_result"
    }
   ],
   "source": [
    "res[\"proj_structure\"].frac_coords[-5:]"
   ]
  },
  {
   "cell_type": "code",
   "execution_count": 28,
   "metadata": {},
   "outputs": [
    {
     "data": {
      "text/plain": [
       "[Element Y,\n",
       " Element Ga,\n",
       " Element Ga,\n",
       " Element Ga,\n",
       " Element Ga,\n",
       " Element Ga,\n",
       " Element Ga,\n",
       " Element Co,\n",
       " Element Co,\n",
       " Element Co,\n",
       " Element Co,\n",
       " Element Co,\n",
       " Element Co]"
      ]
     },
     "execution_count": 28,
     "metadata": {},
     "output_type": "execute_result"
    }
   ],
   "source": [
    "st.species"
   ]
  },
  {
   "cell_type": "code",
   "execution_count": 53,
   "metadata": {},
   "outputs": [
    {
     "data": {
      "text/plain": [
       "13"
      ]
     },
     "execution_count": 53,
     "metadata": {},
     "output_type": "execute_result"
    }
   ],
   "source": [
    "st.species"
   ]
  },
  {
   "cell_type": "code",
   "execution_count": 26,
   "metadata": {},
   "outputs": [
    {
     "data": {
      "text/plain": [
       "[Element Y,\n",
       " Element Y,\n",
       " Element Ga,\n",
       " Element Ga,\n",
       " Element Ga,\n",
       " Element Ga,\n",
       " Element Ga,\n",
       " Element Ga,\n",
       " Element Ga,\n",
       " Element Ga,\n",
       " Element Ga,\n",
       " Element Ga,\n",
       " Element Ga,\n",
       " Element Ga,\n",
       " Element Co,\n",
       " Element Co,\n",
       " Element Co,\n",
       " Element Co,\n",
       " Element Co,\n",
       " Element Co,\n",
       " Element Co,\n",
       " Element Co,\n",
       " Element Co,\n",
       " Element Co,\n",
       " Element Co,\n",
       " Element Co]"
      ]
     },
     "execution_count": 26,
     "metadata": {},
     "output_type": "execute_result"
    }
   ],
   "source": [
    "res[0].species"
   ]
  },
  {
   "cell_type": "code",
   "execution_count": 29,
   "metadata": {},
   "outputs": [],
   "source": [
    "frac = prim.lattice.get_fractional_coords(res[0].cart_coords)"
   ]
  },
  {
   "cell_type": "code",
   "execution_count": 167,
   "metadata": {},
   "outputs": [
    {
     "data": {
      "text/plain": [
       "SymmetrizedStructure\n",
       "Full Formula (Y2 Ga12 Co12)\n",
       "Reduced Formula: Y(GaCo)6\n",
       "Spacegroup: Immm (71)\n",
       "abc   :   5.037987   8.207008   8.633892\n",
       "angles:  90.000000  90.000000  90.000000\n",
       "Sites (26)\n",
       "  #  SP       a         b         c  Wyckoff\n",
       "---  ----  ----  --------  --------  ---------\n",
       "  0  Y     0     0         0         2a\n",
       "  1  Ga    0.5   0         0.811228  4j\n",
       "  2  Ga    0.5   0.158796  0.5       4g\n",
       "  3  Ga    0     0         0.65413   4i\n",
       "  4  Co    0.75  0.25      0.25      8k\n",
       "  5  Co    0     0.73856   0.5       4h"
      ]
     },
     "execution_count": 167,
     "metadata": {},
     "output_type": "execute_result"
    }
   ],
   "source": [
    "SpacegroupAnalyzer(conv).get_symmetrized_structure()"
   ]
  },
  {
   "cell_type": "code",
   "execution_count": 168,
   "metadata": {},
   "outputs": [
    {
     "name": "stdout",
     "output_type": "stream",
     "text": [
      "Primitive\n",
      "-2.518993 4.103504 4.316946\n",
      "2.518993 -4.103504 4.316946\n",
      "2.518994 4.103504 -4.316946\n",
      "Conventional\n",
      "5.037987 0.000000 0.000000\n",
      "0.000000 8.207008 0.000000\n",
      "0.000000 0.000000 8.633892\n",
      "Transformed\n",
      "[[-2.5189935  4.103504   4.316946 ]\n",
      " [ 2.5189935 -4.103504   4.316946 ]\n",
      " [ 2.5189935  4.103504  -4.316946 ]]\n",
      "inverse transformed\n",
      "[[5.0379870e+00 0.0000000e+00 0.0000000e+00]\n",
      " [8.8817842e-16 8.2070080e+00 0.0000000e+00]\n",
      " [0.0000000e+00 0.0000000e+00 8.6338920e+00]]\n"
     ]
    }
   ],
   "source": [
    "print('Primitive')\n",
    "print(prim.lattice)\n",
    "print(\"Conventional\")\n",
    "print(conv.lattice)\n",
    "print(\"Transformed\")\n",
    "print(np.dot(conv_to_prim, conv.lattice.matrix))\n",
    "print(\"inverse transformed\")\n",
    "print(np.dot(np.linalg.inv(conv_to_prim), prim.lattice.matrix))"
   ]
  },
  {
   "cell_type": "code",
   "execution_count": 169,
   "metadata": {},
   "outputs": [],
   "source": [
    "def project_lattice(lattice, spacegroup):\n",
    "    if isinstance(lattice, Lattice):\n",
    "        mat = torch.Tensor(lattice.matrix.copy()).unsqueeze(0)\n",
    "    elif isinstance(lattice, torch.Tensor):\n",
    "        assert lattice.shape == (1, 3, 3) or lattice.shape == (3, 3)\n",
    "        if lattice.shape == (3, 3):\n",
    "            lattice = lattice.unsqueeze(0)\n",
    "        mat = lattice\n",
    "    elif isinstance(lattice, np.ndarray):\n",
    "        assert lattice.shape == (1, 3, 3) or lattice.shape == (3, 3)\n",
    "        if lattice.shape == (3, 3):\n",
    "            lattice = lattice[np.newaxis, ...]\n",
    "        mat = torch.Tensor(lattice.copy())\n",
    "\n",
    "    cf = symmetry_utils.CrystalFamily()\n",
    "    # mat = torch.Tensor(lattice.matrix.copy()).unsqueeze(0)\n",
    "    mat2 = cf.de_so3(mat)\n",
    "    vec = cf.m2v(mat2)\n",
    "    proj_vec = cf.proj_k_to_spacegroup(vec, spacegroup)\n",
    "    proj_mat = cf.v2m(proj_vec)\n",
    "    lattice = Lattice(proj_mat[0].numpy())\n",
    "    return lattice"
   ]
  },
  {
   "cell_type": "code",
   "execution_count": 170,
   "metadata": {},
   "outputs": [
    {
     "data": {
      "text/plain": [
       "Lattice\n",
       "    abc : 6.103951123685148 6.953173976866979 5.005067160698854\n",
       " angles : 62.459766575432276 103.1495549547993 73.72011359645384\n",
       " volume : 164.11758814665836\n",
       "      A : 5.943902918530505 0.0 -1.3886098859729203\n",
       "      B : 2.7527398125401246 5.516625582239972 3.214948531844982\n",
       "      C : 0.0 0.0 5.005067160698854\n",
       "    pbc : True True True"
      ]
     },
     "execution_count": 170,
     "metadata": {},
     "output_type": "execute_result"
    }
   ],
   "source": [
    "rand_lat = initialize_random_lattice()\n",
    "rand_lat"
   ]
  },
  {
   "cell_type": "code",
   "execution_count": 171,
   "metadata": {},
   "outputs": [],
   "source": [
    "# rand_lat"
   ]
  },
  {
   "cell_type": "code",
   "execution_count": 172,
   "metadata": {},
   "outputs": [
    {
     "data": {
      "text/plain": [
       "Lattice\n",
       "    abc : 6.017001936283774 7.576836062890358 6.128490640592566\n",
       " angles : 50.74702699341752 77.18804833085375 52.06492467572875\n",
       " volume : 164.11771397292992\n",
       "      A : 0.0 2.8595685958862305 5.294070243835449\n",
       "      B : 5.4204487800598145 0.0 5.294070243835449\n",
       "      C : 5.4204487800598145 2.8595685958862305 0.0\n",
       "    pbc : True True True"
      ]
     },
     "execution_count": 172,
     "metadata": {},
     "output_type": "execute_result"
    }
   ],
   "source": [
    "Lattice(project_lattice_to_primitive(rand_lat.matrix,conv_to_prim,tt.get_space_group_number()))"
   ]
  },
  {
   "cell_type": "code",
   "execution_count": 173,
   "metadata": {},
   "outputs": [
    {
     "data": {
      "text/plain": [
       "Structure Summary\n",
       "Lattice\n",
       "    abc : 6.466845915030855 6.466845915030855 6.466845915030855\n",
       " angles : 134.15019606860565 101.22752473560247 96.24342222845507\n",
       " volume : 178.49190115630992\n",
       "      A : -2.5189934999999997 4.103503999710353 4.316945999207094\n",
       "      B : 2.5189934999999997 -4.103503999710353 4.316945999207094\n",
       "      C : 2.5189935000000006 4.103503999710353 -4.316945999207094\n",
       "    pbc : True True True\n",
       "PeriodicSite: Y (0.0, 0.0, 0.0) [0.0, 0.0, 0.0]\n",
       "PeriodicSite: Ga (6.661e-16, 4.104, 2.687) [0.8112, 0.3112, 0.5]\n",
       "PeriodicSite: Ga (2.519, 4.441e-16, 1.63) [0.1888, 0.6888, 0.5]\n",
       "PeriodicSite: Ga (4.441e-16, 5.407, 0.0) [0.6588, 0.0, 0.6588]\n",
       "PeriodicSite: Ga (3.331e-16, 2.8, 0.0) [0.3412, 0.0, 0.3412]\n",
       "PeriodicSite: Ga (0.0, 0.0, 5.648) [0.6541, 0.6541, 0.0]\n",
       "PeriodicSite: Ga (0.0, 0.0, 2.986) [0.3459, 0.3459, 0.0]\n",
       "PeriodicSite: Co (-1.259, 2.052, 2.158) [0.5, 0.0, 0.0]\n",
       "PeriodicSite: Co (1.259, -2.052, 2.158) [0.0, 0.5, 0.0]\n",
       "PeriodicSite: Co (1.259, 2.052, -2.158) [2.22e-16, 0.0, 0.5]\n",
       "PeriodicSite: Co (1.259, 2.052, 2.158) [0.5, 0.5, 0.5]\n",
       "PeriodicSite: Co (2.519, 1.958, -4.441e-16) [0.2386, 0.5, 0.7386]\n",
       "PeriodicSite: Co (3.331e-16, 2.146, 4.317) [0.7614, 0.5, 0.2614]"
      ]
     },
     "execution_count": 173,
     "metadata": {},
     "output_type": "execute_result"
    }
   ],
   "source": [
    "prim"
   ]
  },
  {
   "cell_type": "code",
   "execution_count": 174,
   "metadata": {},
   "outputs": [],
   "source": [
    "def prim_coords_to_conv_coords(frac_coords, prim_lat, conv_lat,use_is_close=True):\n",
    "    res = conv_lat.get_fractional_coords(prim_lat.get_cartesian_coords(frac_coords))\n",
    "    if use_is_close:\n",
    "        res[np.isclose(res,np.zeros_like(res))] = 0\n",
    "    return res"
   ]
  },
  {
   "cell_type": "code",
   "execution_count": 175,
   "metadata": {},
   "outputs": [],
   "source": [
    "res = prim_coords_to_conv_coords(prim.frac_coords,prim.lattice,conv.lattice)"
   ]
  },
  {
   "cell_type": "code",
   "execution_count": 176,
   "metadata": {},
   "outputs": [
    {
     "data": {
      "text/plain": [
       "['number',\n",
       " 'hall_number',\n",
       " 'international',\n",
       " 'hall',\n",
       " 'choice',\n",
       " 'transformation_matrix',\n",
       " 'origin_shift',\n",
       " 'rotations',\n",
       " 'translations',\n",
       " 'wyckoffs',\n",
       " 'site_symmetry_symbols',\n",
       " 'crystallographic_orbits',\n",
       " 'equivalent_atoms',\n",
       " 'primitive_lattice',\n",
       " 'mapping_to_primitive',\n",
       " 'std_lattice',\n",
       " 'std_positions',\n",
       " 'std_types',\n",
       " 'std_rotation_matrix',\n",
       " 'std_mapping_to_primitive',\n",
       " 'pointgroup',\n",
       " '__module__',\n",
       " '__annotations__',\n",
       " '__doc__',\n",
       " '__abstractmethods__',\n",
       " '_abc_impl',\n",
       " '__dataclass_params__',\n",
       " '__dataclass_fields__',\n",
       " '__init__',\n",
       " '__repr__',\n",
       " '__setattr__',\n",
       " '__delattr__',\n",
       " '__match_args__',\n",
       " '__getitem__',\n",
       " '__len__',\n",
       " '__iter__',\n",
       " '__orig_bases__',\n",
       " '__dict__',\n",
       " '__weakref__',\n",
       " '__eq__',\n",
       " '__hash__',\n",
       " '__slots__',\n",
       " 'get',\n",
       " '__contains__',\n",
       " 'keys',\n",
       " 'items',\n",
       " 'values',\n",
       " '__reversed__',\n",
       " '__subclasshook__',\n",
       " '__new__',\n",
       " '__str__',\n",
       " '__getattribute__',\n",
       " '__lt__',\n",
       " '__le__',\n",
       " '__ne__',\n",
       " '__gt__',\n",
       " '__ge__',\n",
       " '__reduce_ex__',\n",
       " '__reduce__',\n",
       " '__init_subclass__',\n",
       " '__format__',\n",
       " '__sizeof__',\n",
       " '__dir__',\n",
       " '__class__',\n",
       " '__class_getitem__']"
      ]
     },
     "execution_count": 176,
     "metadata": {},
     "output_type": "execute_result"
    }
   ],
   "source": [
    "sd.__dir__()"
   ]
  },
  {
   "cell_type": "code",
   "execution_count": 177,
   "metadata": {},
   "outputs": [
    {
     "data": {
      "text/plain": [
       "array([ 0,  1,  1,  3,  3,  5,  5,  7,  7,  7,  7, 11, 11], dtype=int32)"
      ]
     },
     "execution_count": 177,
     "metadata": {},
     "output_type": "execute_result"
    }
   ],
   "source": [
    "sd.crystallographic_orbits"
   ]
  },
  {
   "cell_type": "code",
   "execution_count": 178,
   "metadata": {},
   "outputs": [
    {
     "data": {
      "text/plain": [
       "array([ 0,  1,  1,  3,  3,  5,  5,  7,  7,  7,  7, 11, 11], dtype=int32)"
      ]
     },
     "execution_count": 178,
     "metadata": {},
     "output_type": "execute_result"
    }
   ],
   "source": [
    "sd.equivalent_atoms"
   ]
  },
  {
   "cell_type": "code",
   "execution_count": 179,
   "metadata": {},
   "outputs": [
    {
     "data": {
      "text/plain": [
       "array([[ 0.      ,  0.      ,  0.      ],\n",
       "       [ 0.      ,  0.5     ,  0.311228],\n",
       "       [ 0.5     ,  0.      ,  0.188772],\n",
       "       [ 0.      ,  0.658796,  0.      ],\n",
       "       [ 0.      ,  0.341204,  0.      ],\n",
       "       [ 0.      ,  0.      ,  0.65413 ],\n",
       "       [ 0.      ,  0.      ,  0.34587 ],\n",
       "       [-0.25    ,  0.25    ,  0.25    ],\n",
       "       [ 0.25    , -0.25    ,  0.25    ],\n",
       "       [ 0.25    ,  0.25    , -0.25    ],\n",
       "       [ 0.25    ,  0.25    ,  0.25    ],\n",
       "       [ 0.5     ,  0.23856 ,  0.      ],\n",
       "       [ 0.      ,  0.26144 ,  0.5     ]])"
      ]
     },
     "execution_count": 179,
     "metadata": {},
     "output_type": "execute_result"
    }
   ],
   "source": [
    "res"
   ]
  },
  {
   "cell_type": "code",
   "execution_count": 180,
   "metadata": {},
   "outputs": [
    {
     "data": {
      "text/plain": [
       "array([[ 0.00000000e+00,  0.00000000e+00,  0.00000000e+00],\n",
       "       [ 6.66133815e-16,  4.10350400e+00,  2.68710894e+00],\n",
       "       [ 2.51899350e+00,  4.44089210e-16,  1.62983706e+00],\n",
       "       [ 4.44089210e-16,  5.40674404e+00,  0.00000000e+00],\n",
       "       [ 3.33066907e-16,  2.80026396e+00,  0.00000000e+00],\n",
       "       [ 0.00000000e+00,  0.00000000e+00,  5.64768777e+00],\n",
       "       [ 0.00000000e+00,  0.00000000e+00,  2.98620423e+00],\n",
       "       [-1.25949675e+00,  2.05175200e+00,  2.15847300e+00],\n",
       "       [ 1.25949675e+00, -2.05175200e+00,  2.15847300e+00],\n",
       "       [ 1.25949675e+00,  2.05175200e+00, -2.15847300e+00],\n",
       "       [ 1.25949675e+00,  2.05175200e+00,  2.15847300e+00],\n",
       "       [ 2.51899350e+00,  1.95786383e+00, -4.44089210e-16],\n",
       "       [ 3.33066907e-16,  2.14564017e+00,  4.31694600e+00]])"
      ]
     },
     "execution_count": 180,
     "metadata": {},
     "output_type": "execute_result"
    }
   ],
   "source": [
    "prim.cart_coords"
   ]
  },
  {
   "cell_type": "code",
   "execution_count": 181,
   "metadata": {},
   "outputs": [
    {
     "data": {
      "text/plain": [
       "array([[ 0.00000000e+00,  0.00000000e+00,  0.00000000e+00],\n",
       "       [ 1.23859833e-18,  5.00000000e-01,  3.11228000e-01],\n",
       "       [ 5.00000000e-01,  5.41109756e-17,  1.88772000e-01],\n",
       "       [-8.44348240e-17,  6.58796000e-01, -3.83451159e-17],\n",
       "       [-2.32731609e-17,  3.41204000e-01, -1.98597243e-17],\n",
       "       [ 0.00000000e+00,  0.00000000e+00,  6.54130000e-01],\n",
       "       [ 0.00000000e+00,  0.00000000e+00,  3.45870000e-01],\n",
       "       [-2.50000000e-01,  2.50000000e-01,  2.50000000e-01],\n",
       "       [ 2.50000000e-01, -2.50000000e-01,  2.50000000e-01],\n",
       "       [ 2.50000000e-01,  2.50000000e-01, -2.50000000e-01],\n",
       "       [ 2.50000000e-01,  2.50000000e-01,  2.50000000e-01],\n",
       "       [ 5.00000000e-01,  2.38560000e-01, -8.31858517e-17],\n",
       "       [-2.37760605e-18,  2.61440000e-01,  5.00000000e-01]])"
      ]
     },
     "execution_count": 181,
     "metadata": {},
     "output_type": "execute_result"
    }
   ],
   "source": [
    "conv.lattice.get_fractional_coords(prim.cart_coords)"
   ]
  },
  {
   "cell_type": "code",
   "execution_count": 182,
   "metadata": {},
   "outputs": [
    {
     "data": {
      "text/plain": [
       "array([[0.      , 0.      , 0.      ],\n",
       "       [0.      , 0.5     , 0.311228],\n",
       "       [0.5     , 0.      , 0.188772],\n",
       "       [0.      , 0.658796, 0.      ],\n",
       "       [0.      , 0.341204, 0.      ],\n",
       "       [0.      , 0.      , 0.65413 ],\n",
       "       [0.      , 0.      , 0.34587 ],\n",
       "       [0.75    , 0.25    , 0.25    ],\n",
       "       [0.25    , 0.75    , 0.25    ],\n",
       "       [0.25    , 0.25    , 0.75    ],\n",
       "       [0.25    , 0.25    , 0.25    ],\n",
       "       [0.5     , 0.23856 , 0.      ],\n",
       "       [0.      , 0.26144 , 0.5     ]])"
      ]
     },
     "execution_count": 182,
     "metadata": {},
     "output_type": "execute_result"
    }
   ],
   "source": [
    "conv.frac_coords[[0,8,3,10,11,6,7,14,15,22,17,24,19]]"
   ]
  },
  {
   "cell_type": "code",
   "execution_count": 183,
   "metadata": {},
   "outputs": [
    {
     "name": "stdout",
     "output_type": "stream",
     "text": [
      "0 [0. 0. 0.] [0. 0. 0.] Y Y\n",
      "8 [0.       0.5      0.311228] [6.66133815e-16 4.10350400e+00 2.68710894e+00] Ga Ga\n",
      "3 [0.5      0.       0.188772] [2.51899350e+00 4.44089210e-16 1.62983706e+00] Ga Ga\n",
      "10 [0.       0.658796 0.      ] [4.44089210e-16 5.40674404e+00 0.00000000e+00] Ga Ga\n",
      "11 [0.       0.341204 0.      ] [3.33066907e-16 2.80026396e+00 0.00000000e+00] Ga Ga\n",
      "6 [0.      0.      0.65413] [0.         0.         5.64768777] Ga Ga\n",
      "7 [0.      0.      0.34587] [0.         0.         2.98620423] Ga Ga\n",
      "14 [0.75 0.25 0.25] [-1.25949675  2.051752    2.158473  ] Co Co\n",
      "15 [0.25 0.75 0.25] [ 1.25949675 -2.051752    2.158473  ] Co Co\n",
      "22 [0.25 0.25 0.75] [ 1.25949675  2.051752   -2.158473  ] Co Co\n",
      "17 [0.25 0.25 0.25] [1.25949675 2.051752   2.158473  ] Co Co\n",
      "24 [0.5     0.23856 0.     ] [ 2.51899350e+00  1.95786383e+00 -4.44089210e-16] Co Co\n",
      "19 [0.      0.26144 0.5    ] [3.33066907e-16 2.14564017e+00 4.31694600e+00] Co Co\n"
     ]
    }
   ],
   "source": [
    "for num,idx in enumerate([0,8,3,10,11,6,7,14,15,22,17,24,19]):\n",
    "    print(idx, conv.frac_coords[idx], prim.cart_coords[num], conv.species[idx], prim.species[num])"
   ]
  },
  {
   "cell_type": "code",
   "execution_count": 184,
   "metadata": {},
   "outputs": [
    {
     "name": "stdout",
     "output_type": "stream",
     "text": [
      "0 [0. 0. 0.]\n",
      "1 [0.5 0.5 0.5]\n",
      "2 [0.5      0.       0.811228]\n",
      "3 [0.5      0.       0.188772]\n",
      "4 [0.5      0.158796 0.5     ]\n",
      "5 [0.5      0.841204 0.5     ]\n",
      "6 [0.      0.      0.65413]\n",
      "7 [0.      0.      0.34587]\n",
      "8 [0.       0.5      0.311228]\n",
      "9 [0.       0.5      0.688772]\n",
      "10 [0.       0.658796 0.      ]\n",
      "11 [0.       0.341204 0.      ]\n",
      "12 [0.5     0.5     0.15413]\n",
      "13 [0.5     0.5     0.84587]\n",
      "14 [0.75 0.25 0.25]\n",
      "15 [0.25 0.75 0.25]\n",
      "16 [0.75 0.75 0.25]\n",
      "17 [0.25 0.25 0.25]\n",
      "18 [0.      0.73856 0.5    ]\n",
      "19 [0.      0.26144 0.5    ]\n",
      "20 [0.25 0.75 0.75]\n",
      "21 [0.75 0.25 0.75]\n",
      "22 [0.25 0.25 0.75]\n",
      "23 [0.75 0.75 0.75]\n",
      "24 [0.5     0.23856 0.     ]\n",
      "25 [0.5     0.76144 0.     ]\n"
     ]
    }
   ],
   "source": [
    "for i in range(conv.frac_coords.shape[0]):\n",
    "    print(i,conv.frac_coords[i])"
   ]
  },
  {
   "cell_type": "code",
   "execution_count": 185,
   "metadata": {},
   "outputs": [
    {
     "data": {
      "text/plain": [
       "Structure Summary\n",
       "Lattice\n",
       "    abc : 5.037987 8.207007999420705 8.633891998414189\n",
       " angles : 90.0 90.0 90.0\n",
       " volume : 356.98380231261984\n",
       "      A : 5.037987 0.0 3.0848773268479883e-16\n",
       "      B : 1.3197875449945775e-15 8.207007999420705 5.025343038533645e-16\n",
       "      C : 0.0 0.0 8.633891998414189\n",
       "    pbc : True True True\n",
       "PeriodicSite: Y (0.0, 0.0, 0.0) [0.0, 0.0, 0.0]\n",
       "PeriodicSite: Y (2.519, 4.104, 4.317) [0.5, 0.5, 0.5]\n",
       "PeriodicSite: Ga (2.519, 0.0, 7.004) [0.5, 0.0, 0.8112]\n",
       "PeriodicSite: Ga (2.519, 0.0, 1.63) [0.5, 0.0, 0.1888]\n",
       "PeriodicSite: Ga (2.519, 1.303, 4.317) [0.5, 0.1588, 0.5]\n",
       "PeriodicSite: Ga (2.519, 6.904, 4.317) [0.5, 0.8412, 0.5]\n",
       "PeriodicSite: Ga (0.0, 0.0, 5.648) [0.0, 0.0, 0.6541]\n",
       "PeriodicSite: Ga (0.0, 0.0, 2.986) [0.0, 0.0, 0.3459]\n",
       "PeriodicSite: Ga (6.599e-16, 4.104, 2.687) [0.0, 0.5, 0.3112]\n",
       "PeriodicSite: Ga (6.599e-16, 4.104, 5.947) [0.0, 0.5, 0.6888]\n",
       "PeriodicSite: Ga (8.695e-16, 5.407, 3.311e-16) [0.0, 0.6588, 0.0]\n",
       "PeriodicSite: Ga (4.503e-16, 2.8, 1.715e-16) [0.0, 0.3412, 0.0]\n",
       "PeriodicSite: Ga (2.519, 4.104, 1.331) [0.5, 0.5, 0.1541]\n",
       "PeriodicSite: Ga (2.519, 4.104, 7.303) [0.5, 0.5, 0.8459]\n",
       "PeriodicSite: Co (3.778, 2.052, 2.158) [0.75, 0.25, 0.25]\n",
       "PeriodicSite: Co (1.259, 6.155, 2.158) [0.25, 0.75, 0.25]\n",
       "PeriodicSite: Co (3.778, 6.155, 2.158) [0.75, 0.75, 0.25]\n",
       "PeriodicSite: Co (1.259, 2.052, 2.158) [0.25, 0.25, 0.25]\n",
       "PeriodicSite: Co (9.747e-16, 6.061, 4.317) [0.0, 0.7386, 0.5]\n",
       "PeriodicSite: Co (3.45e-16, 2.146, 4.317) [0.0, 0.2614, 0.5]\n",
       "PeriodicSite: Co (1.259, 6.155, 6.475) [0.25, 0.75, 0.75]\n",
       "PeriodicSite: Co (3.778, 2.052, 6.475) [0.75, 0.25, 0.75]\n",
       "PeriodicSite: Co (1.259, 2.052, 6.475) [0.25, 0.25, 0.75]\n",
       "PeriodicSite: Co (3.778, 6.155, 6.475) [0.75, 0.75, 0.75]\n",
       "PeriodicSite: Co (2.519, 1.958, 2.741e-16) [0.5, 0.2386, 0.0]\n",
       "PeriodicSite: Co (2.519, 6.249, 5.369e-16) [0.5, 0.7614, 0.0]"
      ]
     },
     "execution_count": 185,
     "metadata": {},
     "output_type": "execute_result"
    }
   ],
   "source": [
    "conv"
   ]
  },
  {
   "cell_type": "code",
   "execution_count": 186,
   "metadata": {},
   "outputs": [],
   "source": [
    "def periodic_norm_frac(a, b):\n",
    "    mirror = [(i, j, k) for i in [-1, 0, 1] for j in [-1, 0, 1] for k in [-1, 0, 1]]\n",
    "    mirror = np.array(mirror).reshape(-1, 1, 3)\n",
    "    a = np.array(a)\n",
    "    b = np.array(b)\n",
    "    b_mirror = b.reshape(1, -1, 3) + mirror\n",
    "    dist = np.linalg.norm(\n",
    "        a.reshape(1, 1, -1, 3).repeat(27, axis=0) - b_mirror.reshape(27, -1, 1, 3), axis=3\n",
    "    )\n",
    "    dist_min = np.min(dist, axis=0)\n",
    "    dist_argmin = dist.argmin(axis=0)\n",
    "    row_indices, col_indices = linear_sum_assignment(dist_min)\n",
    "    return {\n",
    "        \"distances\": dist_min[row_indices, col_indices],\n",
    "        \"indices\": np.stack([row_indices, col_indices]),\n",
    "        \"target_pos\": b_mirror[dist_argmin[row_indices, col_indices], col_indices],\n",
    "    }"
   ]
  }
 ],
 "metadata": {
  "kernelspec": {
   "display_name": ".venv",
   "language": "python",
   "name": "python3"
  },
  "language_info": {
   "codemirror_mode": {
    "name": "ipython",
    "version": 3
   },
   "file_extension": ".py",
   "mimetype": "text/x-python",
   "name": "python",
   "nbconvert_exporter": "python",
   "pygments_lexer": "ipython3",
   "version": "3.10.15"
  }
 },
 "nbformat": 4,
 "nbformat_minor": 2
}
