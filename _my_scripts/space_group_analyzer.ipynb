{
 "cells": [
  {
   "cell_type": "code",
   "execution_count": 9,
   "metadata": {},
   "outputs": [],
   "source": [
    "import pandas as pd\n",
    "from pymatgen.io.cif import CifParser\n",
    "from pyxtal import pyxtal\n",
    "from pymatgen.symmetry.analyzer import SpacegroupAnalyzer\n"
   ]
  },
  {
   "cell_type": "code",
   "execution_count": 2,
   "metadata": {},
   "outputs": [],
   "source": [
    "csv_path = \"/home/holywater2/crystal_gen/mattergen/datasets/alex_mp_20\""
   ]
  },
  {
   "cell_type": "code",
   "execution_count": 3,
   "metadata": {},
   "outputs": [],
   "source": [
    "df = pd.read_csv(csv_path + \"/val.csv\")"
   ]
  },
  {
   "cell_type": "code",
   "execution_count": 4,
   "metadata": {},
   "outputs": [
    {
     "data": {
      "text/plain": [
       "\"# generated using pymatgen\\ndata_Ho3Pd4\\n_symmetry_space_group_name_H-M   'P 1'\\n_cell_length_a   5.74995063\\n_cell_length_b   7.85273876\\n_cell_length_c   7.85273876\\n_cell_angle_alpha   114.24515457\\n_cell_angle_beta   104.12712300\\n_cell_angle_gamma   104.12712300\\n_symmetry_Int_Tables_number   1\\n_chemical_formula_structural   Ho3Pd4\\n_chemical_formula_sum   'Ho6 Pd8'\\n_cell_volume   288.77694651\\n_cell_formula_units_Z   2\\nloop_\\n _symmetry_equiv_pos_site_id\\n _symmetry_equiv_pos_as_xyz\\n  1  'x, y, z'\\nloop_\\n _atom_site_type_symbol\\n _atom_site_label\\n _atom_site_symmetry_multiplicity\\n _atom_site_fract_x\\n _atom_site_fract_y\\n _atom_site_fract_z\\n _atom_site_occupancy\\n  Ho  Ho0  1  0.27521594  0.87038120  0.25129853  1\\n  Ho  Ho1  1  0.40483475  0.38091733  0.12961880  1\\n  Ho  Ho2  1  0.02391741  0.74870147  0.61908267  1\\n  Ho  Ho3  1  0.72478406  0.12961880  0.74870147  1\\n  Ho  Ho4  1  0.59516525  0.61908267  0.87038120  1\\n  Ho  Ho5  1  0.97608259  0.25129853  0.38091733  1\\n  Pd  Pd6  1  0.00000000  0.00000000  0.00000000  1\\n  Pd  Pd7  1  0.50000000  1.00000000  1.00000000  1\\n  Pd  Pd8  1  0.54915305  0.31994846  0.48519378  1\\n  Pd  Pd9  1  0.22920459  0.16524532  0.68005154  1\\n  Pd  Pd10  1  0.06395927  0.51480622  0.83475468  1\\n  Pd  Pd11  1  0.45084695  0.68005154  0.51480622  1\\n  Pd  Pd12  1  0.77079541  0.83475468  0.31994846  1\\n  Pd  Pd13  1  0.93604073  0.48519378  0.16524532  1\\n\""
      ]
     },
     "execution_count": 4,
     "metadata": {},
     "output_type": "execute_result"
    }
   ],
   "source": [
    "df.cif[0]"
   ]
  },
  {
   "cell_type": "code",
   "execution_count": 5,
   "metadata": {},
   "outputs": [
    {
     "name": "stderr",
     "output_type": "stream",
     "text": [
      "/tmp/ipykernel_1910131/2486049076.py:1: FutureWarning: get_structures is deprecated; use parse_structures in pymatgen.io.cif instead.\n",
      "The only difference is that primitive defaults to False in the new parse_structures method.So parse_structures(primitive=True) is equivalent to the old behavior of get_structures().\n",
      "  sturctures = CifParser.from_str(df.cif[0]).get_structures()[0]\n"
     ]
    }
   ],
   "source": [
    "sturctures = CifParser.from_str(df.cif[0]).get_structures()[0]"
   ]
  },
  {
   "cell_type": "code",
   "execution_count": null,
   "metadata": {},
   "outputs": [],
   "source": [
    "def get_symmetry_info(crystal, tol=0.01):\n",
    "    spga = SpacegroupAnalyzer(crystal, symprec=tol)\n",
    "    crystal = spga.get_refined_structure()\n",
    "    c = pyxtal()\n",
    "    try:\n",
    "        c.from_seed(crystal, tol=0.01)\n",
    "    except:\n",
    "        c.from_seed(crystal, tol=0.0001)\n",
    "    space_group = c.group.number\n",
    "    species = []\n",
    "    anchors = []\n",
    "    matrices = []\n",
    "    coords = []\n",
    "    for site in c.atom_sites:\n",
    "        specie = site.specie\n",
    "        anchor = len(matrices)\n",
    "        coord = site.position\n",
    "        for syms in site.wp:\n",
    "            species.append(specie)\n",
    "            matrices.append(syms.affine_matrix)\n",
    "            coords.append(syms.operate(coord))\n",
    "            anchors.append(anchor)\n",
    "    anchors = np.array(anchors)\n",
    "    matrices = np.array(matrices)\n",
    "    coords = np.array(coords) % 1.\n",
    "    sym_info = {\n",
    "        'anchors':anchors,\n",
    "        'wyckoff_ops':matrices,\n",
    "        'spacegroup':space_group\n",
    "    }\n",
    "    crystal = Structure(\n",
    "        lattice=Lattice.from_parameters(*np.array(c.lattice.get_para(degree=True))),\n",
    "        species=species,\n",
    "        coords=coords,\n",
    "        coords_are_cartesian=False,\n",
    "    )\n",
    "    return crystal, sym_info\n"
   ]
  },
  {
   "cell_type": "code",
   "execution_count": 10,
   "metadata": {},
   "outputs": [],
   "source": [
    "c = pyxtal()"
   ]
  },
  {
   "cell_type": "code",
   "execution_count": 11,
   "metadata": {},
   "outputs": [],
   "source": [
    "c.from_seed(sturctures, tol=0.01)"
   ]
  },
  {
   "cell_type": "code",
   "execution_count": 40,
   "metadata": {},
   "outputs": [
    {
     "data": {
      "text/plain": [
       "Structure Summary\n",
       "Lattice\n",
       "    abc : 5.74995063 7.85273876 7.85273876\n",
       " angles : 114.24515456999998 104.127123 104.127123\n",
       " volume : 288.77694645306684\n",
       "      A : 5.576052474024184 0.0 -1.4034140708879075\n",
       "      B : -2.7880262338170163 6.5949957177590015 -3.2246623443540385\n",
       "      C : 0.0 0.0 7.85273876\n",
       "    pbc : True True True\n",
       "PeriodicSite: Ho0 (Ho) (-0.892, 5.74, -1.22) [0.2752, 0.8704, 0.2513]\n",
       "PeriodicSite: Ho1 (Ho) (1.195, 2.512, -0.7786) [0.4048, 0.3809, 0.1296]\n",
       "PeriodicSite: Ho2 (Ho) (-1.954, 4.938, 2.414) [0.02392, 0.7487, 0.6191]\n",
       "PeriodicSite: Ho3 (Ho) (3.68, 0.8548, 4.444) [0.7248, 0.1296, 0.7487]\n",
       "PeriodicSite: Ho4 (Ho) (1.593, 4.083, 4.003) [0.5952, 0.6191, 0.8704]\n",
       "PeriodicSite: Ho5 (Ho) (4.742, 1.657, 0.811) [0.9761, 0.2513, 0.3809]\n",
       "PeriodicSite: Pd6 (Pd) (0.0, 0.0, 0.0) [0.0, 0.0, 0.0]\n",
       "PeriodicSite: Pd7 (Pd) (2.788, 0.0, -0.7017) [0.5, 0.0, 0.0]\n",
       "PeriodicSite: Pd8 (Pd) (2.17, 2.11, 2.008) [0.5492, 0.3199, 0.4852]\n",
       "PeriodicSite: Pd9 (Pd) (0.8173, 1.09, 4.486) [0.2292, 0.1652, 0.6801]\n",
       "PeriodicSite: Pd10 (Pd) (-1.079, 3.395, 4.805) [0.06396, 0.5148, 0.8348]\n",
       "PeriodicSite: Pd11 (Pd) (0.6179, 4.485, 1.217) [0.4508, 0.6801, 0.5148]\n",
       "PeriodicSite: Pd12 (Pd) (1.971, 5.505, -1.261) [0.7708, 0.8348, 0.3199]\n",
       "PeriodicSite: Pd13 (Pd) (3.867, 3.2, -1.581) [0.936, 0.4852, 0.1652]"
      ]
     },
     "execution_count": 40,
     "metadata": {},
     "output_type": "execute_result"
    }
   ],
   "source": [
    "sturctures"
   ]
  },
  {
   "cell_type": "code",
   "execution_count": 36,
   "metadata": {},
   "outputs": [
    {
     "data": {
      "text/plain": [
       "\n",
       "------Crystal from Seed------\n",
       "Dimension: 3\n",
       "Composition: Ho18Pd24\n",
       "Group: R -3:H (148)\n",
       " 13.1900,  13.1900,   5.7500,  90.0000,  90.0000, 120.0000, trigonal\n",
       "Wyckoff sites:\n",
       "\tHo @ [ 0.3739  0.8774  0.9013], WP [18f] Site [1]\n",
       "\tPd @ [ 0.0000  0.0000  0.0000], WP [3a] Site [-3.]\n",
       "\tPd @ [ 0.0000  0.0000  0.5000], WP [3b] Site [-3.]\n",
       "\tPd @ [ 0.2684  0.2168  0.2808], WP [18f] Site [1]"
      ]
     },
     "execution_count": 36,
     "metadata": {},
     "output_type": "execute_result"
    }
   ],
   "source": [
    "c"
   ]
  },
  {
   "cell_type": "code",
   "execution_count": null,
   "metadata": {},
   "outputs": [],
   "source": [
    "c.to_file"
   ]
  },
  {
   "cell_type": "code",
   "execution_count": 35,
   "metadata": {},
   "outputs": [],
   "source": [
    "rs = SpacegroupAnalyzer(sturctures).get_refined_structure()"
   ]
  },
  {
   "cell_type": "code",
   "execution_count": 39,
   "metadata": {},
   "outputs": [
    {
     "data": {
      "text/plain": [
       "Structure Summary\n",
       "Lattice\n",
       "    abc : 13.189991434672992 13.189991434672992 5.74995063\n",
       " angles : 90.0 90.0 120.00000000000001\n",
       " volume : 866.3308393221997\n",
       "      A : 13.189991434672992 0.0 0.0\n",
       "      B : -6.594995717336496 11.422867658125964 0.0\n",
       "      C : 0.0 0.0 5.74995063\n",
       "    pbc : True True True\n",
       "PeriodicSite: Ho (-0.8548, 10.02, 5.183) [0.3739, 0.8774, 0.9013]\n",
       "PeriodicSite: Ho (-4.083, 10.96, 1.349) [0.1702, 0.9594, 0.2347]\n",
       "PeriodicSite: Ho (4.938, 1.864, 3.266) [0.4559, 0.1632, 0.568]\n",
       "PeriodicSite: Ho (0.8548, 5.208, 2.484) [0.2928, 0.4559, 0.432]\n",
       "PeriodicSite: Ho (4.083, 4.271, 0.5674) [0.4965, 0.3739, 0.09868]\n",
       "PeriodicSite: Ho (1.657, 1.944, 4.401) [0.2107, 0.1702, 0.7653]\n",
       "PeriodicSite: Ho (-0.8548, 2.407, 1.349) [0.04056, 0.2107, 0.2347]\n",
       "PeriodicSite: Ho (9.107, 3.344, 3.266) [0.8368, 0.2928, 0.568]\n",
       "PeriodicSite: Ho (-1.657, 5.671, 5.183) [0.1226, 0.4965, 0.9013]\n",
       "PeriodicSite: Ho (7.45, 9.016, 4.401) [0.9594, 0.7893, 0.7653]\n",
       "PeriodicSite: Ho (-2.512, 8.079, 2.484) [0.1632, 0.7072, 0.432]\n",
       "PeriodicSite: Ho (8.252, 5.752, 0.5674) [0.8774, 0.5035, 0.09868]\n",
       "PeriodicSite: Ho (5.74, 6.215, 3.266) [0.7072, 0.5441, 0.568]\n",
       "PeriodicSite: Ho (2.512, 7.152, 5.183) [0.5035, 0.6261, 0.9013]\n",
       "PeriodicSite: Ho (4.938, 9.479, 1.349) [0.7893, 0.8298, 0.2347]\n",
       "PeriodicSite: Ho (7.45, 1.4, 0.5674) [0.6261, 0.1226, 0.09868]\n",
       "PeriodicSite: Ho (10.68, 0.4633, 4.401) [0.8298, 0.04056, 0.7653]\n",
       "PeriodicSite: Ho (1.657, 9.559, 2.484) [0.5441, 0.8368, 0.432]\n",
       "PeriodicSite: Pd (0.0, 0.0, 0.0) [0.0, 0.0, 0.0]\n",
       "PeriodicSite: Pd (0.0, 0.0, 2.875) [0.0, 0.0, 0.5]\n",
       "PeriodicSite: Pd (2.11, 2.477, 1.614) [0.2684, 0.2168, 0.2808]\n",
       "PeriodicSite: Pd (1.09, 4.55, 5.448) [0.2818, 0.3983, 0.9474]\n",
       "PeriodicSite: Pd (3.395, 4.397, 3.531) [0.4499, 0.3849, 0.6141]\n",
       "PeriodicSite: Pd (4.485, 1.331, 0.3022) [0.3983, 0.1165, 0.05256]\n",
       "PeriodicSite: Pd (-1.09, 10.68, 2.219) [0.3849, 0.935, 0.3859]\n",
       "PeriodicSite: Pd (-3.395, 10.83, 4.136) [0.2168, 0.9484, 0.7192]\n",
       "PeriodicSite: Pd (6.595, 3.808, 1.917) [0.6667, 0.3333, 0.3333]\n",
       "PeriodicSite: Pd (6.595, 3.808, 4.792) [0.6667, 0.3333, 0.8333]\n",
       "PeriodicSite: Pd (8.705, 6.284, 3.531) [0.935, 0.5501, 0.6141]\n",
       "PeriodicSite: Pd (7.685, 8.357, 1.614) [0.9484, 0.7316, 0.2808]\n",
       "PeriodicSite: Pd (-3.2, 8.204, 5.448) [0.1165, 0.7182, 0.9474]\n",
       "PeriodicSite: Pd (-2.11, 5.139, 2.219) [0.06495, 0.4499, 0.3859]\n",
       "PeriodicSite: Pd (-1.09, 3.066, 4.136) [0.05157, 0.2684, 0.7192]\n",
       "PeriodicSite: Pd (9.795, 3.219, 0.3022) [0.8835, 0.2818, 0.05256]\n",
       "PeriodicSite: Pd (0.0, 7.615, 3.833) [0.3333, 0.6667, 0.6667]\n",
       "PeriodicSite: Pd (0.0, 7.615, 0.9583) [0.3333, 0.6667, 0.1667]\n",
       "PeriodicSite: Pd (2.11, 10.09, 5.448) [0.6017, 0.8835, 0.9474]\n",
       "PeriodicSite: Pd (7.685, 0.7419, 3.531) [0.6151, 0.06495, 0.6141]\n",
       "PeriodicSite: Pd (9.99, 0.5891, 1.614) [0.7832, 0.05157, 0.2808]\n",
       "PeriodicSite: Pd (4.485, 8.946, 4.136) [0.7316, 0.7832, 0.7192]\n",
       "PeriodicSite: Pd (5.505, 6.873, 0.3022) [0.7182, 0.6017, 0.05256]\n",
       "PeriodicSite: Pd (3.2, 7.026, 2.219) [0.5501, 0.6151, 0.3859]"
      ]
     },
     "execution_count": 39,
     "metadata": {},
     "output_type": "execute_result"
    }
   ],
   "source": [
    "rs"
   ]
  },
  {
   "cell_type": "code",
   "execution_count": 30,
   "metadata": {},
   "outputs": [],
   "source": [
    "d = pyxtal()"
   ]
  },
  {
   "cell_type": "code",
   "execution_count": 37,
   "metadata": {},
   "outputs": [],
   "source": [
    "d.from_seed(rs, tol=0.01)"
   ]
  },
  {
   "cell_type": "code",
   "execution_count": 38,
   "metadata": {},
   "outputs": [
    {
     "data": {
      "text/plain": [
       "\n",
       "------Crystal from Seed------\n",
       "Dimension: 3\n",
       "Composition: Ho18Pd24\n",
       "Group: R -3:H (148)\n",
       " 13.1900,  13.1900,   5.7500,  90.0000,  90.0000, 120.0000, trigonal\n",
       "Wyckoff sites:\n",
       "\tHo @ [ 0.0406  0.2107  0.2347], WP [18f] Site [1]\n",
       "\tPd @ [ 0.0000  0.0000  0.0000], WP [3a] Site [-3.]\n",
       "\tPd @ [ 0.0000  0.0000  0.5000], WP [3b] Site [-3.]\n",
       "\tPd @ [ 0.2684  0.2168  0.2808], WP [18f] Site [1]"
      ]
     },
     "execution_count": 38,
     "metadata": {},
     "output_type": "execute_result"
    }
   ],
   "source": [
    "d"
   ]
  },
  {
   "cell_type": "code",
   "execution_count": 13,
   "metadata": {},
   "outputs": [
    {
     "name": "stdout",
     "output_type": "stream",
     "text": [
      "Ho Wyckoff position 18f in space group 148 with site symmetry 1\n",
      "x, y, z\n",
      "-y, x-y, z\n",
      "-x+y, -x, z\n",
      "-x, -y, -z\n",
      "y, -x+y, -z\n",
      "x-y, x, -z\n",
      "x+2/3, y+1/3, z+1/3\n",
      "-y+2/3, x-y+1/3, z+1/3\n",
      "-x+y+2/3, -x+1/3, z+1/3\n",
      "-x+2/3, -y+1/3, -z+1/3\n",
      "y+2/3, -x+y+1/3, -z+1/3\n",
      "x-y+2/3, x+1/3, -z+1/3\n",
      "x+1/3, y+2/3, z+2/3\n",
      "-y+1/3, x-y+2/3, z+2/3\n",
      "-x+y+1/3, -x+2/3, z+2/3\n",
      "-x+1/3, -y+2/3, -z+2/3\n",
      "y+1/3, -x+y+2/3, -z+2/3\n",
      "x-y+1/3, x+2/3, -z+2/3\n",
      "Pd Wyckoff position 3a in space group 148 with site symmetry -3.\n",
      "0, 0, 0\n",
      "2/3, 1/3, 1/3\n",
      "1/3, 2/3, 2/3\n",
      "Pd Wyckoff position 3b in space group 148 with site symmetry -3.\n",
      "0, 0, 1/2\n",
      "2/3, 1/3, 5/6\n",
      "1/3, 2/3, 7/6\n",
      "Pd Wyckoff position 18f in space group 148 with site symmetry 1\n",
      "x, y, z\n",
      "-y, x-y, z\n",
      "-x+y, -x, z\n",
      "-x, -y, -z\n",
      "y, -x+y, -z\n",
      "x-y, x, -z\n",
      "x+2/3, y+1/3, z+1/3\n",
      "-y+2/3, x-y+1/3, z+1/3\n",
      "-x+y+2/3, -x+1/3, z+1/3\n",
      "-x+2/3, -y+1/3, -z+1/3\n",
      "y+2/3, -x+y+1/3, -z+1/3\n",
      "x-y+2/3, x+1/3, -z+1/3\n",
      "x+1/3, y+2/3, z+2/3\n",
      "-y+1/3, x-y+2/3, z+2/3\n",
      "-x+y+1/3, -x+2/3, z+2/3\n",
      "-x+1/3, -y+2/3, -z+2/3\n",
      "y+1/3, -x+y+2/3, -z+2/3\n",
      "x-y+1/3, x+2/3, -z+2/3\n"
     ]
    }
   ],
   "source": [
    "species = []\n",
    "anchors = []\n",
    "matrices = []\n",
    "coords = []\n",
    "for site in c.atom_sites:\n",
    "    print(site.specie, site.wp)\n",
    "    specie = site.specie\n",
    "    anchor = len(matrices)\n",
    "    coord = site.position\n",
    "    \n",
    "    "
   ]
  },
  {
   "cell_type": "code",
   "execution_count": 28,
   "metadata": {},
   "outputs": [],
   "source": [
    "sym = SpacegroupAnalyzer(sturctures).get_symmetrized_structure()"
   ]
  },
  {
   "cell_type": "code",
   "execution_count": 31,
   "metadata": {},
   "outputs": [
    {
     "data": {
      "text/plain": [
       "SymmetrizedStructure\n",
       "Full Formula (Ho6 Pd8)\n",
       "Reduced Formula: Ho3Pd4\n",
       "Spacegroup: R-3 (148)\n",
       "abc   :   5.749951   7.852739   7.852739\n",
       "angles: 114.245155 104.127123 104.127123\n",
       "Sites (14)\n",
       "  #  SP           a         b         c  Wyckoff\n",
       "---  ----  --------  --------  --------  ---------\n",
       "  0  Ho    0.275216  0.870381  0.251299  6f\n",
       "  1  Pd    0         0         0         1a\n",
       "  2  Pd    0.5       0         0         1b\n",
       "  3  Pd    0.549153  0.319948  0.485194  6f"
      ]
     },
     "execution_count": 31,
     "metadata": {},
     "output_type": "execute_result"
    }
   ],
   "source": [
    "sym"
   ]
  },
  {
   "cell_type": "code",
   "execution_count": 48,
   "metadata": {},
   "outputs": [
    {
     "data": {
      "text/plain": [
       "['6f', '1a', '1b', '6f']"
      ]
     },
     "execution_count": 48,
     "metadata": {},
     "output_type": "execute_result"
    }
   ],
   "source": [
    "sym.wyckoff_symbols"
   ]
  },
  {
   "cell_type": "code",
   "execution_count": 49,
   "metadata": {},
   "outputs": [
    {
     "ename": "AttributeError",
     "evalue": "'SymmetrizedStructure' object has no attribute 'get_symmetry_operations'",
     "output_type": "error",
     "traceback": [
      "\u001b[0;31m---------------------------------------------------------------------------\u001b[0m",
      "\u001b[0;31mAttributeError\u001b[0m                            Traceback (most recent call last)",
      "Cell \u001b[0;32mIn[49], line 1\u001b[0m\n\u001b[0;32m----> 1\u001b[0m sym\u001b[38;5;241m.\u001b[39mapply_operation(\u001b[43msym\u001b[49m\u001b[38;5;241;43m.\u001b[39;49m\u001b[43mget_symmetry_operations\u001b[49m()[\u001b[38;5;241m0\u001b[39m])\n",
      "\u001b[0;31mAttributeError\u001b[0m: 'SymmetrizedStructure' object has no attribute 'get_symmetry_operations'"
     ]
    }
   ],
   "source": []
  },
  {
   "cell_type": "code",
   "execution_count": 43,
   "metadata": {},
   "outputs": [
    {
     "data": {
      "text/plain": [
       "14"
      ]
     },
     "execution_count": 43,
     "metadata": {},
     "output_type": "execute_result"
    }
   ],
   "source": [
    "len(sym)"
   ]
  },
  {
   "cell_type": "code",
   "execution_count": 36,
   "metadata": {},
   "outputs": [
    {
     "data": {
      "text/plain": [
       "[PeriodicSite: Ho0 (Ho) (-0.892, 5.74, -1.22) [0.2752, 0.8704, 0.2513],\n",
       " PeriodicSite: Ho1 (Ho) (1.195, 2.512, -0.7786) [0.4048, 0.3809, 0.1296],\n",
       " PeriodicSite: Ho2 (Ho) (-1.954, 4.938, 2.414) [0.02392, 0.7487, 0.6191],\n",
       " PeriodicSite: Ho3 (Ho) (3.68, 0.8548, 4.444) [0.7248, 0.1296, 0.7487],\n",
       " PeriodicSite: Ho4 (Ho) (1.593, 4.083, 4.003) [0.5952, 0.6191, 0.8704],\n",
       " PeriodicSite: Ho5 (Ho) (4.742, 1.657, 0.811) [0.9761, 0.2513, 0.3809]]"
      ]
     },
     "execution_count": 36,
     "metadata": {},
     "output_type": "execute_result"
    }
   ],
   "source": [
    "sym.find_equivalent_sites(sym[0])"
   ]
  },
  {
   "cell_type": "code",
   "execution_count": 38,
   "metadata": {},
   "outputs": [],
   "source": [
    "spa = SpacegroupAnalyzer(sym)"
   ]
  },
  {
   "cell_type": "code",
   "execution_count": 40,
   "metadata": {},
   "outputs": [
    {
     "data": {
      "text/plain": [
       "[SymmOp(self.affine_matrix=array([[1., 0., 0., 0.],\n",
       "        [0., 1., 0., 0.],\n",
       "        [0., 0., 1., 0.],\n",
       "        [0., 0., 0., 1.]])),\n",
       " SymmOp(self.affine_matrix=array([[-1.,  0.,  0.,  0.],\n",
       "        [ 0., -1.,  0.,  0.],\n",
       "        [ 0.,  0., -1.,  0.],\n",
       "        [ 0.,  0.,  0.,  1.]])),\n",
       " SymmOp(self.affine_matrix=array([[ 1.,  0., -1.,  0.],\n",
       "        [ 0.,  0., -1.,  0.],\n",
       "        [ 0.,  1., -1.,  0.],\n",
       "        [ 0.,  0.,  0.,  1.]])),\n",
       " SymmOp(self.affine_matrix=array([[-1.,  0.,  1.,  0.],\n",
       "        [ 0.,  0.,  1.,  0.],\n",
       "        [ 0., -1.,  1.,  0.],\n",
       "        [ 0.,  0.,  0.,  1.]])),\n",
       " SymmOp(self.affine_matrix=array([[ 1., -1.,  0.,  0.],\n",
       "        [ 0., -1.,  1.,  0.],\n",
       "        [ 0., -1.,  0.,  0.],\n",
       "        [ 0.,  0.,  0.,  1.]])),\n",
       " SymmOp(self.affine_matrix=array([[-1.,  1.,  0.,  0.],\n",
       "        [ 0.,  1., -1.,  0.],\n",
       "        [ 0.,  1.,  0.,  0.],\n",
       "        [ 0.,  0.,  0.,  1.]]))]"
      ]
     },
     "execution_count": 40,
     "metadata": {},
     "output_type": "execute_result"
    }
   ],
   "source": [
    "spa.get_space_group_operations()"
   ]
  },
  {
   "cell_type": "code",
   "execution_count": null,
   "metadata": {},
   "outputs": [],
   "source": [
    "s"
   ]
  }
 ],
 "metadata": {
  "kernelspec": {
   "display_name": ".venv",
   "language": "python",
   "name": "python3"
  },
  "language_info": {
   "codemirror_mode": {
    "name": "ipython",
    "version": 3
   },
   "file_extension": ".py",
   "mimetype": "text/x-python",
   "name": "python",
   "nbconvert_exporter": "python",
   "pygments_lexer": "ipython3",
   "version": "3.10.15"
  }
 },
 "nbformat": 4,
 "nbformat_minor": 2
}
